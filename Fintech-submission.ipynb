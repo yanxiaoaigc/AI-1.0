{
 "cells": [
  {
   "cell_type": "code",
   "execution_count": 1,
   "metadata": {},
   "outputs": [],
   "source": [
    "import pandas as pd\n",
    "import matplotlib.pyplot as plt\n",
    "import seaborn as sns\n",
    "import numpy as np\n",
    "import warnings\n",
    "warnings.filterwarnings('ignore')\n",
    "%matplotlib inline\n",
    "\n",
    "train_behavior_all=pd.read_csv('zhaohang/train_beh_final.csv')\n",
    "train_tag=pd.read_csv('zhaohang/train/train_tag.csv')\n",
    "train_trade_all=pd.read_csv('zhaohang/train_trd_final.csv')\n",
    "test_behavior_all=pd.read_csv('zhaohang/test_beh_final.csv')\n",
    "test_tag=pd.read_csv('zhaohang/test/test_tag.csv')\n",
    "test_trade_all=pd.read_csv('zhaohang/test_trd_final.csv')"
   ]
  },
  {
   "cell_type": "code",
   "execution_count": 2,
   "metadata": {},
   "outputs": [],
   "source": [
    "from numpy import nan as NaN\n",
    "train_tag=train_tag.replace(r'\\N', NaN)\n",
    "test_tag=test_tag.replace(r'\\N', NaN)\n",
    "# train_tag.info()\n",
    "# train_tag.isnull().sum()\n",
    "# test_tag.isnull().sum()\n",
    "# #弃掉三个特征 缺失太多"
   ]
  },
  {
   "cell_type": "code",
   "execution_count": 3,
   "metadata": {},
   "outputs": [],
   "source": [
    "delete1=['edu_deg_cd','deg_cd','atdd_type']\n",
    "train_tag=train_tag.drop(delete1,axis=1)\n",
    "test_tag=test_tag.drop(delete1,axis=1)\n",
    "#train_tag.info()"
   ]
  },
  {
   "cell_type": "code",
   "execution_count": 4,
   "metadata": {},
   "outputs": [],
   "source": [
    "ID=test_tag['id']"
   ]
  },
  {
   "cell_type": "code",
   "execution_count": 5,
   "metadata": {},
   "outputs": [],
   "source": [
    "# for j in list_test_trd_id:\n",
    "#     cur_test_trd=test_trade.loc[test_trade.id==j]\n",
    "#     income=-int(cur_test_trd.loc[cur_test_trd.Dat_Flg1_Cd=='C'].cny_trx_amt.sum())\n",
    "#     out_A=-int(cur_test_trd.loc[(cur_test_trd.Dat_Flg1_Cd=='B')&(cur_test_trd.Dat_Flg3_Cd=='A')].cny_trx_amt.sum())\n",
    "#     out_B=-int(cur_test_trd.loc[(cur_test_trd.Dat_Flg1_Cd=='B')&(cur_test_trd.Dat_Flg3_Cd=='B')].cny_trx_amt.sum())\n",
    "#     out_C=-int(cur_test_trd.loc[(cur_test_trd.Dat_Flg1_Cd=='B')&(cur_test_trd.Dat_Flg3_Cd=='C')].cny_trx_amt.sum())\n",
    "#     le=cur_test_trd.Trx_Cod2_Cd.mode()[0]\n",
    "    \n",
    "#     test_tag.loc[test_tag.id==j,'inc']=income\n",
    "#     test_tag.loc[test_tag.id==j,'outA']=out_A\n",
    "#     test_tag.loc[test_tag.id==j,'outB']=out_B\n",
    "#     test_tag.loc[test_tag.id==j,'outC']=out_C\n",
    "#     test_tag.loc[test_tag.id==j,'lev']=le"
   ]
  },
  {
   "cell_type": "code",
   "execution_count": 6,
   "metadata": {},
   "outputs": [],
   "source": [
    "train_tag=train_tag.merge(train_trade_all,left_on='id',right_on='id',how='outer')\n",
    "test_tag=test_tag.merge(test_trade_all,left_on='id',right_on='id',how='outer')"
   ]
  },
  {
   "cell_type": "code",
   "execution_count": 7,
   "metadata": {},
   "outputs": [],
   "source": [
    "train_tag=train_tag.merge(train_behavior_all,left_on='id',right_on='id',how='outer')\n",
    "test_tag=test_tag.merge(test_behavior_all,left_on='id',right_on='id',how='outer')"
   ]
  },
  {
   "cell_type": "code",
   "execution_count": 8,
   "metadata": {},
   "outputs": [
    {
     "name": "stdout",
     "output_type": "stream",
     "text": [
      "<class 'pandas.core.frame.DataFrame'>\n",
      "Int64Index: 39923 entries, 0 to 39922\n",
      "Data columns (total 66 columns):\n",
      " #   Column                           Non-Null Count  Dtype  \n",
      "---  ------                           --------------  -----  \n",
      " 0   id                               39923 non-null  object \n",
      " 1   flag                             39923 non-null  int64  \n",
      " 2   gdr_cd                           39187 non-null  object \n",
      " 3   age                              39923 non-null  int64  \n",
      " 4   mrg_situ_cd                      39187 non-null  object \n",
      " 5   acdm_deg_cd                      39186 non-null  object \n",
      " 6   job_year                         39430 non-null  object \n",
      " 7   ic_ind                           39430 non-null  object \n",
      " 8   fr_or_sh_ind                     39430 non-null  object \n",
      " 9   dnl_mbl_bnk_ind                  39430 non-null  object \n",
      " 10  dnl_bind_cmb_lif_ind             39430 non-null  object \n",
      " 11  hav_car_grp_ind                  39423 non-null  object \n",
      " 12  hav_hou_grp_ind                  39430 non-null  object \n",
      " 13  l6mon_agn_ind                    39423 non-null  object \n",
      " 14  frs_agn_dt_cnt                   39423 non-null  object \n",
      " 15  vld_rsk_ases_ind                 39423 non-null  object \n",
      " 16  fin_rsk_ases_grd_cd              39430 non-null  object \n",
      " 17  confirm_rsk_ases_lvl_typ_cd      39430 non-null  object \n",
      " 18  cust_inv_rsk_endu_lvl_cd         39423 non-null  object \n",
      " 19  l6mon_daim_aum_cd                39923 non-null  int64  \n",
      " 20  tot_ast_lvl_cd                   39423 non-null  object \n",
      " 21  pot_ast_lvl_cd                   39423 non-null  object \n",
      " 22  bk1_cur_year_mon_avg_agn_amt_cd  39923 non-null  int64  \n",
      " 23  l12mon_buy_fin_mng_whl_tms       39423 non-null  object \n",
      " 24  l12_mon_fnd_buy_whl_tms          39423 non-null  object \n",
      " 25  l12_mon_insu_buy_whl_tms         39423 non-null  object \n",
      " 26  l12_mon_gld_buy_whl_tms          39423 non-null  object \n",
      " 27  loan_act_ind                     39430 non-null  object \n",
      " 28  pl_crd_lmt_cd                    39923 non-null  int64  \n",
      " 29  ovd_30d_loan_tot_cnt             39430 non-null  object \n",
      " 30  his_lng_ovd_day                  39430 non-null  object \n",
      " 31  hld_crd_card_grd_cd              39430 non-null  object \n",
      " 32  crd_card_act_ind                 39423 non-null  object \n",
      " 33  l1y_crd_card_csm_amt_dlm_cd      39423 non-null  object \n",
      " 34  perm_crd_lmt_cd                  39923 non-null  int64  \n",
      " 35  cur_debit_cnt                    39923 non-null  int64  \n",
      " 36  cur_credit_cnt                   39923 non-null  int64  \n",
      " 37  cur_debit_min_opn_dt_cnt         39923 non-null  int64  \n",
      " 38  cur_credit_min_opn_dt_cnt        39923 non-null  int64  \n",
      " 39  cur_debit_crd_lvl                39923 non-null  int64  \n",
      " 40  inc                              31993 non-null  float64\n",
      " 41  outA                             31993 non-null  float64\n",
      " 42  outB                             31993 non-null  float64\n",
      " 43  outC                             31993 non-null  float64\n",
      " 44  lev                              31993 non-null  float64\n",
      " 45  inc_mean                         30102 non-null  float64\n",
      " 46  BAmean                           12525 non-null  float64\n",
      " 47  BBmean                           25171 non-null  float64\n",
      " 48  BCmean                           1060 non-null   float64\n",
      " 49  trd_frq                          31993 non-null  float64\n",
      " 50  trd1_1                           31993 non-null  float64\n",
      " 51  trd1_2                           31993 non-null  float64\n",
      " 52  trd1_3                           31993 non-null  float64\n",
      " 53  trd2_136                         31993 non-null  float64\n",
      " 54  trd2_132                         31993 non-null  float64\n",
      " 55  total_pay                        31993 non-null  float64\n",
      " 56  inorout_ind                      31993 non-null  float64\n",
      " 57  inorout_sum                      31993 non-null  float64\n",
      " 58  BA_ratio                         31993 non-null  float64\n",
      " 59  BB_ratio                         31993 non-null  float64\n",
      " 60  BC_ratio                         31993 non-null  float64\n",
      " 61  TrxCod2_ratio                    31993 non-null  float64\n",
      " 62  app                              11913 non-null  object \n",
      " 63  app_frq                          11913 non-null  float64\n",
      " 64  CQA_ratio                        11913 non-null  float64\n",
      " 65  CQE_ratio                        11913 non-null  float64\n",
      "dtypes: float64(25), int64(11), object(30)\n",
      "memory usage: 20.4+ MB\n"
     ]
    }
   ],
   "source": [
    "train_tag.info()"
   ]
  },
  {
   "cell_type": "code",
   "execution_count": 9,
   "metadata": {},
   "outputs": [
    {
     "name": "stdout",
     "output_type": "stream",
     "text": [
      "<class 'pandas.core.frame.DataFrame'>\n",
      "Int64Index: 4000 entries, 0 to 3999\n",
      "Data columns (total 65 columns):\n",
      " #   Column                           Non-Null Count  Dtype  \n",
      "---  ------                           --------------  -----  \n",
      " 0   id                               4000 non-null   object \n",
      " 1   gdr_cd                           3914 non-null   object \n",
      " 2   age                              4000 non-null   int64  \n",
      " 3   mrg_situ_cd                      3914 non-null   object \n",
      " 4   acdm_deg_cd                      3914 non-null   object \n",
      " 5   job_year                         3948 non-null   object \n",
      " 6   ic_ind                           3948 non-null   object \n",
      " 7   fr_or_sh_ind                     3948 non-null   object \n",
      " 8   dnl_mbl_bnk_ind                  3948 non-null   object \n",
      " 9   dnl_bind_cmb_lif_ind             3948 non-null   object \n",
      " 10  hav_car_grp_ind                  3948 non-null   object \n",
      " 11  hav_hou_grp_ind                  3948 non-null   object \n",
      " 12  l6mon_agn_ind                    3948 non-null   object \n",
      " 13  frs_agn_dt_cnt                   3948 non-null   object \n",
      " 14  vld_rsk_ases_ind                 3948 non-null   object \n",
      " 15  fin_rsk_ases_grd_cd              3948 non-null   object \n",
      " 16  confirm_rsk_ases_lvl_typ_cd      3948 non-null   object \n",
      " 17  cust_inv_rsk_endu_lvl_cd         3948 non-null   object \n",
      " 18  l6mon_daim_aum_cd                4000 non-null   int64  \n",
      " 19  tot_ast_lvl_cd                   3948 non-null   object \n",
      " 20  pot_ast_lvl_cd                   3948 non-null   object \n",
      " 21  bk1_cur_year_mon_avg_agn_amt_cd  4000 non-null   int64  \n",
      " 22  l12mon_buy_fin_mng_whl_tms       3948 non-null   object \n",
      " 23  l12_mon_fnd_buy_whl_tms          3948 non-null   object \n",
      " 24  l12_mon_insu_buy_whl_tms         3948 non-null   object \n",
      " 25  l12_mon_gld_buy_whl_tms          3948 non-null   object \n",
      " 26  loan_act_ind                     3948 non-null   object \n",
      " 27  pl_crd_lmt_cd                    4000 non-null   int64  \n",
      " 28  ovd_30d_loan_tot_cnt             3948 non-null   object \n",
      " 29  his_lng_ovd_day                  3948 non-null   object \n",
      " 30  hld_crd_card_grd_cd              3948 non-null   object \n",
      " 31  crd_card_act_ind                 3948 non-null   object \n",
      " 32  l1y_crd_card_csm_amt_dlm_cd      3948 non-null   object \n",
      " 33  perm_crd_lmt_cd                  4000 non-null   int64  \n",
      " 34  cur_debit_cnt                    4000 non-null   int64  \n",
      " 35  cur_credit_cnt                   4000 non-null   int64  \n",
      " 36  cur_debit_min_opn_dt_cnt         4000 non-null   int64  \n",
      " 37  cur_credit_min_opn_dt_cnt        4000 non-null   int64  \n",
      " 38  cur_debit_crd_lvl                4000 non-null   int64  \n",
      " 39  inc                              3190 non-null   float64\n",
      " 40  outA                             3190 non-null   float64\n",
      " 41  outB                             3190 non-null   float64\n",
      " 42  outC                             3190 non-null   float64\n",
      " 43  lev                              3190 non-null   float64\n",
      " 44  inc_mean                         3028 non-null   float64\n",
      " 45  BAmean                           1295 non-null   float64\n",
      " 46  BBmean                           2534 non-null   float64\n",
      " 47  BCmean                           96 non-null     float64\n",
      " 48  trd_frq                          3190 non-null   float64\n",
      " 49  trd1_1                           3190 non-null   float64\n",
      " 50  trd1_2                           3190 non-null   float64\n",
      " 51  trd1_3                           3190 non-null   float64\n",
      " 52  trd2_136                         3190 non-null   float64\n",
      " 53  trd2_132                         3190 non-null   float64\n",
      " 54  total_pay                        3190 non-null   float64\n",
      " 55  inorout_ind                      3190 non-null   float64\n",
      " 56  inorout_sum                      3190 non-null   float64\n",
      " 57  BA_ratio                         3190 non-null   float64\n",
      " 58  BB_ratio                         3190 non-null   float64\n",
      " 59  BC_ratio                         3190 non-null   float64\n",
      " 60  TrxCod2_ratio                    3190 non-null   float64\n",
      " 61  app                              1232 non-null   object \n",
      " 62  app_frq                          1232 non-null   float64\n",
      " 63  CQA_ratio                        1232 non-null   float64\n",
      " 64  CQE_ratio                        1232 non-null   float64\n",
      "dtypes: float64(25), int64(10), object(30)\n",
      "memory usage: 2.0+ MB\n"
     ]
    }
   ],
   "source": [
    "test_tag.info()"
   ]
  },
  {
   "cell_type": "code",
   "execution_count": 10,
   "metadata": {},
   "outputs": [],
   "source": [
    "#合并训练集和测试集\n",
    "test_tag['flag'] = 0\n",
    "combine = train_tag.append(test_tag) \n",
    "# combine.info()"
   ]
  },
  {
   "cell_type": "code",
   "execution_count": 11,
   "metadata": {},
   "outputs": [
    {
     "name": "stdout",
     "output_type": "stream",
     "text": [
      "<class 'pandas.core.frame.DataFrame'>\n",
      "Int64Index: 43923 entries, 0 to 3999\n",
      "Data columns (total 66 columns):\n",
      " #   Column                           Non-Null Count  Dtype  \n",
      "---  ------                           --------------  -----  \n",
      " 0   id                               43923 non-null  object \n",
      " 1   flag                             43923 non-null  int64  \n",
      " 2   gdr_cd                           43101 non-null  object \n",
      " 3   age                              43923 non-null  int64  \n",
      " 4   mrg_situ_cd                      43101 non-null  object \n",
      " 5   acdm_deg_cd                      43100 non-null  object \n",
      " 6   job_year                         43378 non-null  object \n",
      " 7   ic_ind                           43378 non-null  object \n",
      " 8   fr_or_sh_ind                     43378 non-null  object \n",
      " 9   dnl_mbl_bnk_ind                  43378 non-null  object \n",
      " 10  dnl_bind_cmb_lif_ind             43378 non-null  object \n",
      " 11  hav_car_grp_ind                  43371 non-null  object \n",
      " 12  hav_hou_grp_ind                  43378 non-null  object \n",
      " 13  l6mon_agn_ind                    43371 non-null  object \n",
      " 14  frs_agn_dt_cnt                   43371 non-null  object \n",
      " 15  vld_rsk_ases_ind                 43371 non-null  object \n",
      " 16  fin_rsk_ases_grd_cd              43378 non-null  object \n",
      " 17  confirm_rsk_ases_lvl_typ_cd      43378 non-null  object \n",
      " 18  cust_inv_rsk_endu_lvl_cd         43371 non-null  object \n",
      " 19  l6mon_daim_aum_cd                43923 non-null  int64  \n",
      " 20  tot_ast_lvl_cd                   43371 non-null  object \n",
      " 21  pot_ast_lvl_cd                   43371 non-null  object \n",
      " 22  bk1_cur_year_mon_avg_agn_amt_cd  43923 non-null  int64  \n",
      " 23  l12mon_buy_fin_mng_whl_tms       43371 non-null  object \n",
      " 24  l12_mon_fnd_buy_whl_tms          43371 non-null  object \n",
      " 25  l12_mon_insu_buy_whl_tms         43371 non-null  object \n",
      " 26  l12_mon_gld_buy_whl_tms          43371 non-null  object \n",
      " 27  loan_act_ind                     43378 non-null  object \n",
      " 28  pl_crd_lmt_cd                    43923 non-null  int64  \n",
      " 29  ovd_30d_loan_tot_cnt             43378 non-null  object \n",
      " 30  his_lng_ovd_day                  43378 non-null  object \n",
      " 31  hld_crd_card_grd_cd              43378 non-null  object \n",
      " 32  crd_card_act_ind                 43371 non-null  object \n",
      " 33  l1y_crd_card_csm_amt_dlm_cd      43371 non-null  object \n",
      " 34  perm_crd_lmt_cd                  43923 non-null  int64  \n",
      " 35  cur_debit_cnt                    43923 non-null  int64  \n",
      " 36  cur_credit_cnt                   43923 non-null  int64  \n",
      " 37  cur_debit_min_opn_dt_cnt         43923 non-null  int64  \n",
      " 38  cur_credit_min_opn_dt_cnt        43923 non-null  int64  \n",
      " 39  cur_debit_crd_lvl                43923 non-null  int64  \n",
      " 40  inc                              35183 non-null  float64\n",
      " 41  outA                             35183 non-null  float64\n",
      " 42  outB                             35183 non-null  float64\n",
      " 43  outC                             35183 non-null  float64\n",
      " 44  lev                              35183 non-null  float64\n",
      " 45  inc_mean                         33130 non-null  float64\n",
      " 46  BAmean                           13820 non-null  float64\n",
      " 47  BBmean                           27705 non-null  float64\n",
      " 48  BCmean                           1156 non-null   float64\n",
      " 49  trd_frq                          35183 non-null  float64\n",
      " 50  trd1_1                           35183 non-null  float64\n",
      " 51  trd1_2                           35183 non-null  float64\n",
      " 52  trd1_3                           35183 non-null  float64\n",
      " 53  trd2_136                         35183 non-null  float64\n",
      " 54  trd2_132                         35183 non-null  float64\n",
      " 55  total_pay                        35183 non-null  float64\n",
      " 56  inorout_ind                      35183 non-null  float64\n",
      " 57  inorout_sum                      35183 non-null  float64\n",
      " 58  BA_ratio                         35183 non-null  float64\n",
      " 59  BB_ratio                         35183 non-null  float64\n",
      " 60  BC_ratio                         35183 non-null  float64\n",
      " 61  TrxCod2_ratio                    35183 non-null  float64\n",
      " 62  app                              13145 non-null  object \n",
      " 63  app_frq                          13145 non-null  float64\n",
      " 64  CQA_ratio                        13145 non-null  float64\n",
      " 65  CQE_ratio                        13145 non-null  float64\n",
      "dtypes: float64(25), int64(11), object(30)\n",
      "memory usage: 22.5+ MB\n"
     ]
    }
   ],
   "source": [
    "combine.info()"
   ]
  },
  {
   "cell_type": "code",
   "execution_count": 12,
   "metadata": {
    "scrolled": true
   },
   "outputs": [
    {
     "name": "stdout",
     "output_type": "stream",
     "text": [
      "30778\n",
      "_______\n"
     ]
    },
    {
     "data": {
      "text/plain": [
       "count     13145\n",
       "unique       19\n",
       "top         CQA\n",
       "freq      10412\n",
       "Name: app, dtype: object"
      ]
     },
     "execution_count": 12,
     "metadata": {},
     "output_type": "execute_result"
    }
   ],
   "source": [
    "#app\n",
    "print(combine.app.isnull().sum())\n",
    "print(\"_______\")\n",
    "combine.app.describe()"
   ]
  },
  {
   "cell_type": "code",
   "execution_count": 13,
   "metadata": {},
   "outputs": [],
   "source": [
    "app_dic={'CQA':1,'CQE':2,'XAI':3,'TRN':4,'AAO':5 , 'BWA':6 ,'CQC':7,'CQD':8,'XAG':9 ,'MSG':10 ,\n",
    "'SZD':11,'FTR':12 , 'EGA':13,'CTR':14 ,'GBA':15,  'CQB':16 ,'BWE':17, 'JF2':18,'JJK':19, 'MTA':20 }\n",
    "combine['app'] = combine['app'].map(app_dic)"
   ]
  },
  {
   "cell_type": "code",
   "execution_count": 14,
   "metadata": {},
   "outputs": [],
   "source": [
    "combine.app=combine.app.fillna(0)"
   ]
  },
  {
   "cell_type": "code",
   "execution_count": 15,
   "metadata": {},
   "outputs": [],
   "source": [
    "combine.app=combine.app.astype('int64')"
   ]
  },
  {
   "cell_type": "code",
   "execution_count": 16,
   "metadata": {},
   "outputs": [
    {
     "name": "stdout",
     "output_type": "stream",
     "text": [
      "30778\n",
      "_______\n"
     ]
    },
    {
     "data": {
      "text/plain": [
       "count    13145.000000\n",
       "mean         6.677719\n",
       "std          4.718847\n",
       "min          1.000000\n",
       "25%          3.909091\n",
       "50%          5.727273\n",
       "75%          8.285714\n",
       "max         94.000000\n",
       "Name: app_frq, dtype: float64"
      ]
     },
     "execution_count": 16,
     "metadata": {},
     "output_type": "execute_result"
    }
   ],
   "source": [
    "#app_frq\n",
    "print(combine.app_frq.isnull().sum())\n",
    "print(\"_______\")\n",
    "combine.app_frq.describe()"
   ]
  },
  {
   "cell_type": "code",
   "execution_count": 17,
   "metadata": {},
   "outputs": [],
   "source": [
    "combine.app_frq=combine.app_frq.fillna(0)\n",
    "combine.app_frq=combine.app_frq.round()"
   ]
  },
  {
   "cell_type": "code",
   "execution_count": 18,
   "metadata": {},
   "outputs": [],
   "source": [
    "combine.app_frq=combine.app_frq.astype('int64')"
   ]
  },
  {
   "cell_type": "code",
   "execution_count": 19,
   "metadata": {},
   "outputs": [],
   "source": [
    "combine.loc[combine['app_frq'] >= 30,'app_frq'] = 30"
   ]
  },
  {
   "cell_type": "code",
   "execution_count": 20,
   "metadata": {},
   "outputs": [
    {
     "name": "stdout",
     "output_type": "stream",
     "text": [
      "30778\n",
      "_______\n"
     ]
    },
    {
     "data": {
      "text/plain": [
       "count    13145.000000\n",
       "mean         0.428406\n",
       "std          0.192655\n",
       "min          0.000000\n",
       "25%          0.304348\n",
       "50%          0.391753\n",
       "75%          0.500000\n",
       "max          1.000000\n",
       "Name: CQA_ratio, dtype: float64"
      ]
     },
     "execution_count": 20,
     "metadata": {},
     "output_type": "execute_result"
    }
   ],
   "source": [
    "#CQA_ratio\n",
    "print(combine.CQA_ratio.isnull().sum())\n",
    "print(\"_______\")\n",
    "combine.CQA_ratio.describe()"
   ]
  },
  {
   "cell_type": "code",
   "execution_count": 21,
   "metadata": {},
   "outputs": [],
   "source": [
    "combine.CQA_ratio=combine.CQA_ratio.fillna(-1)"
   ]
  },
  {
   "cell_type": "code",
   "execution_count": 22,
   "metadata": {},
   "outputs": [
    {
     "data": {
      "text/plain": [
       "count    43923.000000\n",
       "mean         0.757075\n",
       "std          2.910861\n",
       "min         -1.000000\n",
       "25%         -1.000000\n",
       "50%         -1.000000\n",
       "75%          3.000000\n",
       "max         11.000000\n",
       "Name: CQA_ratio, dtype: float64"
      ]
     },
     "execution_count": 22,
     "metadata": {},
     "output_type": "execute_result"
    }
   ],
   "source": [
    "combine.loc[combine['CQA_ratio'] >= 1,'CQA_ratio'] = 11\n",
    "combine.loc[(combine['CQA_ratio'] > 0) & (combine['CQA_ratio'] <0.1),'CQA_ratio'] = 1\n",
    "combine.loc[(combine['CQA_ratio'] >= 0.1) & (combine['CQA_ratio'] <0.2),'CQA_ratio'] = 2\n",
    "combine.loc[(combine['CQA_ratio'] >= 0.2) & (combine['CQA_ratio'] <0.3),'CQA_ratio'] = 3\n",
    "combine.loc[(combine['CQA_ratio'] >= 0.3) & (combine['CQA_ratio'] <0.4),'CQA_ratio'] = 4\n",
    "combine.loc[(combine['CQA_ratio'] >=0.4) & (combine['CQA_ratio'] <0.5),'CQA_ratio'] = 5\n",
    "combine.loc[(combine['CQA_ratio'] >= 0.5) & (combine['CQA_ratio'] < 0.6),'CQA_ratio'] = 6\n",
    "combine.loc[(combine['CQA_ratio'] >= 0.6) & (combine['CQA_ratio'] < 0.7),'CQA_ratio'] = 7\n",
    "combine.loc[(combine['CQA_ratio'] >= 0.7) & (combine['CQA_ratio'] < 0.8),'CQA_ratio'] = 8\n",
    "combine.loc[(combine['CQA_ratio'] >= 0.8) & (combine['CQA_ratio'] < 0.9),'CQA_ratio'] = 9\n",
    "combine.loc[(combine['CQA_ratio'] >= 0.9) & (combine['CQA_ratio'] < 1),'CQA_ratio'] = 10\n",
    "combine.CQA_ratio=combine.CQA_ratio.astype('int64')\n",
    "combine['CQA_ratio'].describe()"
   ]
  },
  {
   "cell_type": "code",
   "execution_count": 23,
   "metadata": {},
   "outputs": [
    {
     "name": "stdout",
     "output_type": "stream",
     "text": [
      "30778\n",
      "_______\n"
     ]
    },
    {
     "data": {
      "text/plain": [
       "count    13145.000000\n",
       "mean         0.179145\n",
       "std          0.152068\n",
       "min          0.000000\n",
       "25%          0.024390\n",
       "50%          0.171429\n",
       "75%          0.291925\n",
       "max          1.000000\n",
       "Name: CQE_ratio, dtype: float64"
      ]
     },
     "execution_count": 23,
     "metadata": {},
     "output_type": "execute_result"
    }
   ],
   "source": [
    "#CQE_ratio\n",
    "print(combine.CQE_ratio.isnull().sum())\n",
    "print(\"_______\")\n",
    "combine.CQE_ratio.describe()"
   ]
  },
  {
   "cell_type": "code",
   "execution_count": 24,
   "metadata": {},
   "outputs": [],
   "source": [
    "combine.CQE_ratio=combine.CQE_ratio.fillna(-1)"
   ]
  },
  {
   "cell_type": "code",
   "execution_count": 25,
   "metadata": {},
   "outputs": [
    {
     "data": {
      "text/plain": [
       "count    43923.000000\n",
       "mean        -0.059969\n",
       "std          1.666287\n",
       "min         -1.000000\n",
       "25%         -1.000000\n",
       "50%         -1.000000\n",
       "75%          0.000000\n",
       "max          7.000000\n",
       "Name: CQE_ratio, dtype: float64"
      ]
     },
     "execution_count": 25,
     "metadata": {},
     "output_type": "execute_result"
    }
   ],
   "source": [
    "combine.loc[combine['CQE_ratio'] >= 1,'CQE_ratio'] = 7\n",
    "combine.loc[(combine['CQE_ratio'] > 0) & (combine['CQE_ratio'] <0.1),'CQE_ratio'] = 1\n",
    "combine.loc[(combine['CQE_ratio'] >= 0.1) & (combine['CQE_ratio'] <0.2),'CQE_ratio'] = 2\n",
    "combine.loc[(combine['CQE_ratio'] >= 0.2) & (combine['CQE_ratio'] <0.3),'CQE_ratio'] = 3\n",
    "combine.loc[(combine['CQE_ratio'] >= 0.3) & (combine['CQE_ratio'] <0.5),'CQE_ratio'] = 4\n",
    "combine.loc[(combine['CQE_ratio'] >= 0.5) & (combine['CQE_ratio'] < 0.75),'CQE_ratio'] = 5\n",
    "combine.loc[(combine['CQE_ratio'] >= 0.75) & (combine['CQE_ratio'] < 1),'CQE_ratio'] = 6\n",
    "combine.CQE_ratio=combine.CQE_ratio.astype('int64')\n",
    "combine['CQE_ratio'].describe()"
   ]
  },
  {
   "cell_type": "code",
   "execution_count": null,
   "metadata": {},
   "outputs": [],
   "source": []
  },
  {
   "cell_type": "code",
   "execution_count": 26,
   "metadata": {},
   "outputs": [
    {
     "name": "stdout",
     "output_type": "stream",
     "text": [
      "8740\n",
      "_______\n"
     ]
    },
    {
     "data": {
      "text/plain": [
       "count    3.518300e+04\n",
       "mean     7.633335e+04\n",
       "std      7.398319e+05\n",
       "min      0.000000e+00\n",
       "25%      8.640000e+02\n",
       "50%      6.478000e+03\n",
       "75%      2.645650e+04\n",
       "max      7.835568e+07\n",
       "Name: inc, dtype: float64"
      ]
     },
     "execution_count": 26,
     "metadata": {},
     "output_type": "execute_result"
    }
   ],
   "source": [
    "#inc\n",
    "print(combine.inc.isnull().sum())\n",
    "print(\"_______\")\n",
    "combine.inc.describe()"
   ]
  },
  {
   "cell_type": "code",
   "execution_count": 27,
   "metadata": {},
   "outputs": [],
   "source": [
    "combine.inc=combine.inc.fillna(0)"
   ]
  },
  {
   "cell_type": "code",
   "execution_count": 28,
   "metadata": {},
   "outputs": [],
   "source": [
    "combine['inc']=combine['inc'].astype('int64')"
   ]
  },
  {
   "cell_type": "code",
   "execution_count": 29,
   "metadata": {},
   "outputs": [
    {
     "data": {
      "text/plain": [
       "count    43923.000000\n",
       "mean         3.120962\n",
       "std          2.161169\n",
       "min          0.000000\n",
       "25%          0.000000\n",
       "50%          4.000000\n",
       "75%          5.000000\n",
       "max          8.000000\n",
       "Name: inc, dtype: float64"
      ]
     },
     "execution_count": 29,
     "metadata": {},
     "output_type": "execute_result"
    }
   ],
   "source": [
    "combine.loc[(combine['inc'] >= 1) & (combine['inc'] <10),'inc'] = 1\n",
    "combine.loc[(combine['inc'] >= 10) & (combine['inc'] <100),'inc'] = 2\n",
    "combine.loc[(combine['inc'] >= 100) & (combine['inc'] <1000),'inc'] = 3\n",
    "combine.loc[(combine['inc'] >= 1000) & (combine['inc'] <10000),'inc'] = 4\n",
    "combine.loc[(combine['inc'] >=10000) & (combine['inc'] <100000),'inc'] = 5\n",
    "combine.loc[(combine['inc'] >= 100000) & (combine['inc'] < 1000000),'inc'] = 6\n",
    "combine.loc[(combine['inc'] >= 1000000) & (combine['inc'] < 10000000),'inc'] = 7\n",
    "combine.loc[combine['inc'] >= 10000000,'inc'] = 8\n",
    "combine['inc'].describe()"
   ]
  },
  {
   "cell_type": "code",
   "execution_count": 30,
   "metadata": {},
   "outputs": [
    {
     "name": "stdout",
     "output_type": "stream",
     "text": [
      "8740\n",
      "_______\n"
     ]
    },
    {
     "data": {
      "text/plain": [
       "count    3.518300e+04\n",
       "mean     6.440817e+04\n",
       "std      7.307862e+05\n",
       "min      0.000000e+00\n",
       "25%      0.000000e+00\n",
       "50%      0.000000e+00\n",
       "75%      7.082500e+03\n",
       "max      7.836404e+07\n",
       "Name: outA, dtype: float64"
      ]
     },
     "execution_count": 30,
     "metadata": {},
     "output_type": "execute_result"
    }
   ],
   "source": [
    "#outA\n",
    "print(combine.outA.isnull().sum())\n",
    "print(\"_______\")\n",
    "combine.outA.describe()"
   ]
  },
  {
   "cell_type": "code",
   "execution_count": 31,
   "metadata": {},
   "outputs": [],
   "source": [
    "combine.outA=combine.outA.fillna(0)\n",
    "combine['outA']=combine['outA'].astype('int64')"
   ]
  },
  {
   "cell_type": "code",
   "execution_count": 32,
   "metadata": {},
   "outputs": [
    {
     "data": {
      "text/plain": [
       "count    43923.000000\n",
       "mean         1.392892\n",
       "std          2.217063\n",
       "min          0.000000\n",
       "25%          0.000000\n",
       "50%          0.000000\n",
       "75%          4.000000\n",
       "max          8.000000\n",
       "Name: outA, dtype: float64"
      ]
     },
     "execution_count": 32,
     "metadata": {},
     "output_type": "execute_result"
    }
   ],
   "source": [
    "combine.loc[(combine['outA'] >= 1) & (combine['outA'] <10),'outA'] = 1\n",
    "combine.loc[(combine['outA'] >= 10) & (combine['outA'] <100),'outA'] = 2\n",
    "combine.loc[(combine['outA'] >= 100) & (combine['outA'] <1000),'outA'] = 3\n",
    "combine.loc[(combine['outA'] >= 1000) & (combine['outA'] <10000),'outA'] = 4\n",
    "combine.loc[(combine['outA'] >=10000) & (combine['outA'] <100000),'outA'] = 5\n",
    "combine.loc[(combine['outA'] >= 100000) & (combine['outA'] < 1000000),'outA'] = 6\n",
    "combine.loc[(combine['outA'] >= 1000000) & (combine['outA'] < 10000000),'outA'] = 7\n",
    "combine.loc[combine['outA'] >= 10000000,'outA'] = 8\n",
    "combine['outA'].describe()"
   ]
  },
  {
   "cell_type": "code",
   "execution_count": 33,
   "metadata": {},
   "outputs": [
    {
     "name": "stdout",
     "output_type": "stream",
     "text": [
      "8740\n",
      "_______\n"
     ]
    },
    {
     "data": {
      "text/plain": [
       "count    3.518300e+04\n",
       "mean     1.060123e+04\n",
       "std      2.376423e+04\n",
       "min      0.000000e+00\n",
       "25%      5.350000e+01\n",
       "50%      2.523000e+03\n",
       "75%      1.022450e+04\n",
       "max      1.400683e+06\n",
       "Name: outB, dtype: float64"
      ]
     },
     "execution_count": 33,
     "metadata": {},
     "output_type": "execute_result"
    }
   ],
   "source": [
    "#outB\n",
    "print(combine.outB.isnull().sum())\n",
    "print(\"_______\")\n",
    "combine.outB.describe()"
   ]
  },
  {
   "cell_type": "code",
   "execution_count": 34,
   "metadata": {},
   "outputs": [],
   "source": [
    "combine.outB=combine.outB.fillna(0)\n",
    "combine['outB']=combine['outB'].astype('int64')"
   ]
  },
  {
   "cell_type": "code",
   "execution_count": 35,
   "metadata": {},
   "outputs": [
    {
     "data": {
      "text/plain": [
       "count    43923.000000\n",
       "mean         2.550805\n",
       "std          2.081714\n",
       "min          0.000000\n",
       "25%          0.000000\n",
       "50%          3.000000\n",
       "75%          4.000000\n",
       "max          7.000000\n",
       "Name: outB, dtype: float64"
      ]
     },
     "execution_count": 35,
     "metadata": {},
     "output_type": "execute_result"
    }
   ],
   "source": [
    "combine.loc[(combine['outB'] >= 1) & (combine['outB'] <10),'outB'] = 1\n",
    "combine.loc[(combine['outB'] >= 10) & (combine['outB'] <100),'outB'] = 2\n",
    "combine.loc[(combine['outB'] >= 100) & (combine['outB'] <1000),'outB'] = 3\n",
    "combine.loc[(combine['outB'] >= 1000) & (combine['outB'] <10000),'outB'] = 4\n",
    "combine.loc[(combine['outB'] >=10000) & (combine['outB'] <100000),'outB'] = 5\n",
    "combine.loc[(combine['outB'] >= 100000) & (combine['outB'] < 1000000),'outB'] = 6\n",
    "combine.loc[combine['outB'] >= 1000000,'outB'] = 7\n",
    "combine['outB'].describe()"
   ]
  },
  {
   "cell_type": "code",
   "execution_count": 36,
   "metadata": {},
   "outputs": [
    {
     "name": "stdout",
     "output_type": "stream",
     "text": [
      "8740\n",
      "_______\n"
     ]
    },
    {
     "data": {
      "text/plain": [
       "count    3.518300e+04\n",
       "mean     1.514480e+03\n",
       "std      4.079478e+04\n",
       "min      0.000000e+00\n",
       "25%      0.000000e+00\n",
       "50%      0.000000e+00\n",
       "75%      0.000000e+00\n",
       "max      4.682629e+06\n",
       "Name: outC, dtype: float64"
      ]
     },
     "execution_count": 36,
     "metadata": {},
     "output_type": "execute_result"
    }
   ],
   "source": [
    "#outC\n",
    "print(combine.outC.isnull().sum())\n",
    "print(\"_______\")\n",
    "combine.outC.describe()"
   ]
  },
  {
   "cell_type": "code",
   "execution_count": 37,
   "metadata": {},
   "outputs": [],
   "source": [
    "combine.outC=combine.outC.fillna(0)\n",
    "combine['outC']=combine['outC'].astype('int64')"
   ]
  },
  {
   "cell_type": "code",
   "execution_count": 38,
   "metadata": {},
   "outputs": [
    {
     "data": {
      "text/plain": [
       "count    43923.000000\n",
       "mean         0.109419\n",
       "std          0.694913\n",
       "min          0.000000\n",
       "25%          0.000000\n",
       "50%          0.000000\n",
       "75%          0.000000\n",
       "max          7.000000\n",
       "Name: outC, dtype: float64"
      ]
     },
     "execution_count": 38,
     "metadata": {},
     "output_type": "execute_result"
    }
   ],
   "source": [
    "combine.loc[(combine['outC'] >= 1) & (combine['outC'] <10),'outC'] = 1\n",
    "combine.loc[(combine['outC'] >= 10) & (combine['outC'] <100),'outC'] = 2\n",
    "combine.loc[(combine['outC'] >= 100) & (combine['outC'] <1000),'outC'] = 3\n",
    "combine.loc[(combine['outC'] >= 1000) & (combine['outC'] <10000),'outC'] = 4\n",
    "combine.loc[(combine['outC'] >=10000) & (combine['outC'] <100000),'outC'] = 5\n",
    "combine.loc[(combine['outC'] >= 100000) & (combine['outC'] < 1000000),'outC'] = 6\n",
    "combine.loc[combine['outC'] >= 1000000,'outC'] = 7\n",
    "combine['outC'].describe()"
   ]
  },
  {
   "cell_type": "code",
   "execution_count": 39,
   "metadata": {},
   "outputs": [
    {
     "name": "stdout",
     "output_type": "stream",
     "text": [
      "8740\n",
      "_______\n"
     ]
    },
    {
     "data": {
      "text/plain": [
       "count    35183.000000\n",
       "mean       182.746866\n",
       "std         80.253448\n",
       "min        101.000000\n",
       "25%        131.000000\n",
       "50%        136.000000\n",
       "75%        308.000000\n",
       "max        310.000000\n",
       "Name: lev, dtype: float64"
      ]
     },
     "execution_count": 39,
     "metadata": {},
     "output_type": "execute_result"
    }
   ],
   "source": [
    "#lev\n",
    "print(combine.lev.isnull().sum())\n",
    "print(\"_______\")\n",
    "combine.lev.describe()"
   ]
  },
  {
   "cell_type": "code",
   "execution_count": 40,
   "metadata": {},
   "outputs": [],
   "source": [
    "combine.lev=combine.lev.fillna(0)\n",
    "combine['lev']=combine['lev'].astype('int64')"
   ]
  },
  {
   "cell_type": "code",
   "execution_count": 41,
   "metadata": {},
   "outputs": [
    {
     "name": "stdout",
     "output_type": "stream",
     "text": [
      "10793\n",
      "_______\n"
     ]
    },
    {
     "data": {
      "text/plain": [
       "count    3.313000e+04\n",
       "mean     5.316941e+03\n",
       "std      4.182456e+04\n",
       "min      1.000000e-02\n",
       "25%      4.500025e+02\n",
       "50%      1.650000e+03\n",
       "75%      4.266321e+03\n",
       "max      4.609158e+06\n",
       "Name: inc_mean, dtype: float64"
      ]
     },
     "execution_count": 41,
     "metadata": {},
     "output_type": "execute_result"
    }
   ],
   "source": [
    "#inc_mean\n",
    "print(combine.inc_mean.isnull().sum())\n",
    "print(\"_______\")\n",
    "combine.inc_mean.describe()"
   ]
  },
  {
   "cell_type": "code",
   "execution_count": 42,
   "metadata": {},
   "outputs": [],
   "source": [
    "combine.inc_mean=combine.inc_mean.fillna(0)\n",
    "combine['inc_mean']=combine['inc_mean'].astype('int64')"
   ]
  },
  {
   "cell_type": "code",
   "execution_count": 43,
   "metadata": {},
   "outputs": [
    {
     "data": {
      "text/plain": [
       "count    43923.000000\n",
       "mean         2.619994\n",
       "std          1.788778\n",
       "min          0.000000\n",
       "25%          0.000000\n",
       "50%          3.000000\n",
       "75%          4.000000\n",
       "max          7.000000\n",
       "Name: inc_mean, dtype: float64"
      ]
     },
     "execution_count": 43,
     "metadata": {},
     "output_type": "execute_result"
    }
   ],
   "source": [
    "combine.loc[(combine['inc_mean'] >= 1) & (combine['inc_mean'] <10),'inc_mean'] = 1\n",
    "combine.loc[(combine['inc_mean'] >= 10) & (combine['inc_mean'] <100),'inc_mean'] = 2\n",
    "combine.loc[(combine['inc_mean'] >= 100) & (combine['inc_mean'] <1000),'inc_mean'] = 3\n",
    "combine.loc[(combine['inc_mean'] >= 1000) & (combine['inc_mean'] <10000),'inc_mean'] = 4\n",
    "combine.loc[(combine['inc_mean'] >=10000) & (combine['inc_mean'] <100000),'inc_mean'] = 5\n",
    "combine.loc[(combine['inc_mean'] >= 100000) & (combine['inc_mean'] < 1000000),'inc_mean'] = 6\n",
    "combine.loc[combine['inc_mean'] >= 1000000,'inc_mean'] = 7\n",
    "combine['inc_mean'].describe()"
   ]
  },
  {
   "cell_type": "code",
   "execution_count": 44,
   "metadata": {},
   "outputs": [
    {
     "name": "stdout",
     "output_type": "stream",
     "text": [
      "30103\n",
      "_______\n"
     ]
    },
    {
     "data": {
      "text/plain": [
       "count    1.382000e+04\n",
       "mean     8.669939e+03\n",
       "std      1.133654e+05\n",
       "min      1.000000e-02\n",
       "25%      1.974423e+02\n",
       "50%      9.074196e+02\n",
       "75%      3.271872e+03\n",
       "max      1.014500e+07\n",
       "Name: BAmean, dtype: float64"
      ]
     },
     "execution_count": 44,
     "metadata": {},
     "output_type": "execute_result"
    }
   ],
   "source": [
    "#BAmean\n",
    "print(combine.BAmean.isnull().sum())\n",
    "print(\"_______\")\n",
    "combine.BAmean.describe()"
   ]
  },
  {
   "cell_type": "code",
   "execution_count": 45,
   "metadata": {},
   "outputs": [],
   "source": [
    "combine.BAmean=combine.BAmean.fillna(0)\n",
    "combine['BAmean']=combine['BAmean'].astype('int64')"
   ]
  },
  {
   "cell_type": "code",
   "execution_count": 46,
   "metadata": {},
   "outputs": [
    {
     "data": {
      "text/plain": [
       "count    43923.000000\n",
       "mean         1.040685\n",
       "std          1.666317\n",
       "min          0.000000\n",
       "25%          0.000000\n",
       "50%          0.000000\n",
       "75%          3.000000\n",
       "max          8.000000\n",
       "Name: BAmean, dtype: float64"
      ]
     },
     "execution_count": 46,
     "metadata": {},
     "output_type": "execute_result"
    }
   ],
   "source": [
    "combine.loc[(combine['BAmean'] >= 1) & (combine['BAmean'] <10),'BAmean'] = 1\n",
    "combine.loc[(combine['BAmean'] >= 10) & (combine['BAmean'] <100),'BAmean'] = 2\n",
    "combine.loc[(combine['BAmean'] >= 100) & (combine['BAmean'] <1000),'BAmean'] = 3\n",
    "combine.loc[(combine['BAmean'] >= 1000) & (combine['BAmean'] <10000),'BAmean'] = 4\n",
    "combine.loc[(combine['BAmean'] >=10000) & (combine['BAmean'] <100000),'BAmean'] = 5\n",
    "combine.loc[(combine['BAmean'] >= 100000) & (combine['BAmean'] < 1000000),'BAmean'] = 6\n",
    "combine.loc[(combine['BAmean'] >= 1000000) & (combine['BAmean'] < 10000000),'BAmean'] = 7\n",
    "combine.loc[combine['BAmean'] >= 10000000,'BAmean'] = 8\n",
    "combine['BAmean'].describe()"
   ]
  },
  {
   "cell_type": "code",
   "execution_count": 47,
   "metadata": {},
   "outputs": [
    {
     "name": "stdout",
     "output_type": "stream",
     "text": [
      "16218\n",
      "_______\n"
     ]
    },
    {
     "data": {
      "text/plain": [
       "count    27705.000000\n",
       "mean      1457.207772\n",
       "std       3305.520035\n",
       "min          0.010000\n",
       "25%        117.394444\n",
       "50%        387.125000\n",
       "75%       1350.000000\n",
       "max      65768.000000\n",
       "Name: BBmean, dtype: float64"
      ]
     },
     "execution_count": 47,
     "metadata": {},
     "output_type": "execute_result"
    }
   ],
   "source": [
    "#BBmean\n",
    "print(combine.BBmean.isnull().sum())\n",
    "print(\"_______\")\n",
    "combine.BBmean.describe()"
   ]
  },
  {
   "cell_type": "code",
   "execution_count": 48,
   "metadata": {},
   "outputs": [],
   "source": [
    "combine.BBmean=combine.BBmean.fillna(0)\n",
    "combine['BBmean']=combine['BBmean'].astype('int64')"
   ]
  },
  {
   "cell_type": "code",
   "execution_count": 49,
   "metadata": {},
   "outputs": [
    {
     "data": {
      "text/plain": [
       "count    43923.000000\n",
       "mean         1.941306\n",
       "std          1.626255\n",
       "min          0.000000\n",
       "25%          0.000000\n",
       "50%          2.000000\n",
       "75%          3.000000\n",
       "max          5.000000\n",
       "Name: BBmean, dtype: float64"
      ]
     },
     "execution_count": 49,
     "metadata": {},
     "output_type": "execute_result"
    }
   ],
   "source": [
    "combine.loc[(combine['BBmean'] >= 1) & (combine['BBmean'] <10),'BBmean'] = 1\n",
    "combine.loc[(combine['BBmean'] >= 10) & (combine['BBmean'] <100),'BBmean'] = 2\n",
    "combine.loc[(combine['BBmean'] >= 100) & (combine['BBmean'] <1000),'BBmean'] = 3\n",
    "combine.loc[(combine['BBmean'] >= 1000) & (combine['BBmean'] <10000),'BBmean'] = 4\n",
    "combine.loc[combine['BBmean'] >= 10000,'BBmean'] = 5\n",
    "combine['BBmean'].describe()"
   ]
  },
  {
   "cell_type": "code",
   "execution_count": 50,
   "metadata": {},
   "outputs": [
    {
     "name": "stdout",
     "output_type": "stream",
     "text": [
      "8740\n",
      "_______\n"
     ]
    },
    {
     "data": {
      "text/plain": [
       "count    35183.000000\n",
       "mean         2.003612\n",
       "std          1.578074\n",
       "min          1.000000\n",
       "25%          1.200000\n",
       "50%          1.666667\n",
       "75%          2.285714\n",
       "max        119.102041\n",
       "Name: trd_frq, dtype: float64"
      ]
     },
     "execution_count": 50,
     "metadata": {},
     "output_type": "execute_result"
    }
   ],
   "source": [
    "#trd_frq\n",
    "print(combine.trd_frq.isnull().sum())\n",
    "print(\"_______\")\n",
    "combine.trd_frq.describe()"
   ]
  },
  {
   "cell_type": "code",
   "execution_count": 51,
   "metadata": {},
   "outputs": [],
   "source": [
    "combine.trd_frq=combine.trd_frq.fillna(0)\n",
    "combine.trd_frq=combine.trd_frq.round()\n",
    "combine.trd_frq=combine.trd_frq.astype('int64')"
   ]
  },
  {
   "cell_type": "code",
   "execution_count": 52,
   "metadata": {},
   "outputs": [],
   "source": [
    "combine.loc[combine['trd_frq'] >= 20,'trd_frq'] = 20"
   ]
  },
  {
   "cell_type": "code",
   "execution_count": 53,
   "metadata": {},
   "outputs": [
    {
     "name": "stdout",
     "output_type": "stream",
     "text": [
      "8740\n",
      "_______\n"
     ]
    },
    {
     "data": {
      "text/plain": [
       "count    35183.000000\n",
       "mean        29.980104\n",
       "std         67.609674\n",
       "min          0.000000\n",
       "25%          2.000000\n",
       "50%          8.000000\n",
       "75%         30.000000\n",
       "max       5692.000000\n",
       "Name: trd1_1, dtype: float64"
      ]
     },
     "execution_count": 53,
     "metadata": {},
     "output_type": "execute_result"
    }
   ],
   "source": [
    "#trd1_1\n",
    "print(combine.trd1_1.isnull().sum())\n",
    "print(\"_______\")\n",
    "combine.trd1_1.describe()\n"
   ]
  },
  {
   "cell_type": "code",
   "execution_count": 54,
   "metadata": {},
   "outputs": [],
   "source": [
    "combine.trd1_1=combine.trd1_1.fillna(-1)\n",
    "combine.trd1_1=combine.trd1_1.astype('int64')"
   ]
  },
  {
   "cell_type": "code",
   "execution_count": 55,
   "metadata": {},
   "outputs": [
    {
     "data": {
      "text/plain": [
       "count    43923.000000\n",
       "mean        23.815541\n",
       "std         61.761280\n",
       "min         -1.000000\n",
       "25%          0.000000\n",
       "50%          4.000000\n",
       "75%         21.000000\n",
       "max       5692.000000\n",
       "Name: trd1_1, dtype: float64"
      ]
     },
     "execution_count": 55,
     "metadata": {},
     "output_type": "execute_result"
    }
   ],
   "source": [
    "combine.trd1_1.describe()"
   ]
  },
  {
   "cell_type": "code",
   "execution_count": 56,
   "metadata": {},
   "outputs": [
    {
     "data": {
      "text/plain": [
       "count    43923.000000\n",
       "mean        10.191676\n",
       "std         12.048402\n",
       "min         -1.000000\n",
       "25%          0.000000\n",
       "50%          4.000000\n",
       "75%         21.000000\n",
       "max         32.000000\n",
       "Name: trd1_1, dtype: float64"
      ]
     },
     "execution_count": 56,
     "metadata": {},
     "output_type": "execute_result"
    }
   ],
   "source": [
    "combine.loc[(combine['trd1_1'] >= 30) & (combine['trd1_1'] <100),'trd1_1'] = 30\n",
    "combine.loc[(combine['trd1_1'] >= 100) & (combine['trd1_1'] <1000),'trd1_1'] = 31\n",
    "combine.loc[combine['trd1_1'] >= 1000,'trd1_1'] = 32\n",
    "combine['trd1_1'].describe()\n"
   ]
  },
  {
   "cell_type": "code",
   "execution_count": 57,
   "metadata": {},
   "outputs": [
    {
     "name": "stdout",
     "output_type": "stream",
     "text": [
      "8740\n",
      "_______\n"
     ]
    },
    {
     "data": {
      "text/plain": [
       "count    35183.000000\n",
       "mean         5.335816\n",
       "std         22.617518\n",
       "min          0.000000\n",
       "25%          0.000000\n",
       "50%          1.000000\n",
       "75%          4.000000\n",
       "max       1573.000000\n",
       "Name: trd1_2, dtype: float64"
      ]
     },
     "execution_count": 57,
     "metadata": {},
     "output_type": "execute_result"
    }
   ],
   "source": [
    "#trd1_2\n",
    "print(combine.trd1_2.isnull().sum())\n",
    "print(\"_______\")\n",
    "combine.trd1_2.describe()\n"
   ]
  },
  {
   "cell_type": "code",
   "execution_count": 58,
   "metadata": {},
   "outputs": [],
   "source": [
    "combine.trd1_2=combine.trd1_2.fillna(-1)\n",
    "combine.trd1_2=combine.trd1_2.astype('int64')"
   ]
  },
  {
   "cell_type": "code",
   "execution_count": 59,
   "metadata": {},
   "outputs": [
    {
     "data": {
      "text/plain": [
       " 0      14798\n",
       "-1       8740\n",
       " 1       5837\n",
       " 2       2464\n",
       " 3       2040\n",
       "        ...  \n",
       " 123        1\n",
       " 144        1\n",
       " 304        1\n",
       " 113        1\n",
       " 223        1\n",
       "Name: trd1_2, Length: 211, dtype: int64"
      ]
     },
     "execution_count": 59,
     "metadata": {},
     "output_type": "execute_result"
    }
   ],
   "source": [
    "combine.trd1_2.value_counts()"
   ]
  },
  {
   "cell_type": "code",
   "execution_count": 60,
   "metadata": {},
   "outputs": [
    {
     "data": {
      "text/plain": [
       "count    43923.000000\n",
       "mean         1.983289\n",
       "std          3.532547\n",
       "min         -1.000000\n",
       "25%          0.000000\n",
       "50%          0.000000\n",
       "75%          3.000000\n",
       "max         12.000000\n",
       "Name: trd1_2, dtype: float64"
      ]
     },
     "execution_count": 60,
     "metadata": {},
     "output_type": "execute_result"
    }
   ],
   "source": [
    "combine.loc[(combine['trd1_2'] >= 10) & (combine['trd1_2'] <100),'trd1_2'] = 10\n",
    "combine.loc[(combine['trd1_2'] >= 100) & (combine['trd1_2'] <1000),'trd1_2'] = 11\n",
    "combine.loc[combine['trd1_2'] >= 1000,'trd1_2'] = 12\n",
    "combine['trd1_2'].describe()"
   ]
  },
  {
   "cell_type": "code",
   "execution_count": 61,
   "metadata": {},
   "outputs": [
    {
     "name": "stdout",
     "output_type": "stream",
     "text": [
      "8740\n",
      "_______\n"
     ]
    },
    {
     "data": {
      "text/plain": [
       "count    35183.000000\n",
       "mean         7.495779\n",
       "std         14.308334\n",
       "min          0.000000\n",
       "25%          2.000000\n",
       "50%          4.000000\n",
       "75%          8.000000\n",
       "max        632.000000\n",
       "Name: trd1_3, dtype: float64"
      ]
     },
     "execution_count": 61,
     "metadata": {},
     "output_type": "execute_result"
    }
   ],
   "source": [
    "#trd1_3\n",
    "print(combine.trd1_3.isnull().sum())\n",
    "print(\"_______\")\n",
    "combine.trd1_3.describe()"
   ]
  },
  {
   "cell_type": "code",
   "execution_count": 62,
   "metadata": {},
   "outputs": [],
   "source": [
    "combine.trd1_3=combine.trd1_3.fillna(-1)\n",
    "combine.trd1_3=combine.trd1_3.astype('int64')"
   ]
  },
  {
   "cell_type": "code",
   "execution_count": 63,
   "metadata": {},
   "outputs": [
    {
     "data": {
      "text/plain": [
       "count    43923.000000\n",
       "mean         3.438836\n",
       "std          3.885691\n",
       "min         -1.000000\n",
       "25%          0.000000\n",
       "50%          2.000000\n",
       "75%          6.000000\n",
       "max         12.000000\n",
       "Name: trd1_3, dtype: float64"
      ]
     },
     "execution_count": 63,
     "metadata": {},
     "output_type": "execute_result"
    }
   ],
   "source": [
    "combine.loc[(combine['trd1_3'] >= 10) & (combine['trd1_3'] <100),'trd1_3'] = 10\n",
    "combine.loc[combine['trd1_3'] >= 100,'trd1_3'] = 12\n",
    "combine['trd1_3'].describe()"
   ]
  },
  {
   "cell_type": "code",
   "execution_count": 64,
   "metadata": {},
   "outputs": [
    {
     "name": "stdout",
     "output_type": "stream",
     "text": [
      "8740\n",
      "_______\n"
     ]
    },
    {
     "data": {
      "text/plain": [
       "count    35183.000000\n",
       "mean         6.880482\n",
       "std         19.452952\n",
       "min          0.000000\n",
       "25%          0.000000\n",
       "50%          1.000000\n",
       "75%          6.000000\n",
       "max       1808.000000\n",
       "Name: trd2_136, dtype: float64"
      ]
     },
     "execution_count": 64,
     "metadata": {},
     "output_type": "execute_result"
    }
   ],
   "source": [
    "#trd2_136\n",
    "print(combine.trd2_136.isnull().sum())\n",
    "print(\"_______\")\n",
    "combine.trd2_136.describe()"
   ]
  },
  {
   "cell_type": "code",
   "execution_count": 65,
   "metadata": {},
   "outputs": [],
   "source": [
    "\n",
    "combine.trd2_136=combine.trd2_136.fillna(-1)\n",
    "combine.trd2_136=combine.trd2_136.astype('int64')"
   ]
  },
  {
   "cell_type": "code",
   "execution_count": 66,
   "metadata": {},
   "outputs": [
    {
     "data": {
      "text/plain": [
       " 0      14859\n",
       "-1       8740\n",
       " 1       4243\n",
       " 2       2556\n",
       " 3       1676\n",
       "        ...  \n",
       " 341        1\n",
       " 214        1\n",
       " 293        1\n",
       " 165        1\n",
       " 191        1\n",
       "Name: trd2_136, Length: 171, dtype: int64"
      ]
     },
     "execution_count": 66,
     "metadata": {},
     "output_type": "execute_result"
    }
   ],
   "source": [
    "combine.trd2_136.value_counts()"
   ]
  },
  {
   "cell_type": "code",
   "execution_count": 67,
   "metadata": {},
   "outputs": [
    {
     "data": {
      "text/plain": [
       "count    43923.000000\n",
       "mean         2.372789\n",
       "std          3.912393\n",
       "min         -1.000000\n",
       "25%          0.000000\n",
       "50%          0.000000\n",
       "75%          4.000000\n",
       "max         12.000000\n",
       "Name: trd2_136, dtype: float64"
      ]
     },
     "execution_count": 67,
     "metadata": {},
     "output_type": "execute_result"
    }
   ],
   "source": [
    "combine.loc[(combine['trd2_136'] >= 10) & (combine['trd2_136'] <100),'trd2_136'] = 10\n",
    "combine.loc[(combine['trd2_136'] >= 100) & (combine['trd2_136'] <1000),'trd2_136'] = 11\n",
    "combine.loc[combine['trd2_136'] >= 1000,'trd2_136'] = 12\n",
    "combine['trd2_136'].describe()"
   ]
  },
  {
   "cell_type": "code",
   "execution_count": 68,
   "metadata": {},
   "outputs": [
    {
     "name": "stdout",
     "output_type": "stream",
     "text": [
      "8740\n",
      "_______\n"
     ]
    },
    {
     "data": {
      "text/plain": [
       "count    35183.000000\n",
       "mean         5.659296\n",
       "std         29.184632\n",
       "min          0.000000\n",
       "25%          0.000000\n",
       "50%          0.000000\n",
       "75%          1.000000\n",
       "max       1903.000000\n",
       "Name: trd2_132, dtype: float64"
      ]
     },
     "execution_count": 68,
     "metadata": {},
     "output_type": "execute_result"
    }
   ],
   "source": [
    "#trd2_132\n",
    "print(combine.trd2_132.isnull().sum())\n",
    "print(\"_______\")\n",
    "combine.trd2_132.describe()"
   ]
  },
  {
   "cell_type": "code",
   "execution_count": 69,
   "metadata": {},
   "outputs": [],
   "source": [
    "combine.trd2_132=combine.trd2_132.fillna(-1)\n",
    "combine.trd2_132=combine.trd2_132.astype('int64')"
   ]
  },
  {
   "cell_type": "code",
   "execution_count": 70,
   "metadata": {},
   "outputs": [
    {
     "data": {
      "text/plain": [
       "count    43923.000000\n",
       "mean         1.128816\n",
       "std          3.235266\n",
       "min         -1.000000\n",
       "25%          0.000000\n",
       "50%          0.000000\n",
       "75%          0.000000\n",
       "max         12.000000\n",
       "Name: trd2_132, dtype: float64"
      ]
     },
     "execution_count": 70,
     "metadata": {},
     "output_type": "execute_result"
    }
   ],
   "source": [
    "combine.loc[(combine['trd2_132'] >= 10) & (combine['trd2_132'] <100),'trd2_132'] = 10\n",
    "combine.loc[(combine['trd2_132'] >= 100) & (combine['trd2_132'] <1000),'trd2_132'] = 11\n",
    "combine.loc[combine['trd2_132'] >= 1000,'trd2_132'] = 12\n",
    "combine['trd2_132'].describe()"
   ]
  },
  {
   "cell_type": "code",
   "execution_count": 71,
   "metadata": {},
   "outputs": [
    {
     "name": "stdout",
     "output_type": "stream",
     "text": [
      "8740\n",
      "_______\n"
     ]
    },
    {
     "data": {
      "text/plain": [
       "count    3.518300e+04\n",
       "mean     7.652388e+04\n",
       "std      7.354724e+05\n",
       "min      0.000000e+00\n",
       "25%      1.004500e+03\n",
       "50%      6.772000e+03\n",
       "75%      2.644650e+04\n",
       "max      7.836404e+07\n",
       "Name: total_pay, dtype: float64"
      ]
     },
     "execution_count": 71,
     "metadata": {},
     "output_type": "execute_result"
    }
   ],
   "source": [
    "#total_pay\n",
    "print(combine.total_pay.isnull().sum())\n",
    "print(\"_______\")\n",
    "combine.total_pay.describe()"
   ]
  },
  {
   "cell_type": "code",
   "execution_count": 72,
   "metadata": {},
   "outputs": [],
   "source": [
    "combine.total_pay=combine.total_pay.fillna(-1)\n",
    "combine.total_pay=combine.total_pay.round()\n",
    "combine.total_pay=combine.total_pay.astype('int64')"
   ]
  },
  {
   "cell_type": "code",
   "execution_count": 73,
   "metadata": {},
   "outputs": [
    {
     "data": {
      "text/plain": [
       "count    4.392300e+04\n",
       "mean     6.129661e+04\n",
       "std      6.589506e+05\n",
       "min     -1.000000e+00\n",
       "25%      0.000000e+00\n",
       "50%      3.264000e+03\n",
       "75%      1.836600e+04\n",
       "max      7.836404e+07\n",
       "Name: total_pay, dtype: float64"
      ]
     },
     "execution_count": 73,
     "metadata": {},
     "output_type": "execute_result"
    }
   ],
   "source": [
    "combine.total_pay.describe()"
   ]
  },
  {
   "cell_type": "code",
   "execution_count": 74,
   "metadata": {},
   "outputs": [
    {
     "data": {
      "text/plain": [
       "count    43923.000000\n",
       "mean         2.966054\n",
       "std          2.448004\n",
       "min         -1.000000\n",
       "25%          0.000000\n",
       "50%          4.000000\n",
       "75%          5.000000\n",
       "max          8.000000\n",
       "Name: total_pay, dtype: float64"
      ]
     },
     "execution_count": 74,
     "metadata": {},
     "output_type": "execute_result"
    }
   ],
   "source": [
    "combine.loc[(combine['total_pay'] >= 1) & (combine['total_pay'] <10),'total_pay'] = 1\n",
    "combine.loc[(combine['total_pay'] >= 10) & (combine['total_pay'] <100),'total_pay'] = 2\n",
    "combine.loc[(combine['total_pay'] >= 100) & (combine['total_pay'] <1000),'total_pay'] = 3\n",
    "combine.loc[(combine['total_pay'] >= 1000) & (combine['total_pay'] <10000),'total_pay'] = 4\n",
    "combine.loc[(combine['total_pay'] >=10000) & (combine['total_pay'] <100000),'total_pay'] = 5\n",
    "combine.loc[(combine['total_pay'] >= 100000) & (combine['total_pay'] < 1000000),'total_pay'] = 6\n",
    "combine.loc[(combine['total_pay'] >= 1000000) & (combine['total_pay'] < 10000000),'total_pay'] = 7\n",
    "combine.loc[combine['total_pay'] >= 10000000,'total_pay'] = 8\n",
    "combine['total_pay'].describe()"
   ]
  },
  {
   "cell_type": "code",
   "execution_count": 75,
   "metadata": {},
   "outputs": [
    {
     "name": "stdout",
     "output_type": "stream",
     "text": [
      "8740\n",
      "_______\n"
     ]
    },
    {
     "data": {
      "text/plain": [
       "count    35183.000000\n",
       "mean        -0.020322\n",
       "std          0.959389\n",
       "min         -1.000000\n",
       "25%         -1.000000\n",
       "50%          0.000000\n",
       "75%          1.000000\n",
       "max          1.000000\n",
       "Name: inorout_ind, dtype: float64"
      ]
     },
     "execution_count": 75,
     "metadata": {},
     "output_type": "execute_result"
    }
   ],
   "source": [
    "#inorout_ind\n",
    "print(combine.inorout_ind.isnull().sum())\n",
    "print(\"_______\")\n",
    "combine.inorout_ind.describe()"
   ]
  },
  {
   "cell_type": "code",
   "execution_count": 76,
   "metadata": {},
   "outputs": [],
   "source": [
    "combine.inorout_ind=combine.inorout_ind.fillna(2)\n",
    "combine.inorout_ind=combine.inorout_ind.astype('int64')"
   ]
  },
  {
   "cell_type": "code",
   "execution_count": 77,
   "metadata": {},
   "outputs": [
    {
     "name": "stdout",
     "output_type": "stream",
     "text": [
      "8740\n",
      "_______\n"
     ]
    },
    {
     "data": {
      "text/plain": [
       "count    3.518300e+04\n",
       "mean    -1.905380e+02\n",
       "std      1.170097e+05\n",
       "min     -9.997653e+06\n",
       "25%     -1.528500e+03\n",
       "50%      0.000000e+00\n",
       "75%      1.015000e+03\n",
       "max      9.916500e+06\n",
       "Name: inorout_sum, dtype: float64"
      ]
     },
     "execution_count": 77,
     "metadata": {},
     "output_type": "execute_result"
    }
   ],
   "source": [
    "#inorout_sum\n",
    "print(combine.inorout_sum.isnull().sum())\n",
    "print(\"_______\")\n",
    "combine.inorout_sum.describe()"
   ]
  },
  {
   "cell_type": "code",
   "execution_count": 78,
   "metadata": {},
   "outputs": [
    {
     "data": {
      "text/plain": [
       "count    43923.000000\n",
       "mean         1.329850\n",
       "std          3.716519\n",
       "min         -6.000000\n",
       "25%         -2.000000\n",
       "50%          2.000000\n",
       "75%          4.000000\n",
       "max          7.000000\n",
       "Name: inorout_sum, dtype: float64"
      ]
     },
     "execution_count": 78,
     "metadata": {},
     "output_type": "execute_result"
    }
   ],
   "source": [
    "combine.loc[(combine['inorout_sum'] > -100) & (combine['inorout_sum'] <=-1),'inorout_sum'] = -1\n",
    "combine.loc[(combine['inorout_sum'] > -1000) & (combine['inorout_sum'] <=-100),'inorout_sum'] = -2\n",
    "combine.loc[(combine['inorout_sum'] > -10000) & (combine['inorout_sum'] <=-1000),'inorout_sum'] = -3\n",
    "combine.loc[(combine['inorout_sum'] > -100000) & (combine['inorout_sum'] <=-10000),'inorout_sum'] = -4\n",
    "combine.loc[(combine['inorout_sum'] > -1000000) & (combine['inorout_sum'] <=-100000),'inorout_sum'] = -5\n",
    "combine.loc[combine['inorout_sum'] <= -1000000,'inorout_sum'] = -6\n",
    "\n",
    "combine.loc[(combine['inorout_sum'] >= 1) & (combine['inorout_sum'] <100),'inorout_sum'] = 1\n",
    "combine.loc[(combine['inorout_sum'] >= 100) & (combine['inorout_sum'] <1000),'inorout_sum'] = 2\n",
    "combine.loc[(combine['inorout_sum'] >= 1000) & (combine['inorout_sum'] <10000),'inorout_sum'] = 3\n",
    "combine.loc[(combine['inorout_sum'] >=10000) & (combine['inorout_sum'] <100000),'inorout_sum'] = 4\n",
    "combine.loc[(combine['inorout_sum'] >= 100000) & (combine['inorout_sum'] < 1000000),'inorout_sum'] = 5\n",
    "combine.loc[combine['inorout_sum'] >= 1000000,'inorout_sum'] = 6\n",
    "combine.inorout_sum=combine.inorout_sum.fillna(7)\n",
    "combine.inorout_sum=combine.inorout_sum.astype('int64')\n",
    "combine['inorout_sum'].describe()"
   ]
  },
  {
   "cell_type": "code",
   "execution_count": 79,
   "metadata": {},
   "outputs": [
    {
     "name": "stdout",
     "output_type": "stream",
     "text": [
      "8740\n",
      "_______\n"
     ]
    },
    {
     "data": {
      "text/plain": [
       "count    35183.000000\n",
       "mean         0.266743\n",
       "std          0.393300\n",
       "min          0.000000\n",
       "25%          0.000000\n",
       "50%          0.000000\n",
       "75%          0.588057\n",
       "max          1.000000\n",
       "Name: BA_ratio, dtype: float64"
      ]
     },
     "execution_count": 79,
     "metadata": {},
     "output_type": "execute_result"
    }
   ],
   "source": [
    "#BA_ratio\n",
    "print(combine.BA_ratio.isnull().sum())\n",
    "print(\"_______\")\n",
    "combine.BA_ratio.describe()"
   ]
  },
  {
   "cell_type": "code",
   "execution_count": 80,
   "metadata": {},
   "outputs": [
    {
     "data": {
      "text/plain": [
       "count    43923.000000\n",
       "mean         2.151948\n",
       "std          4.120404\n",
       "min         -1.000000\n",
       "25%          0.000000\n",
       "50%          0.000000\n",
       "75%          4.000000\n",
       "max         11.000000\n",
       "Name: BA_ratio, dtype: float64"
      ]
     },
     "execution_count": 80,
     "metadata": {},
     "output_type": "execute_result"
    }
   ],
   "source": [
    "combine.BA_ratio=combine.BA_ratio.fillna(-1)\n",
    "\n",
    "combine.loc[combine['BA_ratio'] >= 1,'BA_ratio'] = 11\n",
    "combine.loc[(combine['BA_ratio'] > 0) & (combine['BA_ratio'] <0.1),'BA_ratio'] = 1\n",
    "combine.loc[(combine['BA_ratio'] >= 0.1) & (combine['BA_ratio'] <0.2),'BA_ratio'] = 2\n",
    "combine.loc[(combine['BA_ratio'] >= 0.2) & (combine['BA_ratio'] <0.3),'BA_ratio'] = 3\n",
    "combine.loc[(combine['BA_ratio'] >= 0.3) & (combine['BA_ratio'] <0.4),'BA_ratio'] = 4\n",
    "combine.loc[(combine['BA_ratio'] >=0.4) & (combine['BA_ratio'] <0.5),'BA_ratio'] = 5\n",
    "combine.loc[(combine['BA_ratio'] >= 0.5) & (combine['BA_ratio'] < 0.6),'BA_ratio'] = 6\n",
    "combine.loc[(combine['BA_ratio'] >= 0.6) & (combine['BA_ratio'] < 0.7),'BA_ratio'] = 7\n",
    "combine.loc[(combine['BA_ratio'] >= 0.7) & (combine['BA_ratio'] < 0.8),'BA_ratio'] = 8\n",
    "combine.loc[(combine['BA_ratio'] >= 0.8) & (combine['BA_ratio'] < 0.9),'BA_ratio'] = 9\n",
    "combine.loc[(combine['BA_ratio'] >= 0.9) & (combine['BA_ratio'] < 1),'BA_ratio'] = 10\n",
    "combine.BA_ratio=combine.BA_ratio.astype('int64')\n",
    "combine['BA_ratio'].describe()"
   ]
  },
  {
   "cell_type": "code",
   "execution_count": 81,
   "metadata": {},
   "outputs": [
    {
     "name": "stdout",
     "output_type": "stream",
     "text": [
      "8740\n",
      "_______\n"
     ]
    },
    {
     "data": {
      "text/plain": [
       "count    35183.000000\n",
       "mean         0.640129\n",
       "std          0.434279\n",
       "min          0.000000\n",
       "25%          0.080000\n",
       "50%          1.000000\n",
       "75%          1.000000\n",
       "max          1.000000\n",
       "Name: BB_ratio, dtype: float64"
      ]
     },
     "execution_count": 81,
     "metadata": {},
     "output_type": "execute_result"
    }
   ],
   "source": [
    "#BB_ratio\n",
    "print(combine.BB_ratio.isnull().sum())\n",
    "print(\"_______\")\n",
    "combine.BB_ratio.describe()"
   ]
  },
  {
   "cell_type": "code",
   "execution_count": 82,
   "metadata": {},
   "outputs": [
    {
     "data": {
      "text/plain": [
       "count    43923.000000\n",
       "mean         2.439792\n",
       "std          2.511970\n",
       "min         -1.000000\n",
       "25%          0.000000\n",
       "50%          3.000000\n",
       "75%          5.000000\n",
       "max          5.000000\n",
       "Name: BB_ratio, dtype: float64"
      ]
     },
     "execution_count": 82,
     "metadata": {},
     "output_type": "execute_result"
    }
   ],
   "source": [
    "combine.BB_ratio=combine.BB_ratio.fillna(-1)\n",
    "\n",
    "combine.loc[combine['BB_ratio'] >= 1,'BB_ratio'] = 5\n",
    "combine.loc[(combine['BB_ratio'] > 0) & (combine['BB_ratio'] <0.1),'BB_ratio'] = 1\n",
    "combine.loc[(combine['BB_ratio'] >= 0.1) & (combine['BB_ratio'] <0.4),'BB_ratio'] = 2\n",
    "combine.loc[(combine['BB_ratio'] >=0.4) & (combine['BB_ratio'] <0.7),'BB_ratio'] = 3\n",
    "combine.loc[(combine['BB_ratio'] >= 0.7) & (combine['BB_ratio'] < 1),'BB_ratio'] = 4\n",
    "combine.BB_ratio=combine.BB_ratio.astype('int64')\n",
    "combine['BB_ratio'].describe()"
   ]
  },
  {
   "cell_type": "code",
   "execution_count": 83,
   "metadata": {},
   "outputs": [
    {
     "name": "stdout",
     "output_type": "stream",
     "text": [
      "8740\n",
      "_______\n"
     ]
    },
    {
     "data": {
      "text/plain": [
       "count    35183.000000\n",
       "mean         0.006836\n",
       "std          0.062898\n",
       "min          0.000000\n",
       "25%          0.000000\n",
       "50%          0.000000\n",
       "75%          0.000000\n",
       "max          1.000000\n",
       "Name: BC_ratio, dtype: float64"
      ]
     },
     "execution_count": 83,
     "metadata": {},
     "output_type": "execute_result"
    }
   ],
   "source": [
    "#BC_ratio\n",
    "print(combine.BC_ratio.isnull().sum())\n",
    "print(\"_______\")\n",
    "combine.BC_ratio.describe()"
   ]
  },
  {
   "cell_type": "code",
   "execution_count": 84,
   "metadata": {},
   "outputs": [
    {
     "data": {
      "text/plain": [
       "count    43923.000000\n",
       "mean        -0.157822\n",
       "std          0.523653\n",
       "min         -1.000000\n",
       "25%          0.000000\n",
       "50%          0.000000\n",
       "75%          0.000000\n",
       "max          5.000000\n",
       "Name: BC_ratio, dtype: float64"
      ]
     },
     "execution_count": 84,
     "metadata": {},
     "output_type": "execute_result"
    }
   ],
   "source": [
    "combine.BC_ratio=combine.BC_ratio.fillna(-1)\n",
    "\n",
    "combine.loc[combine['BC_ratio'] >= 1,'BC_ratio'] = 5\n",
    "combine.loc[(combine['BC_ratio'] > 0) & (combine['BC_ratio'] <0.25),'BC_ratio'] = 1\n",
    "combine.loc[(combine['BC_ratio'] >= 0.25) & (combine['BC_ratio'] <0.5),'BC_ratio'] = 2\n",
    "combine.loc[(combine['BC_ratio'] >=0.5) & (combine['BC_ratio'] <0.75),'BC_ratio'] = 3\n",
    "combine.loc[(combine['BC_ratio'] >= 0.75) & (combine['BC_ratio'] < 1),'BC_ratio'] = 4\n",
    "combine.BC_ratio=combine.BC_ratio.astype('int64')\n",
    "combine['BC_ratio'].describe()"
   ]
  },
  {
   "cell_type": "code",
   "execution_count": 85,
   "metadata": {},
   "outputs": [
    {
     "name": "stdout",
     "output_type": "stream",
     "text": [
      "8740\n",
      "_______\n"
     ]
    },
    {
     "data": {
      "text/plain": [
       "count    35183.000000\n",
       "mean         0.450455\n",
       "std          0.234156\n",
       "min          0.083333\n",
       "25%          0.285714\n",
       "50%          0.388889\n",
       "75%          0.500000\n",
       "max          1.000000\n",
       "Name: TrxCod2_ratio, dtype: float64"
      ]
     },
     "execution_count": 85,
     "metadata": {},
     "output_type": "execute_result"
    }
   ],
   "source": [
    "#TrxCod2_ratio\n",
    "print(combine.TrxCod2_ratio.isnull().sum())\n",
    "print(\"_______\")\n",
    "combine.TrxCod2_ratio.describe()"
   ]
  },
  {
   "cell_type": "code",
   "execution_count": 86,
   "metadata": {},
   "outputs": [
    {
     "data": {
      "text/plain": [
       "count    43923.000000\n",
       "mean         4.124991\n",
       "std          3.026309\n",
       "min          0.000000\n",
       "25%          3.000000\n",
       "50%          4.000000\n",
       "75%          6.000000\n",
       "max         11.000000\n",
       "Name: TrxCod2_ratio, dtype: float64"
      ]
     },
     "execution_count": 86,
     "metadata": {},
     "output_type": "execute_result"
    }
   ],
   "source": [
    "combine.TrxCod2_ratio=combine.TrxCod2_ratio.fillna(0)\n",
    "\n",
    "combine.loc[combine['TrxCod2_ratio'] >= 1,'TrxCod2_ratio'] = 11\n",
    "combine.loc[(combine['TrxCod2_ratio'] > 0) & (combine['TrxCod2_ratio'] <0.1),'TrxCod2_ratio'] = 1\n",
    "combine.loc[(combine['TrxCod2_ratio'] >= 0.1) & (combine['TrxCod2_ratio'] <0.2),'TrxCod2_ratio'] = 2\n",
    "combine.loc[(combine['TrxCod2_ratio'] >= 0.2) & (combine['TrxCod2_ratio'] <0.3),'TrxCod2_ratio'] = 3\n",
    "combine.loc[(combine['TrxCod2_ratio'] >= 0.3) & (combine['TrxCod2_ratio'] <0.4),'TrxCod2_ratio'] = 4\n",
    "combine.loc[(combine['TrxCod2_ratio'] >=0.4) & (combine['TrxCod2_ratio'] <0.5),'TrxCod2_ratio'] = 5\n",
    "combine.loc[(combine['TrxCod2_ratio'] >= 0.5) & (combine['TrxCod2_ratio'] < 0.6),'TrxCod2_ratio'] = 6\n",
    "combine.loc[(combine['TrxCod2_ratio'] >= 0.6) & (combine['TrxCod2_ratio'] < 0.7),'TrxCod2_ratio'] = 7\n",
    "combine.loc[(combine['TrxCod2_ratio'] >= 0.7) & (combine['TrxCod2_ratio'] < 0.8),'TrxCod2_ratio'] = 8\n",
    "combine.loc[(combine['TrxCod2_ratio'] >= 0.8) & (combine['TrxCod2_ratio'] < 0.9),'TrxCod2_ratio'] = 9\n",
    "combine.loc[(combine['TrxCod2_ratio'] >= 0.9) & (combine['TrxCod2_ratio'] < 1),'TrxCod2_ratio'] = 10\n",
    "combine.TrxCod2_ratio=combine.TrxCod2_ratio.astype('int64')\n",
    "combine['TrxCod2_ratio'].describe()"
   ]
  },
  {
   "cell_type": "code",
   "execution_count": null,
   "metadata": {},
   "outputs": [],
   "source": []
  },
  {
   "cell_type": "code",
   "execution_count": 87,
   "metadata": {},
   "outputs": [
    {
     "name": "stdout",
     "output_type": "stream",
     "text": [
      "0\n",
      "_______\n"
     ]
    },
    {
     "data": {
      "text/plain": [
       "count    43923.000000\n",
       "mean         1.439906\n",
       "std          1.451806\n",
       "min          0.000000\n",
       "25%          1.000000\n",
       "50%          1.000000\n",
       "75%          2.000000\n",
       "max        173.000000\n",
       "Name: cur_credit_cnt, dtype: float64"
      ]
     },
     "execution_count": 87,
     "metadata": {},
     "output_type": "execute_result"
    },
    {
     "data": {
      "image/png": "[encoded data removed]",
      "text/plain": [
       "<Figure size 1008x432 with 1 Axes>"
      ]
     },
     "metadata": {
      "needs_background": "light"
     },
     "output_type": "display_data"
    }
   ],
   "source": [
    "#cur_credit_cnt\n",
    "plt.figure(figsize=(14,6))\n",
    "cur_credit_cnt_flag=combine[:39923][['cur_credit_cnt', 'flag']].groupby(['cur_credit_cnt'],as_index=False).mean()\n",
    "sns.barplot(x='cur_credit_cnt', y='flag',data=cur_credit_cnt_flag)\n",
    "print(combine.cur_credit_cnt.isnull().sum())\n",
    "print(\"_______\")\n",
    "combine.cur_credit_cnt.describe()"
   ]
  },
  {
   "cell_type": "code",
   "execution_count": 88,
   "metadata": {},
   "outputs": [
    {
     "data": {
      "text/plain": [
       "count    43923.000000\n",
       "mean         1.430890\n",
       "std          0.859818\n",
       "min          0.000000\n",
       "25%          1.000000\n",
       "50%          1.000000\n",
       "75%          2.000000\n",
       "max          8.000000\n",
       "Name: cur_credit_cnt, dtype: float64"
      ]
     },
     "execution_count": 88,
     "metadata": {},
     "output_type": "execute_result"
    }
   ],
   "source": [
    "combine.loc[combine['cur_credit_cnt'] >=8,'cur_credit_cnt'] = 8\n",
    "\n",
    "combine['cur_credit_cnt'].describe()"
   ]
  },
  {
   "cell_type": "code",
   "execution_count": 89,
   "metadata": {},
   "outputs": [
    {
     "name": "stdout",
     "output_type": "stream",
     "text": [
      "0\n",
      "_______\n"
     ]
    },
    {
     "data": {
      "text/plain": [
       "count    43923.000000\n",
       "mean      1292.516905\n",
       "std       1269.614518\n",
       "min         -1.000000\n",
       "25%        360.000000\n",
       "50%        860.000000\n",
       "75%       1810.000000\n",
       "max       6086.000000\n",
       "Name: cur_credit_min_opn_dt_cnt, dtype: float64"
      ]
     },
     "execution_count": 89,
     "metadata": {},
     "output_type": "execute_result"
    }
   ],
   "source": [
    "#cur_credit_min_opn_dt_cnt\n",
    "print(combine.cur_credit_min_opn_dt_cnt.isnull().sum())\n",
    "print(\"_______\")\n",
    "combine.cur_credit_min_opn_dt_cnt.describe()"
   ]
  },
  {
   "cell_type": "code",
   "execution_count": 90,
   "metadata": {},
   "outputs": [
    {
     "data": {
      "text/plain": [
       "count    43923.000000\n",
       "mean         3.728935\n",
       "std          3.336284\n",
       "min         -1.000000\n",
       "25%          1.000000\n",
       "50%          3.000000\n",
       "75%          5.000000\n",
       "max         11.000000\n",
       "Name: cur_credit_min_opn_dt_cnt, dtype: float64"
      ]
     },
     "execution_count": 90,
     "metadata": {},
     "output_type": "execute_result"
    }
   ],
   "source": [
    "combine.loc[(combine['cur_credit_min_opn_dt_cnt'] >= 0) & (combine['cur_credit_min_opn_dt_cnt'] <=180),\n",
    "            'cur_credit_min_opn_dt_cnt'] = 0\n",
    "combine.loc[(combine['cur_credit_min_opn_dt_cnt'] >= 181) & (combine['cur_credit_min_opn_dt_cnt'] <=365),\n",
    "            'cur_credit_min_opn_dt_cnt'] = 1\n",
    "combine.loc[(combine['cur_credit_min_opn_dt_cnt'] >= 366) & (combine['cur_credit_min_opn_dt_cnt'] <=730),\n",
    "            'cur_credit_min_opn_dt_cnt'] = 2\n",
    "combine.loc[(combine['cur_credit_min_opn_dt_cnt'] >= 731) & (combine['cur_credit_min_opn_dt_cnt'] <= 1095),\n",
    "            'cur_credit_min_opn_dt_cnt'] = 3\n",
    "combine.loc[(combine['cur_credit_min_opn_dt_cnt'] >= 1096) & (combine['cur_credit_min_opn_dt_cnt'] <= 1460),\n",
    "            'cur_credit_min_opn_dt_cnt'] = 4\n",
    "combine.loc[(combine['cur_credit_min_opn_dt_cnt'] >= 1461) & (combine['cur_credit_min_opn_dt_cnt'] <= 1825),\n",
    "            'cur_credit_min_opn_dt_cnt'] = 5\n",
    "combine.loc[(combine['cur_credit_min_opn_dt_cnt'] >= 1826) & (combine['cur_credit_min_opn_dt_cnt'] <= 2190),\n",
    "            'cur_credit_min_opn_dt_cnt'] = 6\n",
    "combine.loc[(combine['cur_credit_min_opn_dt_cnt'] >= 2191) & (combine['cur_credit_min_opn_dt_cnt'] <= 2555),\n",
    "            'cur_credit_min_opn_dt_cnt'] = 7\n",
    "combine.loc[(combine['cur_credit_min_opn_dt_cnt'] >= 2556) & (combine['cur_credit_min_opn_dt_cnt'] <= 2920),\n",
    "            'cur_credit_min_opn_dt_cnt'] = 8\n",
    "combine.loc[(combine['cur_credit_min_opn_dt_cnt'] >= 2921) & (combine['cur_credit_min_opn_dt_cnt'] <= 3285),\n",
    "            'cur_credit_min_opn_dt_cnt'] = 9\n",
    "combine.loc[(combine['cur_credit_min_opn_dt_cnt'] >= 3286) & (combine['cur_credit_min_opn_dt_cnt'] <= 3650),\n",
    "            'cur_credit_min_opn_dt_cnt'] = 10\n",
    "combine.loc[combine['cur_credit_min_opn_dt_cnt'] >= 3651,'cur_credit_min_opn_dt_cnt'] = 11\n",
    "combine['cur_credit_min_opn_dt_cnt'].describe()"
   ]
  },
  {
   "cell_type": "code",
   "execution_count": 91,
   "metadata": {},
   "outputs": [
    {
     "name": "stdout",
     "output_type": "stream",
     "text": [
      "545\n",
      "_______\n"
     ]
    },
    {
     "data": {
      "text/plain": [
       "count     43378\n",
       "unique       12\n",
       "top          20\n",
       "freq      23755\n",
       "Name: hld_crd_card_grd_cd, dtype: object"
      ]
     },
     "execution_count": 91,
     "metadata": {},
     "output_type": "execute_result"
    },
    {
     "data": {
      "image/png": "[encoded data removed]",
      "text/plain": [
       "<Figure size 1008x432 with 1 Axes>"
      ]
     },
     "metadata": {
      "needs_background": "light"
     },
     "output_type": "display_data"
    }
   ],
   "source": [
    "#hld_crd_card_grd_cd\n",
    "plt.figure(figsize=(14,6))\n",
    "hld_crd_card_grd_cd_flag=combine[:39923][['hld_crd_card_grd_cd', 'flag']].groupby(['hld_crd_card_grd_cd'],as_index=False).mean()\n",
    "sns.barplot(x='hld_crd_card_grd_cd', y='flag',data=hld_crd_card_grd_cd_flag)\n",
    "print(combine.hld_crd_card_grd_cd.isnull().sum())\n",
    "print(\"_______\")\n",
    "combine.hld_crd_card_grd_cd.describe()"
   ]
  },
  {
   "cell_type": "code",
   "execution_count": 92,
   "metadata": {},
   "outputs": [],
   "source": [
    "combine.hld_crd_card_grd_cd=combine.hld_crd_card_grd_cd.fillna(0)\n",
    "combine['hld_crd_card_grd_cd']=combine['hld_crd_card_grd_cd'].astype('int64')"
   ]
  },
  {
   "cell_type": "code",
   "execution_count": 93,
   "metadata": {},
   "outputs": [
    {
     "data": {
      "text/plain": [
       "count    43923.000000\n",
       "mean        15.190720\n",
       "std          7.313473\n",
       "min         -1.000000\n",
       "25%         10.000000\n",
       "50%         20.000000\n",
       "75%         20.000000\n",
       "max         60.000000\n",
       "Name: hld_crd_card_grd_cd, dtype: float64"
      ]
     },
     "execution_count": 93,
     "metadata": {},
     "output_type": "execute_result"
    }
   ],
   "source": [
    "combine.loc[combine['hld_crd_card_grd_cd'] >=60,'hld_crd_card_grd_cd'] = 60\n",
    "combine['hld_crd_card_grd_cd'].describe()"
   ]
  },
  {
   "cell_type": "code",
   "execution_count": 94,
   "metadata": {},
   "outputs": [
    {
     "name": "stdout",
     "output_type": "stream",
     "text": [
      "552\n",
      "_______\n"
     ]
    },
    {
     "data": {
      "text/plain": [
       "count     43371\n",
       "unique        2\n",
       "top           1\n",
       "freq      31421\n",
       "Name: crd_card_act_ind, dtype: object"
      ]
     },
     "execution_count": 94,
     "metadata": {},
     "output_type": "execute_result"
    },
    {
     "data": {
      "image/png": "[encoded data removed]",
      "text/plain": [
       "<Figure size 1008x432 with 1 Axes>"
      ]
     },
     "metadata": {
      "needs_background": "light"
     },
     "output_type": "display_data"
    }
   ],
   "source": [
    "#crd_card_act_ind\n",
    "plt.figure(figsize=(14,6))\n",
    "crd_card_act_ind_flag=combine[:39923][['crd_card_act_ind', 'flag']].groupby(['crd_card_act_ind'],as_index=False).mean()\n",
    "sns.barplot(x='crd_card_act_ind', y='flag',data=crd_card_act_ind_flag)\n",
    "print(combine.crd_card_act_ind.isnull().sum())\n",
    "print(\"_______\")\n",
    "combine.crd_card_act_ind.describe()"
   ]
  },
  {
   "cell_type": "code",
   "execution_count": 95,
   "metadata": {},
   "outputs": [
    {
     "name": "stdout",
     "output_type": "stream",
     "text": [
      "0\n"
     ]
    }
   ],
   "source": [
    "combine.crd_card_act_ind[combine.crd_card_act_ind.isnull()]=combine.crd_card_act_ind.dropna().mode().values\n",
    "print(combine.crd_card_act_ind.isnull().sum())"
   ]
  },
  {
   "cell_type": "code",
   "execution_count": 96,
   "metadata": {},
   "outputs": [
    {
     "name": "stdout",
     "output_type": "stream",
     "text": [
      "552\n",
      "_______\n"
     ]
    },
    {
     "data": {
      "text/plain": [
       "count     43371\n",
       "unique        6\n",
       "top           3\n",
       "freq      12889\n",
       "Name: l1y_crd_card_csm_amt_dlm_cd, dtype: object"
      ]
     },
     "execution_count": 96,
     "metadata": {},
     "output_type": "execute_result"
    },
    {
     "data": {
      "image/png": "[encoded data removed]",
      "text/plain": [
       "<Figure size 1008x432 with 1 Axes>"
      ]
     },
     "metadata": {
      "needs_background": "light"
     },
     "output_type": "display_data"
    }
   ],
   "source": [
    "#l1y_crd_card_csm_amt_dlm_cd\n",
    "plt.figure(figsize=(14,6))\n",
    "l1y_crd_card_csm_amt_dlm_cd_flag=combine[:39923][['l1y_crd_card_csm_amt_dlm_cd', 'flag']].groupby(['l1y_crd_card_csm_amt_dlm_cd'],as_index=False).mean()\n",
    "sns.barplot(x='l1y_crd_card_csm_amt_dlm_cd', y='flag',data=l1y_crd_card_csm_amt_dlm_cd_flag)\n",
    "print(combine.l1y_crd_card_csm_amt_dlm_cd.isnull().sum())\n",
    "print(\"_______\")\n",
    "combine.l1y_crd_card_csm_amt_dlm_cd.describe()"
   ]
  },
  {
   "cell_type": "code",
   "execution_count": 97,
   "metadata": {},
   "outputs": [
    {
     "name": "stdout",
     "output_type": "stream",
     "text": [
      "0\n"
     ]
    }
   ],
   "source": [
    "combine.l1y_crd_card_csm_amt_dlm_cd[combine.l1y_crd_card_csm_amt_dlm_cd.isnull()]=combine.l1y_crd_card_csm_amt_dlm_cd.dropna().mode().values\n",
    "print(combine.l1y_crd_card_csm_amt_dlm_cd.isnull().sum())"
   ]
  },
  {
   "cell_type": "code",
   "execution_count": 98,
   "metadata": {},
   "outputs": [
    {
     "name": "stdout",
     "output_type": "stream",
     "text": [
      "0\n",
      "_______\n"
     ]
    },
    {
     "data": {
      "text/plain": [
       "count    43923.000000\n",
       "mean         3.688182\n",
       "std          2.123628\n",
       "min         -1.000000\n",
       "25%          2.000000\n",
       "50%          3.000000\n",
       "75%          5.000000\n",
       "max          8.000000\n",
       "Name: perm_crd_lmt_cd, dtype: float64"
      ]
     },
     "execution_count": 98,
     "metadata": {},
     "output_type": "execute_result"
    },
    {
     "data": {
      "image/png": "[encoded data removed]",
      "text/plain": [
       "<Figure size 1008x432 with 1 Axes>"
      ]
     },
     "metadata": {
      "needs_background": "light"
     },
     "output_type": "display_data"
    }
   ],
   "source": [
    "#perm_crd_lmt_cd\n",
    "plt.figure(figsize=(14,6))\n",
    "perm_crd_lmt_cd_flag=combine[:39923][['perm_crd_lmt_cd', 'flag']].groupby(['perm_crd_lmt_cd'],as_index=False).mean()\n",
    "sns.barplot(x='perm_crd_lmt_cd', y='flag',data=perm_crd_lmt_cd_flag)\n",
    "print(combine.perm_crd_lmt_cd.isnull().sum())\n",
    "print(\"_______\")\n",
    "combine.perm_crd_lmt_cd.describe()"
   ]
  },
  {
   "cell_type": "code",
   "execution_count": 99,
   "metadata": {},
   "outputs": [
    {
     "name": "stdout",
     "output_type": "stream",
     "text": [
      "0\n",
      "_______\n"
     ]
    },
    {
     "data": {
      "text/plain": [
       "count    43923.000000\n",
       "mean        34.298750\n",
       "std          8.529079\n",
       "min         19.000000\n",
       "25%         28.000000\n",
       "50%         33.000000\n",
       "75%         39.000000\n",
       "max         84.000000\n",
       "Name: age, dtype: float64"
      ]
     },
     "execution_count": 99,
     "metadata": {},
     "output_type": "execute_result"
    },
    {
     "data": {
      "image/png": "[encoded data removed]",
      "text/plain": [
       "<Figure size 1008x432 with 1 Axes>"
      ]
     },
     "metadata": {
      "needs_background": "light"
     },
     "output_type": "display_data"
    }
   ],
   "source": [
    "#age\n",
    "plt.figure(figsize=(14,6))\n",
    "age_flag=combine[:39923][['age', 'flag']].groupby(['age'],as_index=False).mean()\n",
    "sns.barplot(x='age', y='flag',data=age_flag)\n",
    "print(combine.age.isnull().sum())\n",
    "print(\"_______\")\n",
    "combine.age.describe()"
   ]
  },
  {
   "cell_type": "code",
   "execution_count": 100,
   "metadata": {},
   "outputs": [
    {
     "data": {
      "text/plain": [
       "count    43923.000000\n",
       "mean         4.462491\n",
       "std          1.723320\n",
       "min          1.000000\n",
       "25%          3.000000\n",
       "50%          4.000000\n",
       "75%          5.000000\n",
       "max         12.000000\n",
       "Name: age, dtype: float64"
      ]
     },
     "execution_count": 100,
     "metadata": {},
     "output_type": "execute_result"
    }
   ],
   "source": [
    "combine.loc[combine['age'] <20,'age'] = 1\n",
    "combine.loc[(combine['age'] >= 20) & (combine['age'] < 25),'age'] = 2\n",
    "combine.loc[(combine['age'] >= 25) & (combine['age'] < 30),'age'] = 3\n",
    "combine.loc[(combine['age'] >= 30) & (combine['age'] < 35),'age'] = 4\n",
    "combine.loc[(combine['age'] >= 35) & (combine['age'] < 40),'age'] = 5\n",
    "combine.loc[(combine['age'] >= 40) & (combine['age'] < 45),'age'] = 6\n",
    "combine.loc[(combine['age'] >= 45) & (combine['age'] < 50),'age'] = 7\n",
    "combine.loc[(combine['age'] >= 50) & (combine['age'] < 55),'age'] = 8\n",
    "combine.loc[(combine['age'] >= 55) & (combine['age'] < 60),'age'] = 9\n",
    "combine.loc[(combine['age'] >= 60) & (combine['age'] < 65),'age'] = 10\n",
    "combine.loc[(combine['age'] >= 65) & (combine['age'] < 70),'age'] = 11\n",
    "combine.loc[combine['age'] >= 70,'age'] = 12\n",
    "combine['age'].describe()\n"
   ]
  },
  {
   "cell_type": "code",
   "execution_count": 101,
   "metadata": {},
   "outputs": [
    {
     "name": "stdout",
     "output_type": "stream",
     "text": [
      "822\n",
      "_______\n"
     ]
    },
    {
     "data": {
      "text/plain": [
       "count     43101\n",
       "unique        2\n",
       "top           M\n",
       "freq      25282\n",
       "Name: gdr_cd, dtype: object"
      ]
     },
     "execution_count": 101,
     "metadata": {},
     "output_type": "execute_result"
    },
    {
     "data": {
      "image/png": "[encoded data removed]",
      "text/plain": [
       "<Figure size 1008x432 with 1 Axes>"
      ]
     },
     "metadata": {
      "needs_background": "light"
     },
     "output_type": "display_data"
    }
   ],
   "source": [
    "#gdr_cd\n",
    "plt.figure(figsize=(14,6))\n",
    "gdr_cd_flag=combine[:39923][['gdr_cd', 'flag']].groupby(['gdr_cd'],as_index=False).mean()\n",
    "sns.barplot(x='gdr_cd', y='flag',data=gdr_cd_flag)\n",
    "print(combine.gdr_cd.isnull().sum())\n",
    "print(\"_______\")\n",
    "combine.gdr_cd.describe()"
   ]
  },
  {
   "cell_type": "code",
   "execution_count": 102,
   "metadata": {},
   "outputs": [
    {
     "name": "stdout",
     "output_type": "stream",
     "text": [
      "0\n"
     ]
    }
   ],
   "source": [
    "combine.gdr_cd[combine.gdr_cd.isnull()]=combine.gdr_cd.dropna().mode().values\n",
    "print(combine.gdr_cd.isnull().sum())"
   ]
  },
  {
   "cell_type": "code",
   "execution_count": 103,
   "metadata": {},
   "outputs": [],
   "source": [
    "combine['gdr_cd'] = combine['gdr_cd'].map( {'F': 1, 'M': 0} ).astype('int64')"
   ]
  },
  {
   "cell_type": "code",
   "execution_count": 104,
   "metadata": {},
   "outputs": [
    {
     "name": "stdout",
     "output_type": "stream",
     "text": [
      "822\n",
      "_______\n"
     ]
    },
    {
     "data": {
      "text/plain": [
       "count     43101\n",
       "unique        5\n",
       "top           A\n",
       "freq      21081\n",
       "Name: mrg_situ_cd, dtype: object"
      ]
     },
     "execution_count": 104,
     "metadata": {},
     "output_type": "execute_result"
    },
    {
     "data": {
      "image/png": "[encoded data removed]",
      "text/plain": [
       "<Figure size 1008x432 with 1 Axes>"
      ]
     },
     "metadata": {
      "needs_background": "light"
     },
     "output_type": "display_data"
    }
   ],
   "source": [
    "#mrg_situ_cd\n",
    "plt.figure(figsize=(14,6))\n",
    "mrg_situ_cd_flag=combine[:39923][['mrg_situ_cd', 'flag']].groupby(['mrg_situ_cd'],as_index=False).mean()\n",
    "sns.barplot(x='mrg_situ_cd', y='flag',data=mrg_situ_cd_flag)\n",
    "print(combine.mrg_situ_cd.isnull().sum())\n",
    "print(\"_______\")\n",
    "combine.mrg_situ_cd.describe()\n"
   ]
  },
  {
   "cell_type": "code",
   "execution_count": 105,
   "metadata": {},
   "outputs": [
    {
     "name": "stdout",
     "output_type": "stream",
     "text": [
      "0\n"
     ]
    }
   ],
   "source": [
    "combine.mrg_situ_cd[combine.mrg_situ_cd.isnull()]=combine.mrg_situ_cd.dropna().mode().values\n",
    "print(combine.mrg_situ_cd.isnull().sum())"
   ]
  },
  {
   "cell_type": "code",
   "execution_count": 106,
   "metadata": {},
   "outputs": [],
   "source": [
    "combine['mrg_situ_cd'] = combine['mrg_situ_cd'].map( {'A': 1, 'B': 2,'O':3,'Z':4,'~':5} ).astype('int64')"
   ]
  },
  {
   "cell_type": "code",
   "execution_count": 107,
   "metadata": {},
   "outputs": [
    {
     "name": "stdout",
     "output_type": "stream",
     "text": [
      "823\n",
      "_______\n"
     ]
    },
    {
     "data": {
      "text/plain": [
       "count     43100\n",
       "unique        7\n",
       "top           G\n",
       "freq      14627\n",
       "Name: acdm_deg_cd, dtype: object"
      ]
     },
     "execution_count": 107,
     "metadata": {},
     "output_type": "execute_result"
    },
    {
     "data": {
      "image/png": "[encoded data removed]",
      "text/plain": [
       "<Figure size 1008x432 with 1 Axes>"
      ]
     },
     "metadata": {
      "needs_background": "light"
     },
     "output_type": "display_data"
    }
   ],
   "source": [
    "#acdm_deg_cd\n",
    "plt.figure(figsize=(14,6))\n",
    "acdm_deg_cd_flag=combine[:39923][['acdm_deg_cd', 'flag']].groupby(['acdm_deg_cd'],as_index=False).mean()\n",
    "sns.barplot(x='acdm_deg_cd', y='flag',data=acdm_deg_cd_flag)\n",
    "print(combine.acdm_deg_cd.isnull().sum())\n",
    "print(\"_______\")\n",
    "combine.acdm_deg_cd.describe()\n"
   ]
  },
  {
   "cell_type": "code",
   "execution_count": 108,
   "metadata": {},
   "outputs": [
    {
     "name": "stdout",
     "output_type": "stream",
     "text": [
      "0\n"
     ]
    }
   ],
   "source": [
    "combine.acdm_deg_cd[combine.acdm_deg_cd.isnull()]=combine.acdm_deg_cd.dropna().mode().values\n",
    "print(combine.acdm_deg_cd.isnull().sum())"
   ]
  },
  {
   "cell_type": "code",
   "execution_count": 109,
   "metadata": {},
   "outputs": [],
   "source": [
    "combine['acdm_deg_cd'] = combine['acdm_deg_cd'].map( {'30': 1, '31': 2, 'C':3, 'D':4 , 'F':5 , 'G':6 , 'Z':7 } ).astype('int64')\n"
   ]
  },
  {
   "cell_type": "code",
   "execution_count": 110,
   "metadata": {},
   "outputs": [
    {
     "name": "stdout",
     "output_type": "stream",
     "text": [
      "545\n",
      "_______\n"
     ]
    },
    {
     "data": {
      "text/plain": [
       "count     43378\n",
       "unique       45\n",
       "top           0\n",
       "freq      18991\n",
       "Name: job_year, dtype: object"
      ]
     },
     "execution_count": 110,
     "metadata": {},
     "output_type": "execute_result"
    },
    {
     "data": {
      "image/png": "[encoded data removed]",
      "text/plain": [
       "<Figure size 1008x432 with 1 Axes>"
      ]
     },
     "metadata": {
      "needs_background": "light"
     },
     "output_type": "display_data"
    }
   ],
   "source": [
    "#job_year\n",
    "plt.figure(figsize=(14,6))\n",
    "job_year_flag=combine[:39923][['job_year', 'flag']].groupby(['job_year'],as_index=False).mean()\n",
    "sns.barplot(x='job_year', y='flag',data=job_year_flag)\n",
    "print(combine.job_year.isnull().sum())\n",
    "print(\"_______\")\n",
    "combine.job_year.describe()"
   ]
  },
  {
   "cell_type": "code",
   "execution_count": 111,
   "metadata": {},
   "outputs": [],
   "source": [
    "combine.job_year=combine.job_year.fillna(-1)\n",
    "combine['job_year']=combine['job_year'].astype('int64')"
   ]
  },
  {
   "cell_type": "code",
   "execution_count": 112,
   "metadata": {},
   "outputs": [
    {
     "data": {
      "text/plain": [
       "count    43923.000000\n",
       "mean         2.769415\n",
       "std          5.021475\n",
       "min         -1.000000\n",
       "25%          0.000000\n",
       "50%          1.000000\n",
       "75%          3.000000\n",
       "max         38.000000\n",
       "Name: job_year, dtype: float64"
      ]
     },
     "execution_count": 112,
     "metadata": {},
     "output_type": "execute_result"
    }
   ],
   "source": [
    "combine.loc[combine['job_year'] >=38,'job_year'] = 38\n",
    "combine['job_year'].describe()"
   ]
  },
  {
   "cell_type": "code",
   "execution_count": 113,
   "metadata": {},
   "outputs": [
    {
     "name": "stdout",
     "output_type": "stream",
     "text": [
      "545\n",
      "_______\n"
     ]
    },
    {
     "data": {
      "text/plain": [
       "count     43378\n",
       "unique        2\n",
       "top           0\n",
       "freq      42472\n",
       "Name: ic_ind, dtype: object"
      ]
     },
     "execution_count": 113,
     "metadata": {},
     "output_type": "execute_result"
    },
    {
     "data": {
      "image/png": "[encoded data removed]",
      "text/plain": [
       "<Figure size 1008x432 with 1 Axes>"
      ]
     },
     "metadata": {
      "needs_background": "light"
     },
     "output_type": "display_data"
    }
   ],
   "source": [
    "#ic_ind\n",
    "plt.figure(figsize=(14,6))\n",
    "ic_ind_flag=combine[:39923][['ic_ind', 'flag']].groupby(['ic_ind'],as_index=False).mean()\n",
    "sns.barplot(x='ic_ind', y='flag',data=ic_ind_flag)\n",
    "print(combine.ic_ind.isnull().sum())\n",
    "print(\"_______\")\n",
    "combine.ic_ind.describe()"
   ]
  },
  {
   "cell_type": "code",
   "execution_count": 114,
   "metadata": {},
   "outputs": [
    {
     "name": "stdout",
     "output_type": "stream",
     "text": [
      "0\n"
     ]
    }
   ],
   "source": [
    "combine.ic_ind[combine.ic_ind.isnull()]=combine.ic_ind.dropna().mode().values\n",
    "print(combine.ic_ind.isnull().sum())"
   ]
  },
  {
   "cell_type": "code",
   "execution_count": 115,
   "metadata": {},
   "outputs": [
    {
     "name": "stdout",
     "output_type": "stream",
     "text": [
      "545\n",
      "_______\n"
     ]
    },
    {
     "data": {
      "text/plain": [
       "count     43378\n",
       "unique        2\n",
       "top           0\n",
       "freq      37672\n",
       "Name: fr_or_sh_ind, dtype: object"
      ]
     },
     "execution_count": 115,
     "metadata": {},
     "output_type": "execute_result"
    },
    {
     "data": {
      "image/png": "[encoded data removed]",
      "text/plain": [
       "<Figure size 1008x432 with 1 Axes>"
      ]
     },
     "metadata": {
      "needs_background": "light"
     },
     "output_type": "display_data"
    }
   ],
   "source": [
    "#fr_or_sh_ind\n",
    "plt.figure(figsize=(14,6))\n",
    "fr_or_sh_ind_flag=combine[:39923][['fr_or_sh_ind', 'flag']].groupby(['fr_or_sh_ind'],as_index=False).mean()\n",
    "sns.barplot(x='fr_or_sh_ind', y='flag',data=fr_or_sh_ind_flag)\n",
    "print(combine.fr_or_sh_ind.isnull().sum())\n",
    "print(\"_______\")\n",
    "combine.fr_or_sh_ind.describe()"
   ]
  },
  {
   "cell_type": "code",
   "execution_count": 116,
   "metadata": {},
   "outputs": [
    {
     "name": "stdout",
     "output_type": "stream",
     "text": [
      "0\n"
     ]
    }
   ],
   "source": [
    "\n",
    "combine.fr_or_sh_ind[combine.fr_or_sh_ind.isnull()]=combine.fr_or_sh_ind.dropna().mode().values\n",
    "print(combine.fr_or_sh_ind.isnull().sum())"
   ]
  },
  {
   "cell_type": "code",
   "execution_count": 117,
   "metadata": {},
   "outputs": [
    {
     "name": "stdout",
     "output_type": "stream",
     "text": [
      "545\n",
      "_______\n"
     ]
    },
    {
     "data": {
      "text/plain": [
       "count     43378\n",
       "unique        2\n",
       "top           1\n",
       "freq      25838\n",
       "Name: dnl_mbl_bnk_ind, dtype: object"
      ]
     },
     "execution_count": 117,
     "metadata": {},
     "output_type": "execute_result"
    },
    {
     "data": {
      "image/png": "[encoded data removed]",
      "text/plain": [
       "<Figure size 1008x432 with 1 Axes>"
      ]
     },
     "metadata": {
      "needs_background": "light"
     },
     "output_type": "display_data"
    }
   ],
   "source": [
    "#dnl_mbl_bnk_ind\n",
    "plt.figure(figsize=(14,6))\n",
    "dnl_mbl_bnk_ind_flag=combine[:39923][['dnl_mbl_bnk_ind', 'flag']].groupby(['dnl_mbl_bnk_ind'],as_index=False).mean()\n",
    "sns.barplot(x='dnl_mbl_bnk_ind', y='flag',data=dnl_mbl_bnk_ind_flag)\n",
    "print(combine.dnl_mbl_bnk_ind.isnull().sum())\n",
    "print(\"_______\")\n",
    "combine.dnl_mbl_bnk_ind.describe()"
   ]
  },
  {
   "cell_type": "code",
   "execution_count": 118,
   "metadata": {},
   "outputs": [
    {
     "name": "stdout",
     "output_type": "stream",
     "text": [
      "0\n"
     ]
    }
   ],
   "source": [
    "combine.dnl_mbl_bnk_ind[combine.dnl_mbl_bnk_ind.isnull()]=combine.dnl_mbl_bnk_ind.dropna().mode().values\n",
    "print(combine.dnl_mbl_bnk_ind.isnull().sum())"
   ]
  },
  {
   "cell_type": "code",
   "execution_count": 119,
   "metadata": {},
   "outputs": [
    {
     "name": "stdout",
     "output_type": "stream",
     "text": [
      "545\n",
      "_______\n"
     ]
    },
    {
     "data": {
      "text/plain": [
       "count     43378\n",
       "unique        2\n",
       "top           1\n",
       "freq      35660\n",
       "Name: dnl_bind_cmb_lif_ind, dtype: object"
      ]
     },
     "execution_count": 119,
     "metadata": {},
     "output_type": "execute_result"
    },
    {
     "data": {
      "image/png": "[encoded data removed]",
      "text/plain": [
       "<Figure size 1008x432 with 1 Axes>"
      ]
     },
     "metadata": {
      "needs_background": "light"
     },
     "output_type": "display_data"
    }
   ],
   "source": [
    "#dnl_bind_cmb_lif_ind\n",
    "plt.figure(figsize=(14,6))\n",
    "dnl_bind_cmb_lif_ind_flag=combine[:39923][['dnl_bind_cmb_lif_ind', 'flag']].groupby(['dnl_bind_cmb_lif_ind'],as_index=False).mean()\n",
    "sns.barplot(x='dnl_bind_cmb_lif_ind', y='flag',data=dnl_bind_cmb_lif_ind_flag)\n",
    "print(combine.dnl_bind_cmb_lif_ind.isnull().sum())\n",
    "print(\"_______\")\n",
    "combine.dnl_bind_cmb_lif_ind.describe()"
   ]
  },
  {
   "cell_type": "code",
   "execution_count": 120,
   "metadata": {},
   "outputs": [
    {
     "name": "stdout",
     "output_type": "stream",
     "text": [
      "0\n"
     ]
    }
   ],
   "source": [
    "\n",
    "combine.dnl_bind_cmb_lif_ind[combine.dnl_bind_cmb_lif_ind.isnull()]=combine.dnl_bind_cmb_lif_ind.dropna().mode().values\n",
    "print(combine.dnl_bind_cmb_lif_ind.isnull().sum())"
   ]
  },
  {
   "cell_type": "code",
   "execution_count": 121,
   "metadata": {},
   "outputs": [
    {
     "name": "stdout",
     "output_type": "stream",
     "text": [
      "552\n",
      "_______\n"
     ]
    },
    {
     "data": {
      "text/plain": [
       "count     43371\n",
       "unique        2\n",
       "top           0\n",
       "freq      26255\n",
       "Name: hav_car_grp_ind, dtype: object"
      ]
     },
     "execution_count": 121,
     "metadata": {},
     "output_type": "execute_result"
    },
    {
     "data": {
      "image/png": "[encoded data removed]",
      "text/plain": [
       "<Figure size 1008x432 with 1 Axes>"
      ]
     },
     "metadata": {
      "needs_background": "light"
     },
     "output_type": "display_data"
    }
   ],
   "source": [
    "#hav_car_grp_ind\n",
    "plt.figure(figsize=(14,6))\n",
    "hav_car_grp_ind_flag=combine[:39923][['hav_car_grp_ind', 'flag']].groupby(['hav_car_grp_ind'],as_index=False).mean()\n",
    "sns.barplot(x='hav_car_grp_ind', y='flag',data=hav_car_grp_ind_flag)\n",
    "print(combine.hav_car_grp_ind.isnull().sum())\n",
    "print(\"_______\")\n",
    "combine.hav_car_grp_ind.describe()"
   ]
  },
  {
   "cell_type": "code",
   "execution_count": 122,
   "metadata": {},
   "outputs": [
    {
     "name": "stdout",
     "output_type": "stream",
     "text": [
      "0\n"
     ]
    }
   ],
   "source": [
    "\n",
    "combine.hav_car_grp_ind[combine.hav_car_grp_ind.isnull()]=combine.hav_car_grp_ind.dropna().mode().values\n",
    "print(combine.hav_car_grp_ind.isnull().sum())"
   ]
  },
  {
   "cell_type": "code",
   "execution_count": 123,
   "metadata": {},
   "outputs": [
    {
     "name": "stdout",
     "output_type": "stream",
     "text": [
      "545\n",
      "_______\n"
     ]
    },
    {
     "data": {
      "text/plain": [
       "count     43378\n",
       "unique        2\n",
       "top           0\n",
       "freq      42741\n",
       "Name: hav_hou_grp_ind, dtype: object"
      ]
     },
     "execution_count": 123,
     "metadata": {},
     "output_type": "execute_result"
    },
    {
     "data": {
      "image/png": "[encoded data removed]",
      "text/plain": [
       "<Figure size 1008x432 with 1 Axes>"
      ]
     },
     "metadata": {
      "needs_background": "light"
     },
     "output_type": "display_data"
    }
   ],
   "source": [
    "#hav_hou_grp_ind\n",
    "plt.figure(figsize=(14,6))\n",
    "hav_hou_grp_ind_flag=combine[:39923][['hav_hou_grp_ind', 'flag']].groupby(['hav_hou_grp_ind'],as_index=False).mean()\n",
    "sns.barplot(x='hav_hou_grp_ind', y='flag',data=hav_hou_grp_ind_flag)\n",
    "print(combine.hav_hou_grp_ind.isnull().sum())\n",
    "print(\"_______\")\n",
    "combine.hav_hou_grp_ind.describe()"
   ]
  },
  {
   "cell_type": "code",
   "execution_count": 124,
   "metadata": {},
   "outputs": [
    {
     "name": "stdout",
     "output_type": "stream",
     "text": [
      "0\n"
     ]
    }
   ],
   "source": [
    "combine.hav_hou_grp_ind[combine.hav_hou_grp_ind.isnull()]=combine.hav_hou_grp_ind.dropna().mode().values\n",
    "print(combine.hav_hou_grp_ind.isnull().sum())"
   ]
  },
  {
   "cell_type": "code",
   "execution_count": 125,
   "metadata": {},
   "outputs": [
    {
     "name": "stdout",
     "output_type": "stream",
     "text": [
      "552\n",
      "_______\n"
     ]
    },
    {
     "data": {
      "text/plain": [
       "count     43371\n",
       "unique        2\n",
       "top           0\n",
       "freq      38445\n",
       "Name: l6mon_agn_ind, dtype: object"
      ]
     },
     "execution_count": 125,
     "metadata": {},
     "output_type": "execute_result"
    },
    {
     "data": {
      "image/png": "[encoded data removed]",
      "text/plain": [
       "<Figure size 1008x432 with 1 Axes>"
      ]
     },
     "metadata": {
      "needs_background": "light"
     },
     "output_type": "display_data"
    }
   ],
   "source": [
    "#l6mon_agn_ind\n",
    "plt.figure(figsize=(14,6))\n",
    "l6mon_agn_ind_flag=combine[:39923][['l6mon_agn_ind', 'flag']].groupby(['l6mon_agn_ind'],as_index=False).mean()\n",
    "sns.barplot(x='l6mon_agn_ind', y='flag',data=l6mon_agn_ind_flag)\n",
    "print(combine.l6mon_agn_ind.isnull().sum())\n",
    "print(\"_______\")\n",
    "combine.l6mon_agn_ind.describe()"
   ]
  },
  {
   "cell_type": "code",
   "execution_count": 126,
   "metadata": {},
   "outputs": [
    {
     "name": "stdout",
     "output_type": "stream",
     "text": [
      "0\n"
     ]
    }
   ],
   "source": [
    "combine.l6mon_agn_ind[combine.l6mon_agn_ind.isnull()]=combine.l6mon_agn_ind.dropna().mode().values\n",
    "print(combine.l6mon_agn_ind.isnull().sum())"
   ]
  },
  {
   "cell_type": "code",
   "execution_count": null,
   "metadata": {},
   "outputs": [],
   "source": []
  },
  {
   "cell_type": "code",
   "execution_count": 127,
   "metadata": {},
   "outputs": [
    {
     "name": "stdout",
     "output_type": "stream",
     "text": [
      "552\n",
      "_______\n"
     ]
    },
    {
     "data": {
      "text/plain": [
       "count     43371\n",
       "unique        2\n",
       "top           0\n",
       "freq      33949\n",
       "Name: vld_rsk_ases_ind, dtype: object"
      ]
     },
     "execution_count": 127,
     "metadata": {},
     "output_type": "execute_result"
    },
    {
     "data": {
      "image/png": "[encoded data removed]",
      "text/plain": [
       "<Figure size 1008x432 with 1 Axes>"
      ]
     },
     "metadata": {
      "needs_background": "light"
     },
     "output_type": "display_data"
    }
   ],
   "source": [
    "#vld_rsk_ases_ind\n",
    "plt.figure(figsize=(14,6))\n",
    "vld_rsk_ases_ind_flag=combine[:39923][['vld_rsk_ases_ind', 'flag']].groupby(['vld_rsk_ases_ind'],as_index=False).mean()\n",
    "sns.barplot(x='vld_rsk_ases_ind', y='flag',data=vld_rsk_ases_ind_flag)\n",
    "print(combine.vld_rsk_ases_ind.isnull().sum())\n",
    "print(\"_______\")\n",
    "combine.vld_rsk_ases_ind.describe()"
   ]
  },
  {
   "cell_type": "code",
   "execution_count": 128,
   "metadata": {},
   "outputs": [
    {
     "name": "stdout",
     "output_type": "stream",
     "text": [
      "0\n"
     ]
    }
   ],
   "source": [
    "combine.vld_rsk_ases_ind[combine.vld_rsk_ases_ind.isnull()]=combine.vld_rsk_ases_ind.dropna().mode().values\n",
    "print(combine.vld_rsk_ases_ind.isnull().sum())"
   ]
  },
  {
   "cell_type": "code",
   "execution_count": 129,
   "metadata": {},
   "outputs": [
    {
     "name": "stdout",
     "output_type": "stream",
     "text": [
      "545\n",
      "_______\n"
     ]
    },
    {
     "data": {
      "text/plain": [
       "count     43378\n",
       "unique       12\n",
       "top          -1\n",
       "freq      33956\n",
       "Name: fin_rsk_ases_grd_cd, dtype: object"
      ]
     },
     "execution_count": 129,
     "metadata": {},
     "output_type": "execute_result"
    },
    {
     "data": {
      "image/png": "[encoded data removed]",
      "text/plain": [
       "<Figure size 1008x432 with 1 Axes>"
      ]
     },
     "metadata": {
      "needs_background": "light"
     },
     "output_type": "display_data"
    }
   ],
   "source": [
    "#fin_rsk_ases_grd_cd\n",
    "plt.figure(figsize=(14,6))\n",
    "fin_rsk_ases_grd_cd_flag=combine[:39923][['fin_rsk_ases_grd_cd', 'flag']].groupby(['fin_rsk_ases_grd_cd'],as_index=False).mean()\n",
    "sns.barplot(x='fin_rsk_ases_grd_cd', y='flag',data=fin_rsk_ases_grd_cd_flag)\n",
    "print(combine.fin_rsk_ases_grd_cd.isnull().sum())\n",
    "print(\"_______\")\n",
    "combine.fin_rsk_ases_grd_cd.describe()"
   ]
  },
  {
   "cell_type": "code",
   "execution_count": 130,
   "metadata": {},
   "outputs": [],
   "source": [
    "combine.fin_rsk_ases_grd_cd=combine.fin_rsk_ases_grd_cd.fillna(0)\n",
    "combine['fin_rsk_ases_grd_cd']=combine['fin_rsk_ases_grd_cd'].astype('int64')"
   ]
  },
  {
   "cell_type": "code",
   "execution_count": 131,
   "metadata": {},
   "outputs": [
    {
     "data": {
      "text/plain": [
       "count    43923.000000\n",
       "mean        -0.366778\n",
       "std          1.271213\n",
       "min         -1.000000\n",
       "25%         -1.000000\n",
       "50%         -1.000000\n",
       "75%         -1.000000\n",
       "max          6.000000\n",
       "Name: fin_rsk_ases_grd_cd, dtype: float64"
      ]
     },
     "execution_count": 131,
     "metadata": {},
     "output_type": "execute_result"
    }
   ],
   "source": [
    "combine.loc[combine['fin_rsk_ases_grd_cd'] >=6,'fin_rsk_ases_grd_cd'] = 6\n",
    "\n",
    "combine['fin_rsk_ases_grd_cd'].describe()"
   ]
  },
  {
   "cell_type": "code",
   "execution_count": 132,
   "metadata": {},
   "outputs": [
    {
     "name": "stdout",
     "output_type": "stream",
     "text": [
      "545\n",
      "_______\n"
     ]
    },
    {
     "data": {
      "text/plain": [
       "count     43378\n",
       "unique       13\n",
       "top          -1\n",
       "freq      30311\n",
       "Name: confirm_rsk_ases_lvl_typ_cd, dtype: object"
      ]
     },
     "execution_count": 132,
     "metadata": {},
     "output_type": "execute_result"
    },
    {
     "data": {
      "image/png": "[encoded data removed]",
      "text/plain": [
       "<Figure size 1008x432 with 1 Axes>"
      ]
     },
     "metadata": {
      "needs_background": "light"
     },
     "output_type": "display_data"
    }
   ],
   "source": [
    "#confirm_rsk_ases_lvl_typ_cd\n",
    "plt.figure(figsize=(14,6))\n",
    "confirm_rsk_ases_lvl_typ_cd_flag=combine[:39923][['confirm_rsk_ases_lvl_typ_cd', 'flag']].groupby(['confirm_rsk_ases_lvl_typ_cd'],as_index=False).mean()\n",
    "sns.barplot(x='confirm_rsk_ases_lvl_typ_cd', y='flag',data=confirm_rsk_ases_lvl_typ_cd_flag)\n",
    "print(combine.confirm_rsk_ases_lvl_typ_cd.isnull().sum())\n",
    "print(\"_______\")\n",
    "combine.confirm_rsk_ases_lvl_typ_cd.describe()"
   ]
  },
  {
   "cell_type": "code",
   "execution_count": 133,
   "metadata": {},
   "outputs": [],
   "source": [
    "combine.confirm_rsk_ases_lvl_typ_cd=combine.confirm_rsk_ases_lvl_typ_cd.fillna(0)\n",
    "combine['confirm_rsk_ases_lvl_typ_cd']=combine['confirm_rsk_ases_lvl_typ_cd'].astype('int64')"
   ]
  },
  {
   "cell_type": "code",
   "execution_count": 134,
   "metadata": {},
   "outputs": [
    {
     "data": {
      "text/plain": [
       "count    43923.000000\n",
       "mean        -0.088564\n",
       "std          1.500736\n",
       "min         -1.000000\n",
       "25%         -1.000000\n",
       "50%         -1.000000\n",
       "75%          1.000000\n",
       "max          8.000000\n",
       "Name: confirm_rsk_ases_lvl_typ_cd, dtype: float64"
      ]
     },
     "execution_count": 134,
     "metadata": {},
     "output_type": "execute_result"
    }
   ],
   "source": [
    "combine.loc[combine['confirm_rsk_ases_lvl_typ_cd'] >=8,'confirm_rsk_ases_lvl_typ_cd'] = 8\n",
    "combine['confirm_rsk_ases_lvl_typ_cd'].describe()"
   ]
  },
  {
   "cell_type": "code",
   "execution_count": 135,
   "metadata": {},
   "outputs": [
    {
     "name": "stdout",
     "output_type": "stream",
     "text": [
      "552\n",
      "_______\n"
     ]
    },
    {
     "data": {
      "text/plain": [
       "count     43371\n",
       "unique        9\n",
       "top           1\n",
       "freq      41866\n",
       "Name: cust_inv_rsk_endu_lvl_cd, dtype: object"
      ]
     },
     "execution_count": 135,
     "metadata": {},
     "output_type": "execute_result"
    },
    {
     "data": {
      "image/png": "[encoded data removed]",
      "text/plain": [
       "<Figure size 1008x432 with 1 Axes>"
      ]
     },
     "metadata": {
      "needs_background": "light"
     },
     "output_type": "display_data"
    }
   ],
   "source": [
    "#cust_inv_rsk_endu_lvl_cd\n",
    "plt.figure(figsize=(14,6))\n",
    "cust_inv_rsk_endu_lvl_cd_flag=combine[:39923][['cust_inv_rsk_endu_lvl_cd', 'flag']].groupby(['cust_inv_rsk_endu_lvl_cd'],as_index=False).mean()\n",
    "sns.barplot(x='cust_inv_rsk_endu_lvl_cd', y='flag',data=cust_inv_rsk_endu_lvl_cd_flag)\n",
    "print(combine.cust_inv_rsk_endu_lvl_cd.isnull().sum())\n",
    "print(\"_______\")\n",
    "combine.cust_inv_rsk_endu_lvl_cd.describe()"
   ]
  },
  {
   "cell_type": "code",
   "execution_count": 136,
   "metadata": {},
   "outputs": [],
   "source": [
    "combine.cust_inv_rsk_endu_lvl_cd=combine.cust_inv_rsk_endu_lvl_cd.fillna(0)\n",
    "combine['cust_inv_rsk_endu_lvl_cd']=combine['cust_inv_rsk_endu_lvl_cd'].astype('int64')"
   ]
  },
  {
   "cell_type": "code",
   "execution_count": 137,
   "metadata": {},
   "outputs": [
    {
     "data": {
      "text/plain": [
       "count    43923.000000\n",
       "mean         1.128247\n",
       "std          0.831408\n",
       "min          0.000000\n",
       "25%          1.000000\n",
       "50%          1.000000\n",
       "75%          1.000000\n",
       "max          8.000000\n",
       "Name: cust_inv_rsk_endu_lvl_cd, dtype: float64"
      ]
     },
     "execution_count": 137,
     "metadata": {},
     "output_type": "execute_result"
    }
   ],
   "source": [
    "combine.loc[combine['cust_inv_rsk_endu_lvl_cd'] >=8,'cust_inv_rsk_endu_lvl_cd'] = 8\n",
    "\n",
    "combine['cust_inv_rsk_endu_lvl_cd'].describe()"
   ]
  },
  {
   "cell_type": "code",
   "execution_count": 138,
   "metadata": {},
   "outputs": [
    {
     "name": "stdout",
     "output_type": "stream",
     "text": [
      "0\n",
      "_______\n"
     ]
    },
    {
     "data": {
      "text/plain": [
       "count    43923.000000\n",
       "mean         0.877126\n",
       "std          1.358842\n",
       "min         -1.000000\n",
       "25%          0.000000\n",
       "50%          0.000000\n",
       "75%          1.000000\n",
       "max          9.000000\n",
       "Name: l6mon_daim_aum_cd, dtype: float64"
      ]
     },
     "execution_count": 138,
     "metadata": {},
     "output_type": "execute_result"
    },
    {
     "data": {
      "image/png": "[encoded data removed]",
      "text/plain": [
       "<Figure size 1008x432 with 1 Axes>"
      ]
     },
     "metadata": {
      "needs_background": "light"
     },
     "output_type": "display_data"
    }
   ],
   "source": [
    "#l6mon_daim_aum_cd\n",
    "plt.figure(figsize=(14,6))\n",
    "l6mon_daim_aum_cd_flag=combine[:39923][['l6mon_daim_aum_cd', 'flag']].groupby(['l6mon_daim_aum_cd'],as_index=False).mean()\n",
    "sns.barplot(x='l6mon_daim_aum_cd', y='flag',data=l6mon_daim_aum_cd_flag)\n",
    "print(combine.l6mon_daim_aum_cd.isnull().sum())\n",
    "print(\"_______\")\n",
    "combine.l6mon_daim_aum_cd.describe()"
   ]
  },
  {
   "cell_type": "code",
   "execution_count": 139,
   "metadata": {},
   "outputs": [
    {
     "name": "stdout",
     "output_type": "stream",
     "text": [
      "552\n",
      "_______\n"
     ]
    },
    {
     "data": {
      "text/plain": [
       "count     43371\n",
       "unique       14\n",
       "top          -1\n",
       "freq      33467\n",
       "Name: tot_ast_lvl_cd, dtype: object"
      ]
     },
     "execution_count": 139,
     "metadata": {},
     "output_type": "execute_result"
    },
    {
     "data": {
      "image/png": "[encoded data removed]",
      "text/plain": [
       "<Figure size 1008x432 with 1 Axes>"
      ]
     },
     "metadata": {
      "needs_background": "light"
     },
     "output_type": "display_data"
    }
   ],
   "source": [
    "#tot_ast_lvl_cd\n",
    "plt.figure(figsize=(14,6))\n",
    "tot_ast_lvl_cd_flag=combine[:39923][['tot_ast_lvl_cd', 'flag']].groupby(['tot_ast_lvl_cd'],as_index=False).mean()\n",
    "sns.barplot(x='tot_ast_lvl_cd', y='flag',data=tot_ast_lvl_cd_flag)\n",
    "print(combine.tot_ast_lvl_cd.isnull().sum())\n",
    "print(\"_______\")\n",
    "combine.tot_ast_lvl_cd.describe()"
   ]
  },
  {
   "cell_type": "code",
   "execution_count": 140,
   "metadata": {},
   "outputs": [],
   "source": [
    "combine.tot_ast_lvl_cd=combine.tot_ast_lvl_cd.fillna(-2)\n",
    "combine['tot_ast_lvl_cd']=combine['tot_ast_lvl_cd'].astype('int64')"
   ]
  },
  {
   "cell_type": "code",
   "execution_count": 141,
   "metadata": {},
   "outputs": [
    {
     "data": {
      "text/plain": [
       "count    43923.000000\n",
       "mean        -0.128247\n",
       "std          1.917452\n",
       "min         -2.000000\n",
       "25%         -1.000000\n",
       "50%         -1.000000\n",
       "75%         -1.000000\n",
       "max         11.000000\n",
       "Name: tot_ast_lvl_cd, dtype: float64"
      ]
     },
     "execution_count": 141,
     "metadata": {},
     "output_type": "execute_result"
    }
   ],
   "source": [
    "combine.loc[combine['tot_ast_lvl_cd'] ==0,'tot_ast_lvl_cd'] = -1\n",
    "combine.loc[combine['tot_ast_lvl_cd'] >=11,'tot_ast_lvl_cd'] = 11\n",
    "\n",
    "combine['tot_ast_lvl_cd'].describe()"
   ]
  },
  {
   "cell_type": "code",
   "execution_count": 142,
   "metadata": {},
   "outputs": [
    {
     "name": "stdout",
     "output_type": "stream",
     "text": [
      "552\n",
      "_______\n"
     ]
    },
    {
     "data": {
      "text/plain": [
       "count     43371\n",
       "unique        7\n",
       "top          -1\n",
       "freq      18357\n",
       "Name: pot_ast_lvl_cd, dtype: object"
      ]
     },
     "execution_count": 142,
     "metadata": {},
     "output_type": "execute_result"
    },
    {
     "data": {
      "image/png": "[encoded data removed]",
      "text/plain": [
       "<Figure size 1008x432 with 1 Axes>"
      ]
     },
     "metadata": {
      "needs_background": "light"
     },
     "output_type": "display_data"
    }
   ],
   "source": [
    "#pot_ast_lvl_cd\n",
    "plt.figure(figsize=(14,6))\n",
    "pot_ast_lvl_cd_flag=combine[:39923][['pot_ast_lvl_cd', 'flag']].groupby(['pot_ast_lvl_cd'],as_index=False).mean()\n",
    "sns.barplot(x='pot_ast_lvl_cd', y='flag',data=pot_ast_lvl_cd_flag)\n",
    "print(combine.pot_ast_lvl_cd.isnull().sum())\n",
    "print(\"_______\")\n",
    "combine.pot_ast_lvl_cd.describe()"
   ]
  },
  {
   "cell_type": "code",
   "execution_count": 143,
   "metadata": {},
   "outputs": [],
   "source": [
    "combine.pot_ast_lvl_cd=combine.pot_ast_lvl_cd.fillna(0)\n",
    "combine['pot_ast_lvl_cd']=combine['pot_ast_lvl_cd'].astype('int64')"
   ]
  },
  {
   "cell_type": "code",
   "execution_count": 144,
   "metadata": {},
   "outputs": [
    {
     "name": "stdout",
     "output_type": "stream",
     "text": [
      "552\n",
      "_______\n"
     ]
    },
    {
     "data": {
      "text/plain": [
       "count     43371\n",
       "unique       70\n",
       "top           0\n",
       "freq      42174\n",
       "Name: l12mon_buy_fin_mng_whl_tms, dtype: object"
      ]
     },
     "execution_count": 144,
     "metadata": {},
     "output_type": "execute_result"
    },
    {
     "data": {
      "image/png": "[encoded data removed]",
      "text/plain": [
       "<Figure size 1008x432 with 1 Axes>"
      ]
     },
     "metadata": {
      "needs_background": "light"
     },
     "output_type": "display_data"
    }
   ],
   "source": [
    "#l12mon_buy_fin_mng_whl_tms\n",
    "plt.figure(figsize=(14,6))\n",
    "l12mon_buy_fin_mng_whl_tms_flag=combine[:39923][['l12mon_buy_fin_mng_whl_tms', 'flag']].groupby(['l12mon_buy_fin_mng_whl_tms'],as_index=False).mean()\n",
    "sns.barplot(x='l12mon_buy_fin_mng_whl_tms', y='flag',data=l12mon_buy_fin_mng_whl_tms_flag)\n",
    "print(combine.l12mon_buy_fin_mng_whl_tms.isnull().sum())\n",
    "print(\"_______\")\n",
    "combine.l12mon_buy_fin_mng_whl_tms.describe()"
   ]
  },
  {
   "cell_type": "code",
   "execution_count": 145,
   "metadata": {},
   "outputs": [],
   "source": [
    "combine.l12mon_buy_fin_mng_whl_tms=combine.l12mon_buy_fin_mng_whl_tms.fillna(-1)\n",
    "combine['l12mon_buy_fin_mng_whl_tms']=combine['l12mon_buy_fin_mng_whl_tms'].astype('int64')"
   ]
  },
  {
   "cell_type": "code",
   "execution_count": 146,
   "metadata": {},
   "outputs": [
    {
     "data": {
      "text/plain": [
       "count    43923.000000\n",
       "mean         0.139312\n",
       "std          1.093304\n",
       "min         -1.000000\n",
       "25%          0.000000\n",
       "50%          0.000000\n",
       "75%          0.000000\n",
       "max         11.000000\n",
       "Name: l12mon_buy_fin_mng_whl_tms, dtype: float64"
      ]
     },
     "execution_count": 146,
     "metadata": {},
     "output_type": "execute_result"
    }
   ],
   "source": [
    "combine.loc[(combine['l12mon_buy_fin_mng_whl_tms'] >= 10) & (combine['l12mon_buy_fin_mng_whl_tms'] <=99),\n",
    "            'l12mon_buy_fin_mng_whl_tms'] = 10\n",
    "combine.loc[combine['l12mon_buy_fin_mng_whl_tms'] >= 100 ,'l12mon_buy_fin_mng_whl_tms'] = 11\n",
    "\n",
    "combine['l12mon_buy_fin_mng_whl_tms'].describe()"
   ]
  },
  {
   "cell_type": "code",
   "execution_count": 147,
   "metadata": {},
   "outputs": [
    {
     "name": "stdout",
     "output_type": "stream",
     "text": [
      "552\n",
      "_______\n"
     ]
    },
    {
     "data": {
      "text/plain": [
       "count     43371\n",
       "unique      106\n",
       "top           0\n",
       "freq      39518\n",
       "Name: l12_mon_fnd_buy_whl_tms, dtype: object"
      ]
     },
     "execution_count": 147,
     "metadata": {},
     "output_type": "execute_result"
    },
    {
     "data": {
      "image/png": "[encoded data removed]",
      "text/plain": [
       "<Figure size 1008x432 with 1 Axes>"
      ]
     },
     "metadata": {
      "needs_background": "light"
     },
     "output_type": "display_data"
    }
   ],
   "source": [
    "#l12_mon_fnd_buy_whl_tms\n",
    "plt.figure(figsize=(14,6))\n",
    "l12_mon_fnd_buy_whl_tms_flag=combine[:39923][['l12_mon_fnd_buy_whl_tms', 'flag']].groupby(['l12_mon_fnd_buy_whl_tms'],as_index=False).mean()\n",
    "sns.barplot(x='l12_mon_fnd_buy_whl_tms', y='flag',data=l12_mon_fnd_buy_whl_tms_flag)\n",
    "print(combine.l12_mon_fnd_buy_whl_tms.isnull().sum())\n",
    "print(\"_______\")\n",
    "combine.l12_mon_fnd_buy_whl_tms.describe()"
   ]
  },
  {
   "cell_type": "code",
   "execution_count": 148,
   "metadata": {},
   "outputs": [],
   "source": [
    "combine.l12_mon_fnd_buy_whl_tms=combine.l12_mon_fnd_buy_whl_tms.fillna(-1)\n",
    "combine['l12_mon_fnd_buy_whl_tms']=combine['l12_mon_fnd_buy_whl_tms'].astype('int64')"
   ]
  },
  {
   "cell_type": "code",
   "execution_count": 149,
   "metadata": {},
   "outputs": [
    {
     "data": {
      "text/plain": [
       "count    43923.000000\n",
       "mean         0.331216\n",
       "std          1.559072\n",
       "min         -1.000000\n",
       "25%          0.000000\n",
       "50%          0.000000\n",
       "75%          0.000000\n",
       "max         11.000000\n",
       "Name: l12_mon_fnd_buy_whl_tms, dtype: float64"
      ]
     },
     "execution_count": 149,
     "metadata": {},
     "output_type": "execute_result"
    }
   ],
   "source": [
    "combine.loc[(combine['l12_mon_fnd_buy_whl_tms'] >= 10) & (combine['l12_mon_fnd_buy_whl_tms'] <=99),\n",
    "            'l12_mon_fnd_buy_whl_tms'] = 10\n",
    "combine.loc[combine['l12_mon_fnd_buy_whl_tms'] >= 100 ,'l12_mon_fnd_buy_whl_tms'] = 11\n",
    "\n",
    "combine['l12_mon_fnd_buy_whl_tms'].describe()"
   ]
  },
  {
   "cell_type": "code",
   "execution_count": 150,
   "metadata": {},
   "outputs": [
    {
     "name": "stdout",
     "output_type": "stream",
     "text": [
      "552\n",
      "_______\n"
     ]
    },
    {
     "data": {
      "text/plain": [
       "count     43371\n",
       "unique        8\n",
       "top           0\n",
       "freq      43289\n",
       "Name: l12_mon_insu_buy_whl_tms, dtype: object"
      ]
     },
     "execution_count": 150,
     "metadata": {},
     "output_type": "execute_result"
    },
    {
     "data": {
      "image/png": "[encoded data removed]",
      "text/plain": [
       "<Figure size 1008x432 with 1 Axes>"
      ]
     },
     "metadata": {
      "needs_background": "light"
     },
     "output_type": "display_data"
    }
   ],
   "source": [
    "#l12_mon_insu_buy_whl_tms\n",
    "plt.figure(figsize=(14,6))\n",
    "l12_mon_insu_buy_whl_tms_flag=combine[:39923][['l12_mon_insu_buy_whl_tms', 'flag']].groupby(['l12_mon_insu_buy_whl_tms'],as_index=False).mean()\n",
    "sns.barplot(x='l12_mon_insu_buy_whl_tms', y='flag',data=l12_mon_insu_buy_whl_tms_flag)\n",
    "print(combine.l12_mon_insu_buy_whl_tms.isnull().sum())\n",
    "print(\"_______\")\n",
    "combine.l12_mon_insu_buy_whl_tms.describe()"
   ]
  },
  {
   "cell_type": "code",
   "execution_count": 151,
   "metadata": {},
   "outputs": [],
   "source": [
    "combine.l12_mon_insu_buy_whl_tms=combine.l12_mon_insu_buy_whl_tms.fillna(-1)\n",
    "combine['l12_mon_insu_buy_whl_tms']=combine['l12_mon_insu_buy_whl_tms'].astype('int64')"
   ]
  },
  {
   "cell_type": "code",
   "execution_count": 152,
   "metadata": {},
   "outputs": [
    {
     "data": {
      "text/plain": [
       "count    43923.000000\n",
       "mean        -0.009881\n",
       "std          0.131344\n",
       "min         -1.000000\n",
       "25%          0.000000\n",
       "50%          0.000000\n",
       "75%          0.000000\n",
       "max          3.000000\n",
       "Name: l12_mon_insu_buy_whl_tms, dtype: float64"
      ]
     },
     "execution_count": 152,
     "metadata": {},
     "output_type": "execute_result"
    }
   ],
   "source": [
    "combine.loc[combine['l12_mon_insu_buy_whl_tms'] >=3,'l12_mon_insu_buy_whl_tms'] = 3\n",
    "combine['l12_mon_insu_buy_whl_tms'].describe()"
   ]
  },
  {
   "cell_type": "code",
   "execution_count": 153,
   "metadata": {},
   "outputs": [
    {
     "name": "stdout",
     "output_type": "stream",
     "text": [
      "552\n",
      "_______\n"
     ]
    },
    {
     "data": {
      "text/plain": [
       "count     43371\n",
       "unique       16\n",
       "top           0\n",
       "freq      43312\n",
       "Name: l12_mon_gld_buy_whl_tms, dtype: object"
      ]
     },
     "execution_count": 153,
     "metadata": {},
     "output_type": "execute_result"
    },
    {
     "data": {
      "image/png": "[encoded data removed]",
      "text/plain": [
       "<Figure size 1008x432 with 1 Axes>"
      ]
     },
     "metadata": {
      "needs_background": "light"
     },
     "output_type": "display_data"
    }
   ],
   "source": [
    "#l12_mon_gld_buy_whl_tms\n",
    "plt.figure(figsize=(14,6))\n",
    "l12_mon_gld_buy_whl_tms_flag=combine[:39923][['l12_mon_gld_buy_whl_tms', 'flag']].groupby(['l12_mon_gld_buy_whl_tms'],as_index=False).mean()\n",
    "sns.barplot(x='l12_mon_gld_buy_whl_tms', y='flag',data=l12_mon_gld_buy_whl_tms_flag)\n",
    "print(combine.l12_mon_gld_buy_whl_tms.isnull().sum())\n",
    "print(\"_______\")\n",
    "combine.l12_mon_gld_buy_whl_tms.describe()"
   ]
  },
  {
   "cell_type": "code",
   "execution_count": 154,
   "metadata": {},
   "outputs": [],
   "source": [
    "combine.l12_mon_gld_buy_whl_tms=combine.l12_mon_gld_buy_whl_tms.fillna(-1)\n",
    "combine['l12_mon_gld_buy_whl_tms']=combine['l12_mon_gld_buy_whl_tms'].astype('int64')"
   ]
  },
  {
   "cell_type": "code",
   "execution_count": 155,
   "metadata": {},
   "outputs": [
    {
     "data": {
      "text/plain": [
       "count    43923.000000\n",
       "mean        -0.010655\n",
       "std          0.124519\n",
       "min         -1.000000\n",
       "25%          0.000000\n",
       "50%          0.000000\n",
       "75%          0.000000\n",
       "max          2.000000\n",
       "Name: l12_mon_gld_buy_whl_tms, dtype: float64"
      ]
     },
     "execution_count": 155,
     "metadata": {},
     "output_type": "execute_result"
    }
   ],
   "source": [
    "combine.loc[combine['l12_mon_gld_buy_whl_tms'] >=2,'l12_mon_gld_buy_whl_tms'] = 2\n",
    "combine['l12_mon_gld_buy_whl_tms'].describe()"
   ]
  },
  {
   "cell_type": "code",
   "execution_count": null,
   "metadata": {},
   "outputs": [],
   "source": []
  },
  {
   "cell_type": "code",
   "execution_count": 156,
   "metadata": {},
   "outputs": [
    {
     "name": "stdout",
     "output_type": "stream",
     "text": [
      "545\n",
      "_______\n"
     ]
    },
    {
     "data": {
      "text/plain": [
       "count     43378\n",
       "unique        2\n",
       "top           0\n",
       "freq      40939\n",
       "Name: loan_act_ind, dtype: object"
      ]
     },
     "execution_count": 156,
     "metadata": {},
     "output_type": "execute_result"
    },
    {
     "data": {
      "image/png": "[encoded data removed]",
      "text/plain": [
       "<Figure size 1008x432 with 1 Axes>"
      ]
     },
     "metadata": {
      "needs_background": "light"
     },
     "output_type": "display_data"
    }
   ],
   "source": [
    "#loan_act_ind\n",
    "plt.figure(figsize=(14,6))\n",
    "loan_act_ind_flag=combine[:39923][['loan_act_ind', 'flag']].groupby(['loan_act_ind'],as_index=False).mean()\n",
    "sns.barplot(x='loan_act_ind', y='flag',data=loan_act_ind_flag)\n",
    "print(combine.loan_act_ind.isnull().sum())\n",
    "print(\"_______\")\n",
    "combine.loan_act_ind.describe()"
   ]
  },
  {
   "cell_type": "code",
   "execution_count": 157,
   "metadata": {},
   "outputs": [
    {
     "name": "stdout",
     "output_type": "stream",
     "text": [
      "0\n"
     ]
    }
   ],
   "source": [
    "combine.loan_act_ind[combine.loan_act_ind.isnull()]=combine.loan_act_ind.dropna().mode().values\n",
    "print(combine.loan_act_ind.isnull().sum())"
   ]
  },
  {
   "cell_type": "code",
   "execution_count": 158,
   "metadata": {},
   "outputs": [
    {
     "name": "stdout",
     "output_type": "stream",
     "text": [
      "545\n",
      "_______\n"
     ]
    },
    {
     "data": {
      "text/plain": [
       "count     43378\n",
       "unique       11\n",
       "top           0\n",
       "freq      43208\n",
       "Name: ovd_30d_loan_tot_cnt, dtype: object"
      ]
     },
     "execution_count": 158,
     "metadata": {},
     "output_type": "execute_result"
    },
    {
     "data": {
      "image/png": "[encoded data removed]",
      "text/plain": [
       "<Figure size 1008x432 with 1 Axes>"
      ]
     },
     "metadata": {
      "needs_background": "light"
     },
     "output_type": "display_data"
    }
   ],
   "source": [
    "#ovd_30d_loan_tot_cnt\n",
    "plt.figure(figsize=(14,6))\n",
    "ovd_30d_loan_tot_cnt_flag=combine[:39923][['ovd_30d_loan_tot_cnt', 'flag']].groupby(['ovd_30d_loan_tot_cnt'],as_index=False).mean()\n",
    "sns.barplot(x='ovd_30d_loan_tot_cnt', y='flag',data=ovd_30d_loan_tot_cnt_flag)\n",
    "print(combine.ovd_30d_loan_tot_cnt.isnull().sum())\n",
    "print(\"_______\")\n",
    "combine.ovd_30d_loan_tot_cnt.describe()"
   ]
  },
  {
   "cell_type": "code",
   "execution_count": 159,
   "metadata": {},
   "outputs": [],
   "source": [
    "combine.ovd_30d_loan_tot_cnt=combine.ovd_30d_loan_tot_cnt.fillna(-1)\n",
    "combine['ovd_30d_loan_tot_cnt']=combine['ovd_30d_loan_tot_cnt'].astype('int64')"
   ]
  },
  {
   "cell_type": "code",
   "execution_count": 160,
   "metadata": {},
   "outputs": [
    {
     "data": {
      "text/plain": [
       "count    43923.000000\n",
       "mean        -0.005350\n",
       "std          0.173079\n",
       "min         -1.000000\n",
       "25%          0.000000\n",
       "50%          0.000000\n",
       "75%          0.000000\n",
       "max          4.000000\n",
       "Name: ovd_30d_loan_tot_cnt, dtype: float64"
      ]
     },
     "execution_count": 160,
     "metadata": {},
     "output_type": "execute_result"
    }
   ],
   "source": [
    "combine.loc[combine['ovd_30d_loan_tot_cnt'] >= 4,'ovd_30d_loan_tot_cnt'] = 4\n",
    "combine['ovd_30d_loan_tot_cnt'].describe()"
   ]
  },
  {
   "cell_type": "code",
   "execution_count": null,
   "metadata": {},
   "outputs": [],
   "source": []
  },
  {
   "cell_type": "code",
   "execution_count": 161,
   "metadata": {},
   "outputs": [
    {
     "name": "stdout",
     "output_type": "stream",
     "text": [
      "545\n",
      "_______\n"
     ]
    },
    {
     "data": {
      "text/plain": [
       "count     43378\n",
       "unique      139\n",
       "top           0\n",
       "freq      42727\n",
       "Name: his_lng_ovd_day, dtype: object"
      ]
     },
     "execution_count": 161,
     "metadata": {},
     "output_type": "execute_result"
    },
    {
     "data": {
      "image/png": "[encoded data removed]",
      "text/plain": [
       "<Figure size 1008x432 with 1 Axes>"
      ]
     },
     "metadata": {
      "needs_background": "light"
     },
     "output_type": "display_data"
    }
   ],
   "source": [
    "#his_lng_ovd_day\n",
    "plt.figure(figsize=(14,6))\n",
    "his_lng_ovd_day_flag=combine[:39923][['his_lng_ovd_day', 'flag']].groupby(['his_lng_ovd_day'],as_index=False).mean()\n",
    "sns.barplot(x='his_lng_ovd_day', y='flag',data=his_lng_ovd_day_flag)\n",
    "print(combine.his_lng_ovd_day.isnull().sum())\n",
    "print(\"_______\")\n",
    "combine.his_lng_ovd_day.describe()"
   ]
  },
  {
   "cell_type": "code",
   "execution_count": 162,
   "metadata": {},
   "outputs": [],
   "source": [
    "combine.his_lng_ovd_day=combine.his_lng_ovd_day.fillna(-1)\n",
    "combine['his_lng_ovd_day']=combine['his_lng_ovd_day'].astype('int64')"
   ]
  },
  {
   "cell_type": "code",
   "execution_count": 163,
   "metadata": {},
   "outputs": [
    {
     "data": {
      "text/plain": [
       "count    43923.000000\n",
       "mean         0.012317\n",
       "std          0.283429\n",
       "min         -1.000000\n",
       "25%          0.000000\n",
       "50%          0.000000\n",
       "75%          0.000000\n",
       "max          7.000000\n",
       "Name: his_lng_ovd_day, dtype: float64"
      ]
     },
     "execution_count": 163,
     "metadata": {},
     "output_type": "execute_result"
    }
   ],
   "source": [
    "combine.loc[(combine['his_lng_ovd_day'] >=1) & (combine['his_lng_ovd_day'] < 30),'his_lng_ovd_day'] =1\n",
    "combine.loc[(combine['his_lng_ovd_day'] >=30) & (combine['his_lng_ovd_day'] < 60),'his_lng_ovd_day'] =2\n",
    "combine.loc[(combine['his_lng_ovd_day'] >=60) & (combine['his_lng_ovd_day'] < 90),'his_lng_ovd_day'] =3\n",
    "combine.loc[(combine['his_lng_ovd_day'] >=90) & (combine['his_lng_ovd_day'] < 180),'his_lng_ovd_day'] =4\n",
    "combine.loc[(combine['his_lng_ovd_day'] >=180) & (combine['his_lng_ovd_day'] < 365),'his_lng_ovd_day'] =5\n",
    "combine.loc[(combine['his_lng_ovd_day'] >=365) & (combine['his_lng_ovd_day'] < 1095),'his_lng_ovd_day'] =6\n",
    "combine.loc[combine['his_lng_ovd_day'] >= 1096,'his_lng_ovd_day'] = 7\n",
    "combine['his_lng_ovd_day'].describe()"
   ]
  },
  {
   "cell_type": "code",
   "execution_count": 164,
   "metadata": {},
   "outputs": [
    {
     "name": "stdout",
     "output_type": "stream",
     "text": [
      "552\n",
      "_______\n"
     ]
    },
    {
     "data": {
      "text/plain": [
       "count     43371\n",
       "unique     1022\n",
       "top          -1\n",
       "freq      33727\n",
       "Name: frs_agn_dt_cnt, dtype: object"
      ]
     },
     "execution_count": 164,
     "metadata": {},
     "output_type": "execute_result"
    }
   ],
   "source": [
    "#frs_agn_dt_cnt\n",
    "print(combine.frs_agn_dt_cnt.isnull().sum())\n",
    "print(\"_______\")\n",
    "combine.frs_agn_dt_cnt.describe()"
   ]
  },
  {
   "cell_type": "code",
   "execution_count": 165,
   "metadata": {},
   "outputs": [],
   "source": [
    "combine.frs_agn_dt_cnt=combine.frs_agn_dt_cnt.fillna(0)\n",
    "combine['frs_agn_dt_cnt']=combine['frs_agn_dt_cnt'].astype('int64')"
   ]
  },
  {
   "cell_type": "code",
   "execution_count": 166,
   "metadata": {},
   "outputs": [
    {
     "data": {
      "text/plain": [
       "count    43923.000000\n",
       "mean         0.623887\n",
       "std          9.511724\n",
       "min         -1.000000\n",
       "25%         -1.000000\n",
       "50%         -1.000000\n",
       "75%         -1.000000\n",
       "max       1095.000000\n",
       "Name: frs_agn_dt_cnt, dtype: float64"
      ]
     },
     "execution_count": 166,
     "metadata": {},
     "output_type": "execute_result"
    }
   ],
   "source": [
    "combine.loc[(combine['frs_agn_dt_cnt'] >=1) & (combine['frs_agn_dt_cnt'] < 30),'frs_agn_dt_cnt'] =1\n",
    "combine.loc[(combine['frs_agn_dt_cnt'] >=30) & (combine['frs_agn_dt_cnt'] < 60),'frs_agn_dt_cnt'] =2\n",
    "combine.loc[(combine['frs_agn_dt_cnt'] >=60) & (combine['frs_agn_dt_cnt'] < 90),'frs_agn_dt_cnt'] =3\n",
    "combine.loc[(combine['frs_agn_dt_cnt'] >=90) & (combine['frs_agn_dt_cnt'] < 180),'frs_agn_dt_cnt'] =4\n",
    "combine.loc[(combine['frs_agn_dt_cnt'] >=180) & (combine['frs_agn_dt_cnt'] < 365),'frs_agn_dt_cnt'] =5\n",
    "combine.loc[(combine['frs_agn_dt_cnt'] >=365) & (combine['frs_agn_dt_cnt'] < 1095),'frs_agn_dt_cnt'] =6\n",
    "combine.loc[combine['frs_agn_dt_cnt'] >= 1096,'frs_agn_dt_cnt'] = 7\n",
    "combine['frs_agn_dt_cnt'].describe()"
   ]
  },
  {
   "cell_type": "code",
   "execution_count": null,
   "metadata": {},
   "outputs": [],
   "source": []
  },
  {
   "cell_type": "code",
   "execution_count": 167,
   "metadata": {},
   "outputs": [],
   "source": [
    "delete2=['cur_debit_cnt','cur_debit_min_opn_dt_cnt','cur_debit_crd_lvl','frs_agn_dt_cnt','BCmean',\n",
    "         'total_pay','inorout_ind','BB_ratio','BC_ratio','CQA_ratio','CQE_ratio','id']"
   ]
  },
  {
   "cell_type": "code",
   "execution_count": 168,
   "metadata": {},
   "outputs": [],
   "source": [
    "combine=combine.drop(delete2,axis=1)"
   ]
  },
  {
   "cell_type": "code",
   "execution_count": 169,
   "metadata": {},
   "outputs": [
    {
     "name": "stdout",
     "output_type": "stream",
     "text": [
      "<class 'pandas.core.frame.DataFrame'>\n",
      "Int64Index: 43923 entries, 0 to 3999\n",
      "Data columns (total 54 columns):\n",
      " #   Column                           Non-Null Count  Dtype \n",
      "---  ------                           --------------  ----- \n",
      " 0   flag                             43923 non-null  int64 \n",
      " 1   gdr_cd                           43923 non-null  int64 \n",
      " 2   age                              43923 non-null  int64 \n",
      " 3   mrg_situ_cd                      43923 non-null  int64 \n",
      " 4   acdm_deg_cd                      43923 non-null  int64 \n",
      " 5   job_year                         43923 non-null  int64 \n",
      " 6   ic_ind                           43923 non-null  object\n",
      " 7   fr_or_sh_ind                     43923 non-null  object\n",
      " 8   dnl_mbl_bnk_ind                  43923 non-null  object\n",
      " 9   dnl_bind_cmb_lif_ind             43923 non-null  object\n",
      " 10  hav_car_grp_ind                  43923 non-null  object\n",
      " 11  hav_hou_grp_ind                  43923 non-null  object\n",
      " 12  l6mon_agn_ind                    43923 non-null  object\n",
      " 13  vld_rsk_ases_ind                 43923 non-null  object\n",
      " 14  fin_rsk_ases_grd_cd              43923 non-null  int64 \n",
      " 15  confirm_rsk_ases_lvl_typ_cd      43923 non-null  int64 \n",
      " 16  cust_inv_rsk_endu_lvl_cd         43923 non-null  int64 \n",
      " 17  l6mon_daim_aum_cd                43923 non-null  int64 \n",
      " 18  tot_ast_lvl_cd                   43923 non-null  int64 \n",
      " 19  pot_ast_lvl_cd                   43923 non-null  int64 \n",
      " 20  bk1_cur_year_mon_avg_agn_amt_cd  43923 non-null  int64 \n",
      " 21  l12mon_buy_fin_mng_whl_tms       43923 non-null  int64 \n",
      " 22  l12_mon_fnd_buy_whl_tms          43923 non-null  int64 \n",
      " 23  l12_mon_insu_buy_whl_tms         43923 non-null  int64 \n",
      " 24  l12_mon_gld_buy_whl_tms          43923 non-null  int64 \n",
      " 25  loan_act_ind                     43923 non-null  object\n",
      " 26  pl_crd_lmt_cd                    43923 non-null  int64 \n",
      " 27  ovd_30d_loan_tot_cnt             43923 non-null  int64 \n",
      " 28  his_lng_ovd_day                  43923 non-null  int64 \n",
      " 29  hld_crd_card_grd_cd              43923 non-null  int64 \n",
      " 30  crd_card_act_ind                 43923 non-null  object\n",
      " 31  l1y_crd_card_csm_amt_dlm_cd      43923 non-null  object\n",
      " 32  perm_crd_lmt_cd                  43923 non-null  int64 \n",
      " 33  cur_credit_cnt                   43923 non-null  int64 \n",
      " 34  cur_credit_min_opn_dt_cnt        43923 non-null  int64 \n",
      " 35  inc                              43923 non-null  int64 \n",
      " 36  outA                             43923 non-null  int64 \n",
      " 37  outB                             43923 non-null  int64 \n",
      " 38  outC                             43923 non-null  int64 \n",
      " 39  lev                              43923 non-null  int64 \n",
      " 40  inc_mean                         43923 non-null  int64 \n",
      " 41  BAmean                           43923 non-null  int64 \n",
      " 42  BBmean                           43923 non-null  int64 \n",
      " 43  trd_frq                          43923 non-null  int64 \n",
      " 44  trd1_1                           43923 non-null  int64 \n",
      " 45  trd1_2                           43923 non-null  int64 \n",
      " 46  trd1_3                           43923 non-null  int64 \n",
      " 47  trd2_136                         43923 non-null  int64 \n",
      " 48  trd2_132                         43923 non-null  int64 \n",
      " 49  inorout_sum                      43923 non-null  int64 \n",
      " 50  BA_ratio                         43923 non-null  int64 \n",
      " 51  TrxCod2_ratio                    43923 non-null  int64 \n",
      " 52  app                              43923 non-null  int64 \n",
      " 53  app_frq                          43923 non-null  int64 \n",
      "dtypes: int64(43), object(11)\n",
      "memory usage: 18.4+ MB\n"
     ]
    }
   ],
   "source": [
    "combine.info()"
   ]
  },
  {
   "cell_type": "code",
   "execution_count": 170,
   "metadata": {},
   "outputs": [],
   "source": [
    "train_data=combine[:39923]\n",
    "test_data=combine[39923:]\n",
    "\n",
    "\n",
    "train_data_X  = train_data.drop(['flag'],axis=1)\n",
    "train_data_Y = train_data['flag']\n",
    "test_data_X  = test_data.drop(['flag'],axis=1)"
   ]
  },
  {
   "cell_type": "code",
   "execution_count": 171,
   "metadata": {},
   "outputs": [
    {
     "name": "stdout",
     "output_type": "stream",
     "text": [
      "<class 'pandas.core.frame.DataFrame'>\n",
      "Int64Index: 4000 entries, 0 to 3999\n",
      "Data columns (total 54 columns):\n",
      " #   Column                           Non-Null Count  Dtype \n",
      "---  ------                           --------------  ----- \n",
      " 0   flag                             4000 non-null   int64 \n",
      " 1   gdr_cd                           4000 non-null   int64 \n",
      " 2   age                              4000 non-null   int64 \n",
      " 3   mrg_situ_cd                      4000 non-null   int64 \n",
      " 4   acdm_deg_cd                      4000 non-null   int64 \n",
      " 5   job_year                         4000 non-null   int64 \n",
      " 6   ic_ind                           4000 non-null   object\n",
      " 7   fr_or_sh_ind                     4000 non-null   object\n",
      " 8   dnl_mbl_bnk_ind                  4000 non-null   object\n",
      " 9   dnl_bind_cmb_lif_ind             4000 non-null   object\n",
      " 10  hav_car_grp_ind                  4000 non-null   object\n",
      " 11  hav_hou_grp_ind                  4000 non-null   object\n",
      " 12  l6mon_agn_ind                    4000 non-null   object\n",
      " 13  vld_rsk_ases_ind                 4000 non-null   object\n",
      " 14  fin_rsk_ases_grd_cd              4000 non-null   int64 \n",
      " 15  confirm_rsk_ases_lvl_typ_cd      4000 non-null   int64 \n",
      " 16  cust_inv_rsk_endu_lvl_cd         4000 non-null   int64 \n",
      " 17  l6mon_daim_aum_cd                4000 non-null   int64 \n",
      " 18  tot_ast_lvl_cd                   4000 non-null   int64 \n",
      " 19  pot_ast_lvl_cd                   4000 non-null   int64 \n",
      " 20  bk1_cur_year_mon_avg_agn_amt_cd  4000 non-null   int64 \n",
      " 21  l12mon_buy_fin_mng_whl_tms       4000 non-null   int64 \n",
      " 22  l12_mon_fnd_buy_whl_tms          4000 non-null   int64 \n",
      " 23  l12_mon_insu_buy_whl_tms         4000 non-null   int64 \n",
      " 24  l12_mon_gld_buy_whl_tms          4000 non-null   int64 \n",
      " 25  loan_act_ind                     4000 non-null   object\n",
      " 26  pl_crd_lmt_cd                    4000 non-null   int64 \n",
      " 27  ovd_30d_loan_tot_cnt             4000 non-null   int64 \n",
      " 28  his_lng_ovd_day                  4000 non-null   int64 \n",
      " 29  hld_crd_card_grd_cd              4000 non-null   int64 \n",
      " 30  crd_card_act_ind                 4000 non-null   object\n",
      " 31  l1y_crd_card_csm_amt_dlm_cd      4000 non-null   object\n",
      " 32  perm_crd_lmt_cd                  4000 non-null   int64 \n",
      " 33  cur_credit_cnt                   4000 non-null   int64 \n",
      " 34  cur_credit_min_opn_dt_cnt        4000 non-null   int64 \n",
      " 35  inc                              4000 non-null   int64 \n",
      " 36  outA                             4000 non-null   int64 \n",
      " 37  outB                             4000 non-null   int64 \n",
      " 38  outC                             4000 non-null   int64 \n",
      " 39  lev                              4000 non-null   int64 \n",
      " 40  inc_mean                         4000 non-null   int64 \n",
      " 41  BAmean                           4000 non-null   int64 \n",
      " 42  BBmean                           4000 non-null   int64 \n",
      " 43  trd_frq                          4000 non-null   int64 \n",
      " 44  trd1_1                           4000 non-null   int64 \n",
      " 45  trd1_2                           4000 non-null   int64 \n",
      " 46  trd1_3                           4000 non-null   int64 \n",
      " 47  trd2_136                         4000 non-null   int64 \n",
      " 48  trd2_132                         4000 non-null   int64 \n",
      " 49  inorout_sum                      4000 non-null   int64 \n",
      " 50  BA_ratio                         4000 non-null   int64 \n",
      " 51  TrxCod2_ratio                    4000 non-null   int64 \n",
      " 52  app                              4000 non-null   int64 \n",
      " 53  app_frq                          4000 non-null   int64 \n",
      "dtypes: int64(43), object(11)\n",
      "memory usage: 1.7+ MB\n"
     ]
    }
   ],
   "source": [
    "test_data.info()"
   ]
  },
  {
   "cell_type": "code",
   "execution_count": 172,
   "metadata": {},
   "outputs": [],
   "source": [
    "X_train = train_data_X.values  #Creates an array of the train data\n",
    "X_test = test_data_X.values  #Creates an array of the test data\n",
    "Y_train = train_data_Y.values "
   ]
  },
  {
   "cell_type": "code",
   "execution_count": 173,
   "metadata": {},
   "outputs": [],
   "source": [
    "# from lightgbm import LGBMClassifier\n",
    "# lgB_model=LGBMClassifier()\n",
    "# lgB_model.fit(X_train, Y_train)\n",
    "# m=lgB_model.feature_importances_\n",
    "# m\n",
    "# # print(\"Done\")\n",
    "# # predictions_lgB = lgB_model.predict_proba(X_test)[:,1]\n",
    "# # submission_lgB_model = pd.DataFrame({'Id':ID,'Label':predictions_lgB})\n",
    "# # submission_lgB_model.to_csv('Fin_tech_final.txt',index=False,header=False,sep='\\t')\n",
    "# # print(\"生成文件\")"
   ]
  },
  {
   "cell_type": "code",
   "execution_count": 174,
   "metadata": {},
   "outputs": [
    {
     "name": "stdout",
     "output_type": "stream",
     "text": [
      "Done\n"
     ]
    }
   ],
   "source": [
    "from xgboost import XGBClassifier\n",
    "xgbmodel=XGBClassifier(random_state=219)\n",
    "xgbmodel.fit(X_train, Y_train)\n",
    "print(\"Done\")\n",
    "predictions_xgb = xgbmodel.predict_proba(X_test)[:,1]\n",
    "# submission_xgb = pd.DataFrame({'Id':ID,'Label':predictions_xgb})\n",
    "# submission_xgb.to_csv('Fin_tech_511_3.txt',index=False,header=False,sep='\\t')\n",
    "# print(\"生成文件\")"
   ]
  },
  {
   "cell_type": "code",
   "execution_count": 175,
   "metadata": {},
   "outputs": [
    {
     "name": "stdout",
     "output_type": "stream",
     "text": [
      "Done\n"
     ]
    }
   ],
   "source": [
    "from lightgbm import LGBMClassifier\n",
    "lgB_model=LGBMClassifier(random_state=219)\n",
    "lgB_model.fit(X_train, Y_train)\n",
    "print(\"Done\")\n",
    "predictions_lgB = lgB_model.predict_proba(X_test)[:,1]\n",
    "# submission_lgB_model = pd.DataFrame({'Id':ID,'Label':predictions_lgB})\n",
    "# submission_lgB_model.to_csv('Fin_tech_final2.txt',index=False,header=False,sep='\\t')\n",
    "# print(\"生成文件\")"
   ]
  },
  {
   "cell_type": "code",
   "execution_count": 176,
   "metadata": {},
   "outputs": [
    {
     "name": "stdout",
     "output_type": "stream",
     "text": [
      "Learning rate set to 0.049734\n",
      "0:\tlearn: 0.6712382\ttotal: 111ms\tremaining: 1m 51s\n",
      "1:\tlearn: 0.6516305\ttotal: 122ms\tremaining: 1m 1s\n",
      "2:\tlearn: 0.6341980\ttotal: 137ms\tremaining: 45.4s\n",
      "3:\tlearn: 0.6192158\ttotal: 154ms\tremaining: 38.3s\n",
      "4:\tlearn: 0.6044276\ttotal: 169ms\tremaining: 33.6s\n",
      "5:\tlearn: 0.5915878\ttotal: 185ms\tremaining: 30.6s\n",
      "6:\tlearn: 0.5799171\ttotal: 200ms\tremaining: 28.4s\n",
      "7:\tlearn: 0.5700298\ttotal: 213ms\tremaining: 26.4s\n",
      "8:\tlearn: 0.5601035\ttotal: 226ms\tremaining: 24.9s\n",
      "9:\tlearn: 0.5518647\ttotal: 239ms\tremaining: 23.6s\n",
      "10:\tlearn: 0.5442143\ttotal: 251ms\tremaining: 22.6s\n",
      "11:\tlearn: 0.5390822\ttotal: 263ms\tremaining: 21.6s\n",
      "12:\tlearn: 0.5331341\ttotal: 278ms\tremaining: 21.1s\n",
      "13:\tlearn: 0.5284209\ttotal: 291ms\tremaining: 20.5s\n",
      "14:\tlearn: 0.5230223\ttotal: 305ms\tremaining: 20s\n",
      "15:\tlearn: 0.5183865\ttotal: 318ms\tremaining: 19.6s\n",
      "16:\tlearn: 0.5143487\ttotal: 331ms\tremaining: 19.2s\n",
      "17:\tlearn: 0.5104768\ttotal: 345ms\tremaining: 18.8s\n",
      "18:\tlearn: 0.5066145\ttotal: 361ms\tremaining: 18.6s\n",
      "19:\tlearn: 0.5032115\ttotal: 376ms\tremaining: 18.4s\n",
      "20:\tlearn: 0.5001682\ttotal: 391ms\tremaining: 18.2s\n",
      "21:\tlearn: 0.4973879\ttotal: 405ms\tremaining: 18s\n",
      "22:\tlearn: 0.4952083\ttotal: 419ms\tremaining: 17.8s\n",
      "23:\tlearn: 0.4931091\ttotal: 431ms\tremaining: 17.5s\n",
      "24:\tlearn: 0.4911648\ttotal: 445ms\tremaining: 17.4s\n",
      "25:\tlearn: 0.4893471\ttotal: 458ms\tremaining: 17.1s\n",
      "26:\tlearn: 0.4875170\ttotal: 472ms\tremaining: 17s\n",
      "27:\tlearn: 0.4860341\ttotal: 486ms\tremaining: 16.9s\n",
      "28:\tlearn: 0.4842121\ttotal: 501ms\tremaining: 16.8s\n",
      "29:\tlearn: 0.4826853\ttotal: 519ms\tremaining: 16.8s\n",
      "30:\tlearn: 0.4811794\ttotal: 533ms\tremaining: 16.6s\n",
      "31:\tlearn: 0.4799306\ttotal: 547ms\tremaining: 16.5s\n",
      "32:\tlearn: 0.4787233\ttotal: 562ms\tremaining: 16.5s\n",
      "33:\tlearn: 0.4775276\ttotal: 574ms\tremaining: 16.3s\n",
      "34:\tlearn: 0.4765234\ttotal: 586ms\tremaining: 16.2s\n",
      "35:\tlearn: 0.4757154\ttotal: 600ms\tremaining: 16.1s\n",
      "36:\tlearn: 0.4747905\ttotal: 614ms\tremaining: 16s\n",
      "37:\tlearn: 0.4740182\ttotal: 627ms\tremaining: 15.9s\n",
      "38:\tlearn: 0.4730656\ttotal: 640ms\tremaining: 15.8s\n",
      "39:\tlearn: 0.4722630\ttotal: 653ms\tremaining: 15.7s\n",
      "40:\tlearn: 0.4714836\ttotal: 666ms\tremaining: 15.6s\n",
      "41:\tlearn: 0.4707580\ttotal: 679ms\tremaining: 15.5s\n",
      "42:\tlearn: 0.4700997\ttotal: 694ms\tremaining: 15.4s\n",
      "43:\tlearn: 0.4695253\ttotal: 711ms\tremaining: 15.4s\n",
      "44:\tlearn: 0.4689715\ttotal: 725ms\tremaining: 15.4s\n",
      "45:\tlearn: 0.4683927\ttotal: 740ms\tremaining: 15.3s\n",
      "46:\tlearn: 0.4678231\ttotal: 754ms\tremaining: 15.3s\n",
      "47:\tlearn: 0.4673400\ttotal: 766ms\tremaining: 15.2s\n",
      "48:\tlearn: 0.4669013\ttotal: 786ms\tremaining: 15.3s\n",
      "49:\tlearn: 0.4665234\ttotal: 799ms\tremaining: 15.2s\n",
      "50:\tlearn: 0.4659413\ttotal: 811ms\tremaining: 15.1s\n",
      "51:\tlearn: 0.4655110\ttotal: 828ms\tremaining: 15.1s\n",
      "52:\tlearn: 0.4651511\ttotal: 840ms\tremaining: 15s\n",
      "53:\tlearn: 0.4645586\ttotal: 855ms\tremaining: 15s\n",
      "54:\tlearn: 0.4641143\ttotal: 869ms\tremaining: 14.9s\n",
      "55:\tlearn: 0.4636762\ttotal: 885ms\tremaining: 14.9s\n",
      "56:\tlearn: 0.4632844\ttotal: 898ms\tremaining: 14.9s\n",
      "57:\tlearn: 0.4629803\ttotal: 911ms\tremaining: 14.8s\n",
      "58:\tlearn: 0.4625617\ttotal: 924ms\tremaining: 14.7s\n",
      "59:\tlearn: 0.4621992\ttotal: 938ms\tremaining: 14.7s\n",
      "60:\tlearn: 0.4617466\ttotal: 953ms\tremaining: 14.7s\n",
      "61:\tlearn: 0.4614582\ttotal: 969ms\tremaining: 14.7s\n",
      "62:\tlearn: 0.4610658\ttotal: 984ms\tremaining: 14.6s\n",
      "63:\tlearn: 0.4607619\ttotal: 998ms\tremaining: 14.6s\n",
      "64:\tlearn: 0.4603696\ttotal: 1.02s\tremaining: 14.6s\n",
      "65:\tlearn: 0.4601295\ttotal: 1.03s\tremaining: 14.6s\n",
      "66:\tlearn: 0.4598819\ttotal: 1.04s\tremaining: 14.5s\n",
      "67:\tlearn: 0.4594955\ttotal: 1.06s\tremaining: 14.5s\n",
      "68:\tlearn: 0.4592504\ttotal: 1.07s\tremaining: 14.4s\n",
      "69:\tlearn: 0.4588514\ttotal: 1.08s\tremaining: 14.4s\n",
      "70:\tlearn: 0.4586038\ttotal: 1.1s\tremaining: 14.3s\n",
      "71:\tlearn: 0.4582515\ttotal: 1.11s\tremaining: 14.3s\n",
      "72:\tlearn: 0.4579651\ttotal: 1.12s\tremaining: 14.3s\n",
      "73:\tlearn: 0.4576343\ttotal: 1.14s\tremaining: 14.2s\n",
      "74:\tlearn: 0.4573030\ttotal: 1.15s\tremaining: 14.2s\n",
      "75:\tlearn: 0.4570595\ttotal: 1.17s\tremaining: 14.2s\n",
      "76:\tlearn: 0.4567125\ttotal: 1.19s\tremaining: 14.2s\n",
      "77:\tlearn: 0.4565562\ttotal: 1.2s\tremaining: 14.2s\n",
      "78:\tlearn: 0.4563764\ttotal: 1.21s\tremaining: 14.1s\n",
      "79:\tlearn: 0.4560288\ttotal: 1.22s\tremaining: 14.1s\n",
      "80:\tlearn: 0.4558359\ttotal: 1.24s\tremaining: 14s\n",
      "81:\tlearn: 0.4556061\ttotal: 1.25s\tremaining: 14s\n",
      "82:\tlearn: 0.4553831\ttotal: 1.26s\tremaining: 14s\n",
      "83:\tlearn: 0.4551895\ttotal: 1.27s\tremaining: 13.9s\n",
      "84:\tlearn: 0.4550000\ttotal: 1.29s\tremaining: 13.9s\n",
      "85:\tlearn: 0.4548564\ttotal: 1.3s\tremaining: 13.8s\n",
      "86:\tlearn: 0.4545618\ttotal: 1.31s\tremaining: 13.8s\n",
      "87:\tlearn: 0.4543555\ttotal: 1.33s\tremaining: 13.7s\n",
      "88:\tlearn: 0.4540549\ttotal: 1.34s\tremaining: 13.7s\n",
      "89:\tlearn: 0.4538849\ttotal: 1.35s\tremaining: 13.7s\n",
      "90:\tlearn: 0.4536916\ttotal: 1.36s\tremaining: 13.6s\n",
      "91:\tlearn: 0.4535597\ttotal: 1.38s\tremaining: 13.6s\n",
      "92:\tlearn: 0.4532672\ttotal: 1.39s\tremaining: 13.5s\n",
      "93:\tlearn: 0.4530083\ttotal: 1.4s\tremaining: 13.5s\n",
      "94:\tlearn: 0.4528071\ttotal: 1.41s\tremaining: 13.4s\n",
      "95:\tlearn: 0.4525804\ttotal: 1.42s\tremaining: 13.4s\n",
      "96:\tlearn: 0.4523989\ttotal: 1.44s\tremaining: 13.4s\n",
      "97:\tlearn: 0.4522179\ttotal: 1.45s\tremaining: 13.3s\n",
      "98:\tlearn: 0.4520881\ttotal: 1.46s\tremaining: 13.3s\n",
      "99:\tlearn: 0.4517455\ttotal: 1.47s\tremaining: 13.3s\n",
      "100:\tlearn: 0.4516248\ttotal: 1.49s\tremaining: 13.2s\n",
      "101:\tlearn: 0.4514887\ttotal: 1.5s\tremaining: 13.2s\n",
      "102:\tlearn: 0.4512874\ttotal: 1.51s\tremaining: 13.1s\n",
      "103:\tlearn: 0.4511515\ttotal: 1.52s\tremaining: 13.1s\n",
      "104:\tlearn: 0.4509413\ttotal: 1.53s\tremaining: 13.1s\n",
      "105:\tlearn: 0.4508155\ttotal: 1.54s\tremaining: 13s\n",
      "106:\tlearn: 0.4506216\ttotal: 1.56s\tremaining: 13s\n",
      "107:\tlearn: 0.4503282\ttotal: 1.57s\tremaining: 13s\n",
      "108:\tlearn: 0.4502394\ttotal: 1.58s\tremaining: 12.9s\n",
      "109:\tlearn: 0.4500409\ttotal: 1.6s\tremaining: 12.9s\n",
      "110:\tlearn: 0.4499058\ttotal: 1.61s\tremaining: 12.9s\n",
      "111:\tlearn: 0.4496790\ttotal: 1.62s\tremaining: 12.9s\n",
      "112:\tlearn: 0.4495012\ttotal: 1.64s\tremaining: 12.8s\n",
      "113:\tlearn: 0.4494179\ttotal: 1.65s\tremaining: 12.8s\n",
      "114:\tlearn: 0.4493016\ttotal: 1.66s\tremaining: 12.8s\n",
      "115:\tlearn: 0.4491888\ttotal: 1.68s\tremaining: 12.8s\n",
      "116:\tlearn: 0.4490835\ttotal: 1.69s\tremaining: 12.8s\n",
      "117:\tlearn: 0.4489336\ttotal: 1.71s\tremaining: 12.7s\n",
      "118:\tlearn: 0.4488070\ttotal: 1.72s\tremaining: 12.7s\n",
      "119:\tlearn: 0.4486813\ttotal: 1.73s\tremaining: 12.7s\n",
      "120:\tlearn: 0.4484079\ttotal: 1.75s\tremaining: 12.7s\n",
      "121:\tlearn: 0.4482103\ttotal: 1.76s\tremaining: 12.7s\n",
      "122:\tlearn: 0.4481020\ttotal: 1.77s\tremaining: 12.6s\n",
      "123:\tlearn: 0.4479670\ttotal: 1.78s\tremaining: 12.6s\n",
      "124:\tlearn: 0.4478142\ttotal: 1.79s\tremaining: 12.6s\n",
      "125:\tlearn: 0.4476683\ttotal: 1.81s\tremaining: 12.6s\n",
      "126:\tlearn: 0.4475228\ttotal: 1.83s\tremaining: 12.6s\n",
      "127:\tlearn: 0.4474211\ttotal: 1.84s\tremaining: 12.6s\n",
      "128:\tlearn: 0.4472626\ttotal: 1.86s\tremaining: 12.5s\n",
      "129:\tlearn: 0.4471154\ttotal: 1.87s\tremaining: 12.5s\n",
      "130:\tlearn: 0.4469988\ttotal: 1.88s\tremaining: 12.5s\n",
      "131:\tlearn: 0.4469196\ttotal: 1.89s\tremaining: 12.4s\n",
      "132:\tlearn: 0.4467840\ttotal: 1.91s\tremaining: 12.4s\n",
      "133:\tlearn: 0.4466413\ttotal: 1.92s\tremaining: 12.4s\n",
      "134:\tlearn: 0.4465369\ttotal: 1.94s\tremaining: 12.4s\n",
      "135:\tlearn: 0.4464384\ttotal: 1.95s\tremaining: 12.4s\n",
      "136:\tlearn: 0.4463078\ttotal: 1.96s\tremaining: 12.3s\n",
      "137:\tlearn: 0.4461142\ttotal: 1.97s\tremaining: 12.3s\n",
      "138:\tlearn: 0.4460164\ttotal: 1.98s\tremaining: 12.3s\n",
      "139:\tlearn: 0.4458311\ttotal: 2s\tremaining: 12.3s\n",
      "140:\tlearn: 0.4457207\ttotal: 2s\tremaining: 12.2s\n",
      "141:\tlearn: 0.4456113\ttotal: 2.02s\tremaining: 12.2s\n",
      "142:\tlearn: 0.4455544\ttotal: 2.03s\tremaining: 12.2s\n",
      "143:\tlearn: 0.4454091\ttotal: 2.04s\tremaining: 12.2s\n",
      "144:\tlearn: 0.4453096\ttotal: 2.06s\tremaining: 12.1s\n",
      "145:\tlearn: 0.4451880\ttotal: 2.07s\tremaining: 12.1s\n",
      "146:\tlearn: 0.4449547\ttotal: 2.09s\tremaining: 12.1s\n",
      "147:\tlearn: 0.4448387\ttotal: 2.1s\tremaining: 12.1s\n",
      "148:\tlearn: 0.4447003\ttotal: 2.11s\tremaining: 12.1s\n",
      "149:\tlearn: 0.4445817\ttotal: 2.12s\tremaining: 12s\n",
      "150:\tlearn: 0.4444646\ttotal: 2.13s\tremaining: 12s\n",
      "151:\tlearn: 0.4443958\ttotal: 2.14s\tremaining: 12s\n",
      "152:\tlearn: 0.4443324\ttotal: 2.16s\tremaining: 11.9s\n",
      "153:\tlearn: 0.4441999\ttotal: 2.17s\tremaining: 11.9s\n",
      "154:\tlearn: 0.4441531\ttotal: 2.19s\tremaining: 11.9s\n",
      "155:\tlearn: 0.4440784\ttotal: 2.2s\tremaining: 11.9s\n",
      "156:\tlearn: 0.4439525\ttotal: 2.21s\tremaining: 11.9s\n",
      "157:\tlearn: 0.4438086\ttotal: 2.22s\tremaining: 11.8s\n",
      "158:\tlearn: 0.4436684\ttotal: 2.23s\tremaining: 11.8s\n",
      "159:\tlearn: 0.4435842\ttotal: 2.25s\tremaining: 11.8s\n",
      "160:\tlearn: 0.4434095\ttotal: 2.27s\tremaining: 11.8s\n",
      "161:\tlearn: 0.4433298\ttotal: 2.28s\tremaining: 11.8s\n",
      "162:\tlearn: 0.4432488\ttotal: 2.29s\tremaining: 11.8s\n",
      "163:\tlearn: 0.4431681\ttotal: 2.3s\tremaining: 11.7s\n",
      "164:\tlearn: 0.4430927\ttotal: 2.31s\tremaining: 11.7s\n",
      "165:\tlearn: 0.4430073\ttotal: 2.33s\tremaining: 11.7s\n",
      "166:\tlearn: 0.4428747\ttotal: 2.34s\tremaining: 11.7s\n"
     ]
    },
    {
     "name": "stdout",
     "output_type": "stream",
     "text": [
      "167:\tlearn: 0.4426827\ttotal: 2.35s\tremaining: 11.7s\n",
      "168:\tlearn: 0.4426307\ttotal: 2.37s\tremaining: 11.6s\n",
      "169:\tlearn: 0.4423993\ttotal: 2.38s\tremaining: 11.6s\n",
      "170:\tlearn: 0.4422997\ttotal: 2.39s\tremaining: 11.6s\n",
      "171:\tlearn: 0.4421696\ttotal: 2.4s\tremaining: 11.6s\n",
      "172:\tlearn: 0.4421182\ttotal: 2.41s\tremaining: 11.5s\n",
      "173:\tlearn: 0.4420117\ttotal: 2.42s\tremaining: 11.5s\n",
      "174:\tlearn: 0.4418995\ttotal: 2.44s\tremaining: 11.5s\n",
      "175:\tlearn: 0.4417676\ttotal: 2.45s\tremaining: 11.5s\n",
      "176:\tlearn: 0.4416099\ttotal: 2.46s\tremaining: 11.4s\n",
      "177:\tlearn: 0.4414586\ttotal: 2.47s\tremaining: 11.4s\n",
      "178:\tlearn: 0.4413376\ttotal: 2.48s\tremaining: 11.4s\n",
      "179:\tlearn: 0.4411762\ttotal: 2.5s\tremaining: 11.4s\n",
      "180:\tlearn: 0.4410718\ttotal: 2.51s\tremaining: 11.3s\n",
      "181:\tlearn: 0.4409049\ttotal: 2.52s\tremaining: 11.3s\n",
      "182:\tlearn: 0.4408262\ttotal: 2.53s\tremaining: 11.3s\n",
      "183:\tlearn: 0.4407237\ttotal: 2.54s\tremaining: 11.3s\n",
      "184:\tlearn: 0.4406316\ttotal: 2.55s\tremaining: 11.2s\n",
      "185:\tlearn: 0.4405487\ttotal: 2.56s\tremaining: 11.2s\n",
      "186:\tlearn: 0.4404349\ttotal: 2.58s\tremaining: 11.2s\n",
      "187:\tlearn: 0.4402578\ttotal: 2.59s\tremaining: 11.2s\n",
      "188:\tlearn: 0.4402090\ttotal: 2.6s\tremaining: 11.2s\n",
      "189:\tlearn: 0.4401232\ttotal: 2.61s\tremaining: 11.1s\n",
      "190:\tlearn: 0.4400411\ttotal: 2.62s\tremaining: 11.1s\n",
      "191:\tlearn: 0.4399519\ttotal: 2.64s\tremaining: 11.1s\n",
      "192:\tlearn: 0.4398108\ttotal: 2.65s\tremaining: 11.1s\n",
      "193:\tlearn: 0.4397053\ttotal: 2.66s\tremaining: 11.1s\n",
      "194:\tlearn: 0.4396526\ttotal: 2.67s\tremaining: 11s\n",
      "195:\tlearn: 0.4395487\ttotal: 2.68s\tremaining: 11s\n",
      "196:\tlearn: 0.4394748\ttotal: 2.69s\tremaining: 11s\n",
      "197:\tlearn: 0.4394097\ttotal: 2.71s\tremaining: 11s\n",
      "198:\tlearn: 0.4393250\ttotal: 2.72s\tremaining: 10.9s\n",
      "199:\tlearn: 0.4392586\ttotal: 2.73s\tremaining: 10.9s\n",
      "200:\tlearn: 0.4392066\ttotal: 2.74s\tremaining: 10.9s\n",
      "201:\tlearn: 0.4391166\ttotal: 2.75s\tremaining: 10.9s\n",
      "202:\tlearn: 0.4390180\ttotal: 2.77s\tremaining: 10.9s\n",
      "203:\tlearn: 0.4389134\ttotal: 2.78s\tremaining: 10.8s\n",
      "204:\tlearn: 0.4387960\ttotal: 2.79s\tremaining: 10.8s\n",
      "205:\tlearn: 0.4386634\ttotal: 2.8s\tremaining: 10.8s\n",
      "206:\tlearn: 0.4385949\ttotal: 2.81s\tremaining: 10.8s\n",
      "207:\tlearn: 0.4385704\ttotal: 2.83s\tremaining: 10.8s\n",
      "208:\tlearn: 0.4384461\ttotal: 2.84s\tremaining: 10.7s\n",
      "209:\tlearn: 0.4382722\ttotal: 2.85s\tremaining: 10.7s\n",
      "210:\tlearn: 0.4380884\ttotal: 2.86s\tremaining: 10.7s\n",
      "211:\tlearn: 0.4380388\ttotal: 2.88s\tremaining: 10.7s\n",
      "212:\tlearn: 0.4379376\ttotal: 2.89s\tremaining: 10.7s\n",
      "213:\tlearn: 0.4378879\ttotal: 2.91s\tremaining: 10.7s\n",
      "214:\tlearn: 0.4377873\ttotal: 2.92s\tremaining: 10.7s\n",
      "215:\tlearn: 0.4377036\ttotal: 2.94s\tremaining: 10.7s\n",
      "216:\tlearn: 0.4376292\ttotal: 2.95s\tremaining: 10.6s\n",
      "217:\tlearn: 0.4375134\ttotal: 2.97s\tremaining: 10.6s\n",
      "218:\tlearn: 0.4374200\ttotal: 2.98s\tremaining: 10.6s\n",
      "219:\tlearn: 0.4373465\ttotal: 2.99s\tremaining: 10.6s\n",
      "220:\tlearn: 0.4372800\ttotal: 3.01s\tremaining: 10.6s\n",
      "221:\tlearn: 0.4371989\ttotal: 3.02s\tremaining: 10.6s\n",
      "222:\tlearn: 0.4369974\ttotal: 3.03s\tremaining: 10.6s\n",
      "223:\tlearn: 0.4368578\ttotal: 3.04s\tremaining: 10.5s\n",
      "224:\tlearn: 0.4368004\ttotal: 3.06s\tremaining: 10.5s\n",
      "225:\tlearn: 0.4366833\ttotal: 3.07s\tremaining: 10.5s\n",
      "226:\tlearn: 0.4365561\ttotal: 3.08s\tremaining: 10.5s\n",
      "227:\tlearn: 0.4364390\ttotal: 3.1s\tremaining: 10.5s\n",
      "228:\tlearn: 0.4364097\ttotal: 3.11s\tremaining: 10.5s\n",
      "229:\tlearn: 0.4362681\ttotal: 3.12s\tremaining: 10.4s\n",
      "230:\tlearn: 0.4362159\ttotal: 3.13s\tremaining: 10.4s\n",
      "231:\tlearn: 0.4361072\ttotal: 3.15s\tremaining: 10.4s\n",
      "232:\tlearn: 0.4360666\ttotal: 3.16s\tremaining: 10.4s\n",
      "233:\tlearn: 0.4360103\ttotal: 3.17s\tremaining: 10.4s\n",
      "234:\tlearn: 0.4358550\ttotal: 3.18s\tremaining: 10.3s\n",
      "235:\tlearn: 0.4357541\ttotal: 3.19s\tremaining: 10.3s\n",
      "236:\tlearn: 0.4356662\ttotal: 3.2s\tremaining: 10.3s\n",
      "237:\tlearn: 0.4355294\ttotal: 3.22s\tremaining: 10.3s\n",
      "238:\tlearn: 0.4354214\ttotal: 3.23s\tremaining: 10.3s\n",
      "239:\tlearn: 0.4353129\ttotal: 3.24s\tremaining: 10.3s\n",
      "240:\tlearn: 0.4351860\ttotal: 3.25s\tremaining: 10.2s\n",
      "241:\tlearn: 0.4350913\ttotal: 3.26s\tremaining: 10.2s\n",
      "242:\tlearn: 0.4350333\ttotal: 3.27s\tremaining: 10.2s\n",
      "243:\tlearn: 0.4348775\ttotal: 3.29s\tremaining: 10.2s\n",
      "244:\tlearn: 0.4348056\ttotal: 3.3s\tremaining: 10.2s\n",
      "245:\tlearn: 0.4346877\ttotal: 3.31s\tremaining: 10.1s\n",
      "246:\tlearn: 0.4345967\ttotal: 3.32s\tremaining: 10.1s\n",
      "247:\tlearn: 0.4344932\ttotal: 3.33s\tremaining: 10.1s\n",
      "248:\tlearn: 0.4344205\ttotal: 3.34s\tremaining: 10.1s\n",
      "249:\tlearn: 0.4344141\ttotal: 3.35s\tremaining: 10.1s\n",
      "250:\tlearn: 0.4342740\ttotal: 3.37s\tremaining: 10s\n",
      "251:\tlearn: 0.4342519\ttotal: 3.38s\tremaining: 10s\n",
      "252:\tlearn: 0.4341519\ttotal: 3.39s\tremaining: 10s\n",
      "253:\tlearn: 0.4340740\ttotal: 3.4s\tremaining: 9.98s\n",
      "254:\tlearn: 0.4339830\ttotal: 3.41s\tremaining: 9.96s\n",
      "255:\tlearn: 0.4338741\ttotal: 3.42s\tremaining: 9.95s\n",
      "256:\tlearn: 0.4337222\ttotal: 3.43s\tremaining: 9.93s\n",
      "257:\tlearn: 0.4335785\ttotal: 3.45s\tremaining: 9.91s\n",
      "258:\tlearn: 0.4335290\ttotal: 3.46s\tremaining: 9.9s\n",
      "259:\tlearn: 0.4334193\ttotal: 3.47s\tremaining: 9.88s\n",
      "260:\tlearn: 0.4332838\ttotal: 3.48s\tremaining: 9.86s\n",
      "261:\tlearn: 0.4331483\ttotal: 3.49s\tremaining: 9.84s\n",
      "262:\tlearn: 0.4329953\ttotal: 3.5s\tremaining: 9.82s\n",
      "263:\tlearn: 0.4329775\ttotal: 3.52s\tremaining: 9.8s\n",
      "264:\tlearn: 0.4328536\ttotal: 3.53s\tremaining: 9.78s\n",
      "265:\tlearn: 0.4327810\ttotal: 3.54s\tremaining: 9.77s\n",
      "266:\tlearn: 0.4326859\ttotal: 3.55s\tremaining: 9.75s\n",
      "267:\tlearn: 0.4326724\ttotal: 3.56s\tremaining: 9.73s\n",
      "268:\tlearn: 0.4325507\ttotal: 3.58s\tremaining: 9.71s\n",
      "269:\tlearn: 0.4324616\ttotal: 3.59s\tremaining: 9.7s\n",
      "270:\tlearn: 0.4323746\ttotal: 3.6s\tremaining: 9.68s\n",
      "271:\tlearn: 0.4322374\ttotal: 3.61s\tremaining: 9.67s\n",
      "272:\tlearn: 0.4321243\ttotal: 3.63s\tremaining: 9.65s\n",
      "273:\tlearn: 0.4319889\ttotal: 3.64s\tremaining: 9.64s\n",
      "274:\tlearn: 0.4318797\ttotal: 3.65s\tremaining: 9.62s\n",
      "275:\tlearn: 0.4318007\ttotal: 3.66s\tremaining: 9.61s\n",
      "276:\tlearn: 0.4316711\ttotal: 3.67s\tremaining: 9.59s\n",
      "277:\tlearn: 0.4316175\ttotal: 3.69s\tremaining: 9.57s\n",
      "278:\tlearn: 0.4315266\ttotal: 3.7s\tremaining: 9.56s\n",
      "279:\tlearn: 0.4314135\ttotal: 3.71s\tremaining: 9.55s\n",
      "280:\tlearn: 0.4313213\ttotal: 3.72s\tremaining: 9.53s\n",
      "281:\tlearn: 0.4312498\ttotal: 3.73s\tremaining: 9.51s\n",
      "282:\tlearn: 0.4311385\ttotal: 3.75s\tremaining: 9.49s\n",
      "283:\tlearn: 0.4310136\ttotal: 3.76s\tremaining: 9.47s\n",
      "284:\tlearn: 0.4309992\ttotal: 3.77s\tremaining: 9.45s\n",
      "285:\tlearn: 0.4308774\ttotal: 3.78s\tremaining: 9.44s\n",
      "286:\tlearn: 0.4308259\ttotal: 3.79s\tremaining: 9.42s\n",
      "287:\tlearn: 0.4307071\ttotal: 3.8s\tremaining: 9.4s\n",
      "288:\tlearn: 0.4306015\ttotal: 3.81s\tremaining: 9.39s\n",
      "289:\tlearn: 0.4305128\ttotal: 3.83s\tremaining: 9.37s\n",
      "290:\tlearn: 0.4304655\ttotal: 3.84s\tremaining: 9.35s\n",
      "291:\tlearn: 0.4303758\ttotal: 3.85s\tremaining: 9.34s\n",
      "292:\tlearn: 0.4302729\ttotal: 3.86s\tremaining: 9.32s\n",
      "293:\tlearn: 0.4301608\ttotal: 3.87s\tremaining: 9.3s\n",
      "294:\tlearn: 0.4299985\ttotal: 3.89s\tremaining: 9.29s\n",
      "295:\tlearn: 0.4299276\ttotal: 3.9s\tremaining: 9.28s\n",
      "296:\tlearn: 0.4298185\ttotal: 3.91s\tremaining: 9.26s\n",
      "297:\tlearn: 0.4297111\ttotal: 3.92s\tremaining: 9.25s\n",
      "298:\tlearn: 0.4296652\ttotal: 3.94s\tremaining: 9.23s\n",
      "299:\tlearn: 0.4295495\ttotal: 3.95s\tremaining: 9.21s\n",
      "300:\tlearn: 0.4294395\ttotal: 3.96s\tremaining: 9.19s\n",
      "301:\tlearn: 0.4293211\ttotal: 3.97s\tremaining: 9.18s\n",
      "302:\tlearn: 0.4292447\ttotal: 3.98s\tremaining: 9.16s\n",
      "303:\tlearn: 0.4291544\ttotal: 4s\tremaining: 9.15s\n",
      "304:\tlearn: 0.4291495\ttotal: 4.01s\tremaining: 9.13s\n",
      "305:\tlearn: 0.4290793\ttotal: 4.02s\tremaining: 9.12s\n",
      "306:\tlearn: 0.4290371\ttotal: 4.03s\tremaining: 9.1s\n",
      "307:\tlearn: 0.4289211\ttotal: 4.05s\tremaining: 9.09s\n",
      "308:\tlearn: 0.4287717\ttotal: 4.06s\tremaining: 9.08s\n",
      "309:\tlearn: 0.4286290\ttotal: 4.08s\tremaining: 9.07s\n",
      "310:\tlearn: 0.4285507\ttotal: 4.09s\tremaining: 9.06s\n",
      "311:\tlearn: 0.4284667\ttotal: 4.1s\tremaining: 9.04s\n",
      "312:\tlearn: 0.4283386\ttotal: 4.11s\tremaining: 9.03s\n",
      "313:\tlearn: 0.4283090\ttotal: 4.13s\tremaining: 9.01s\n",
      "314:\tlearn: 0.4282132\ttotal: 4.14s\tremaining: 9s\n",
      "315:\tlearn: 0.4280809\ttotal: 4.15s\tremaining: 8.98s\n",
      "316:\tlearn: 0.4279828\ttotal: 4.16s\tremaining: 8.97s\n",
      "317:\tlearn: 0.4278745\ttotal: 4.18s\tremaining: 8.96s\n",
      "318:\tlearn: 0.4277671\ttotal: 4.19s\tremaining: 8.95s\n",
      "319:\tlearn: 0.4276907\ttotal: 4.2s\tremaining: 8.93s\n",
      "320:\tlearn: 0.4275848\ttotal: 4.21s\tremaining: 8.92s\n",
      "321:\tlearn: 0.4274968\ttotal: 4.23s\tremaining: 8.9s\n",
      "322:\tlearn: 0.4274143\ttotal: 4.24s\tremaining: 8.88s\n",
      "323:\tlearn: 0.4273693\ttotal: 4.25s\tremaining: 8.87s\n",
      "324:\tlearn: 0.4272843\ttotal: 4.26s\tremaining: 8.85s\n",
      "325:\tlearn: 0.4272305\ttotal: 4.27s\tremaining: 8.83s\n",
      "326:\tlearn: 0.4271617\ttotal: 4.28s\tremaining: 8.82s\n",
      "327:\tlearn: 0.4270825\ttotal: 4.29s\tremaining: 8.8s\n",
      "328:\tlearn: 0.4269989\ttotal: 4.3s\tremaining: 8.78s\n",
      "329:\tlearn: 0.4268642\ttotal: 4.32s\tremaining: 8.76s\n",
      "330:\tlearn: 0.4267546\ttotal: 4.33s\tremaining: 8.75s\n"
     ]
    },
    {
     "name": "stdout",
     "output_type": "stream",
     "text": [
      "331:\tlearn: 0.4266726\ttotal: 4.34s\tremaining: 8.74s\n",
      "332:\tlearn: 0.4265855\ttotal: 4.36s\tremaining: 8.72s\n",
      "333:\tlearn: 0.4265258\ttotal: 4.37s\tremaining: 8.71s\n",
      "334:\tlearn: 0.4264139\ttotal: 4.38s\tremaining: 8.7s\n",
      "335:\tlearn: 0.4263546\ttotal: 4.4s\tremaining: 8.69s\n",
      "336:\tlearn: 0.4263350\ttotal: 4.41s\tremaining: 8.68s\n",
      "337:\tlearn: 0.4263017\ttotal: 4.42s\tremaining: 8.66s\n",
      "338:\tlearn: 0.4262282\ttotal: 4.43s\tremaining: 8.65s\n",
      "339:\tlearn: 0.4261431\ttotal: 4.45s\tremaining: 8.63s\n",
      "340:\tlearn: 0.4260391\ttotal: 4.46s\tremaining: 8.62s\n",
      "341:\tlearn: 0.4259103\ttotal: 4.47s\tremaining: 8.61s\n",
      "342:\tlearn: 0.4258510\ttotal: 4.49s\tremaining: 8.6s\n",
      "343:\tlearn: 0.4257733\ttotal: 4.5s\tremaining: 8.58s\n",
      "344:\tlearn: 0.4257691\ttotal: 4.51s\tremaining: 8.56s\n",
      "345:\tlearn: 0.4257195\ttotal: 4.53s\tremaining: 8.55s\n",
      "346:\tlearn: 0.4256634\ttotal: 4.54s\tremaining: 8.54s\n",
      "347:\tlearn: 0.4255646\ttotal: 4.55s\tremaining: 8.53s\n",
      "348:\tlearn: 0.4254906\ttotal: 4.57s\tremaining: 8.53s\n",
      "349:\tlearn: 0.4254069\ttotal: 4.59s\tremaining: 8.52s\n",
      "350:\tlearn: 0.4253153\ttotal: 4.61s\tremaining: 8.51s\n",
      "351:\tlearn: 0.4252724\ttotal: 4.62s\tremaining: 8.5s\n",
      "352:\tlearn: 0.4251887\ttotal: 4.63s\tremaining: 8.49s\n",
      "353:\tlearn: 0.4251328\ttotal: 4.65s\tremaining: 8.48s\n",
      "354:\tlearn: 0.4250717\ttotal: 4.66s\tremaining: 8.46s\n",
      "355:\tlearn: 0.4249872\ttotal: 4.67s\tremaining: 8.45s\n",
      "356:\tlearn: 0.4249087\ttotal: 4.69s\tremaining: 8.44s\n",
      "357:\tlearn: 0.4248685\ttotal: 4.7s\tremaining: 8.43s\n",
      "358:\tlearn: 0.4248008\ttotal: 4.72s\tremaining: 8.42s\n",
      "359:\tlearn: 0.4247886\ttotal: 4.73s\tremaining: 8.41s\n",
      "360:\tlearn: 0.4247850\ttotal: 4.74s\tremaining: 8.39s\n",
      "361:\tlearn: 0.4247417\ttotal: 4.75s\tremaining: 8.38s\n",
      "362:\tlearn: 0.4246770\ttotal: 4.77s\tremaining: 8.37s\n",
      "363:\tlearn: 0.4245690\ttotal: 4.78s\tremaining: 8.35s\n",
      "364:\tlearn: 0.4244781\ttotal: 4.79s\tremaining: 8.34s\n",
      "365:\tlearn: 0.4244295\ttotal: 4.81s\tremaining: 8.33s\n",
      "366:\tlearn: 0.4243690\ttotal: 4.82s\tremaining: 8.31s\n",
      "367:\tlearn: 0.4242391\ttotal: 4.83s\tremaining: 8.3s\n",
      "368:\tlearn: 0.4241517\ttotal: 4.84s\tremaining: 8.29s\n",
      "369:\tlearn: 0.4240234\ttotal: 4.86s\tremaining: 8.27s\n",
      "370:\tlearn: 0.4239917\ttotal: 4.87s\tremaining: 8.26s\n",
      "371:\tlearn: 0.4239463\ttotal: 4.88s\tremaining: 8.24s\n",
      "372:\tlearn: 0.4238725\ttotal: 4.9s\tremaining: 8.23s\n",
      "373:\tlearn: 0.4238141\ttotal: 4.91s\tremaining: 8.22s\n",
      "374:\tlearn: 0.4237609\ttotal: 4.92s\tremaining: 8.21s\n",
      "375:\tlearn: 0.4236837\ttotal: 4.94s\tremaining: 8.19s\n",
      "376:\tlearn: 0.4236297\ttotal: 4.95s\tremaining: 8.18s\n",
      "377:\tlearn: 0.4235193\ttotal: 4.96s\tremaining: 8.17s\n",
      "378:\tlearn: 0.4234635\ttotal: 4.98s\tremaining: 8.16s\n",
      "379:\tlearn: 0.4233711\ttotal: 4.99s\tremaining: 8.14s\n",
      "380:\tlearn: 0.4233069\ttotal: 5s\tremaining: 8.13s\n",
      "381:\tlearn: 0.4232247\ttotal: 5.02s\tremaining: 8.12s\n",
      "382:\tlearn: 0.4231386\ttotal: 5.03s\tremaining: 8.1s\n",
      "383:\tlearn: 0.4230826\ttotal: 5.04s\tremaining: 8.09s\n",
      "384:\tlearn: 0.4230566\ttotal: 5.05s\tremaining: 8.07s\n",
      "385:\tlearn: 0.4229725\ttotal: 5.07s\tremaining: 8.06s\n",
      "386:\tlearn: 0.4229459\ttotal: 5.08s\tremaining: 8.04s\n",
      "387:\tlearn: 0.4228596\ttotal: 5.09s\tremaining: 8.04s\n",
      "388:\tlearn: 0.4228135\ttotal: 5.11s\tremaining: 8.02s\n",
      "389:\tlearn: 0.4226878\ttotal: 5.12s\tremaining: 8s\n",
      "390:\tlearn: 0.4226168\ttotal: 5.13s\tremaining: 7.99s\n",
      "391:\tlearn: 0.4225096\ttotal: 5.14s\tremaining: 7.97s\n",
      "392:\tlearn: 0.4224608\ttotal: 5.15s\tremaining: 7.95s\n",
      "393:\tlearn: 0.4223760\ttotal: 5.16s\tremaining: 7.94s\n",
      "394:\tlearn: 0.4223077\ttotal: 5.17s\tremaining: 7.92s\n",
      "395:\tlearn: 0.4223054\ttotal: 5.18s\tremaining: 7.9s\n",
      "396:\tlearn: 0.4222575\ttotal: 5.19s\tremaining: 7.89s\n",
      "397:\tlearn: 0.4221840\ttotal: 5.2s\tremaining: 7.87s\n",
      "398:\tlearn: 0.4221413\ttotal: 5.21s\tremaining: 7.85s\n",
      "399:\tlearn: 0.4220663\ttotal: 5.22s\tremaining: 7.84s\n",
      "400:\tlearn: 0.4219891\ttotal: 5.24s\tremaining: 7.82s\n",
      "401:\tlearn: 0.4218899\ttotal: 5.25s\tremaining: 7.81s\n",
      "402:\tlearn: 0.4218401\ttotal: 5.26s\tremaining: 7.79s\n",
      "403:\tlearn: 0.4217902\ttotal: 5.27s\tremaining: 7.78s\n",
      "404:\tlearn: 0.4217046\ttotal: 5.28s\tremaining: 7.76s\n",
      "405:\tlearn: 0.4215820\ttotal: 5.29s\tremaining: 7.75s\n",
      "406:\tlearn: 0.4215110\ttotal: 5.3s\tremaining: 7.73s\n",
      "407:\tlearn: 0.4214216\ttotal: 5.32s\tremaining: 7.71s\n",
      "408:\tlearn: 0.4213200\ttotal: 5.33s\tremaining: 7.7s\n",
      "409:\tlearn: 0.4212351\ttotal: 5.34s\tremaining: 7.68s\n",
      "410:\tlearn: 0.4211416\ttotal: 5.35s\tremaining: 7.67s\n",
      "411:\tlearn: 0.4210509\ttotal: 5.36s\tremaining: 7.65s\n",
      "412:\tlearn: 0.4209565\ttotal: 5.37s\tremaining: 7.64s\n",
      "413:\tlearn: 0.4208951\ttotal: 5.38s\tremaining: 7.62s\n",
      "414:\tlearn: 0.4207877\ttotal: 5.4s\tremaining: 7.61s\n",
      "415:\tlearn: 0.4206849\ttotal: 5.41s\tremaining: 7.59s\n",
      "416:\tlearn: 0.4206070\ttotal: 5.42s\tremaining: 7.58s\n",
      "417:\tlearn: 0.4205454\ttotal: 5.43s\tremaining: 7.56s\n",
      "418:\tlearn: 0.4204551\ttotal: 5.44s\tremaining: 7.55s\n",
      "419:\tlearn: 0.4203411\ttotal: 5.45s\tremaining: 7.53s\n",
      "420:\tlearn: 0.4202853\ttotal: 5.46s\tremaining: 7.52s\n",
      "421:\tlearn: 0.4201925\ttotal: 5.47s\tremaining: 7.5s\n",
      "422:\tlearn: 0.4201133\ttotal: 5.49s\tremaining: 7.48s\n",
      "423:\tlearn: 0.4200628\ttotal: 5.5s\tremaining: 7.47s\n",
      "424:\tlearn: 0.4199601\ttotal: 5.51s\tremaining: 7.45s\n",
      "425:\tlearn: 0.4198826\ttotal: 5.52s\tremaining: 7.44s\n",
      "426:\tlearn: 0.4198469\ttotal: 5.53s\tremaining: 7.42s\n",
      "427:\tlearn: 0.4198443\ttotal: 5.54s\tremaining: 7.41s\n",
      "428:\tlearn: 0.4197797\ttotal: 5.55s\tremaining: 7.39s\n",
      "429:\tlearn: 0.4196879\ttotal: 5.56s\tremaining: 7.38s\n",
      "430:\tlearn: 0.4196149\ttotal: 5.58s\tremaining: 7.36s\n",
      "431:\tlearn: 0.4195542\ttotal: 5.59s\tremaining: 7.34s\n",
      "432:\tlearn: 0.4195518\ttotal: 5.6s\tremaining: 7.33s\n",
      "433:\tlearn: 0.4194523\ttotal: 5.61s\tremaining: 7.32s\n",
      "434:\tlearn: 0.4194109\ttotal: 5.62s\tremaining: 7.3s\n",
      "435:\tlearn: 0.4193115\ttotal: 5.63s\tremaining: 7.29s\n",
      "436:\tlearn: 0.4192824\ttotal: 5.64s\tremaining: 7.27s\n",
      "437:\tlearn: 0.4192354\ttotal: 5.66s\tremaining: 7.26s\n",
      "438:\tlearn: 0.4191455\ttotal: 5.67s\tremaining: 7.24s\n",
      "439:\tlearn: 0.4190668\ttotal: 5.68s\tremaining: 7.23s\n",
      "440:\tlearn: 0.4190179\ttotal: 5.69s\tremaining: 7.21s\n",
      "441:\tlearn: 0.4189663\ttotal: 5.7s\tremaining: 7.2s\n",
      "442:\tlearn: 0.4188847\ttotal: 5.71s\tremaining: 7.18s\n",
      "443:\tlearn: 0.4188051\ttotal: 5.72s\tremaining: 7.17s\n",
      "444:\tlearn: 0.4187443\ttotal: 5.74s\tremaining: 7.15s\n",
      "445:\tlearn: 0.4186716\ttotal: 5.75s\tremaining: 7.14s\n",
      "446:\tlearn: 0.4186323\ttotal: 5.76s\tremaining: 7.12s\n",
      "447:\tlearn: 0.4185660\ttotal: 5.77s\tremaining: 7.11s\n",
      "448:\tlearn: 0.4185191\ttotal: 5.78s\tremaining: 7.09s\n",
      "449:\tlearn: 0.4184736\ttotal: 5.79s\tremaining: 7.08s\n",
      "450:\tlearn: 0.4184039\ttotal: 5.8s\tremaining: 7.07s\n",
      "451:\tlearn: 0.4183293\ttotal: 5.82s\tremaining: 7.05s\n",
      "452:\tlearn: 0.4182723\ttotal: 5.83s\tremaining: 7.04s\n",
      "453:\tlearn: 0.4181770\ttotal: 5.84s\tremaining: 7.02s\n",
      "454:\tlearn: 0.4181253\ttotal: 5.85s\tremaining: 7.01s\n",
      "455:\tlearn: 0.4180548\ttotal: 5.86s\tremaining: 6.99s\n",
      "456:\tlearn: 0.4180006\ttotal: 5.87s\tremaining: 6.98s\n",
      "457:\tlearn: 0.4179396\ttotal: 5.88s\tremaining: 6.96s\n",
      "458:\tlearn: 0.4178627\ttotal: 5.89s\tremaining: 6.95s\n",
      "459:\tlearn: 0.4178559\ttotal: 5.9s\tremaining: 6.93s\n",
      "460:\tlearn: 0.4177788\ttotal: 5.92s\tremaining: 6.92s\n",
      "461:\tlearn: 0.4176569\ttotal: 5.93s\tremaining: 6.9s\n",
      "462:\tlearn: 0.4175914\ttotal: 5.94s\tremaining: 6.89s\n",
      "463:\tlearn: 0.4175456\ttotal: 5.95s\tremaining: 6.87s\n",
      "464:\tlearn: 0.4174859\ttotal: 5.96s\tremaining: 6.86s\n",
      "465:\tlearn: 0.4174147\ttotal: 5.98s\tremaining: 6.85s\n",
      "466:\tlearn: 0.4173340\ttotal: 5.99s\tremaining: 6.84s\n",
      "467:\tlearn: 0.4172766\ttotal: 6s\tremaining: 6.82s\n",
      "468:\tlearn: 0.4172102\ttotal: 6.01s\tremaining: 6.81s\n",
      "469:\tlearn: 0.4171382\ttotal: 6.03s\tremaining: 6.79s\n",
      "470:\tlearn: 0.4170461\ttotal: 6.04s\tremaining: 6.78s\n",
      "471:\tlearn: 0.4169721\ttotal: 6.05s\tremaining: 6.77s\n",
      "472:\tlearn: 0.4168908\ttotal: 6.06s\tremaining: 6.75s\n",
      "473:\tlearn: 0.4168274\ttotal: 6.07s\tremaining: 6.74s\n",
      "474:\tlearn: 0.4167242\ttotal: 6.08s\tremaining: 6.72s\n",
      "475:\tlearn: 0.4166498\ttotal: 6.09s\tremaining: 6.71s\n",
      "476:\tlearn: 0.4165665\ttotal: 6.11s\tremaining: 6.7s\n",
      "477:\tlearn: 0.4165013\ttotal: 6.12s\tremaining: 6.68s\n",
      "478:\tlearn: 0.4164238\ttotal: 6.13s\tremaining: 6.67s\n",
      "479:\tlearn: 0.4163236\ttotal: 6.14s\tremaining: 6.66s\n",
      "480:\tlearn: 0.4163220\ttotal: 6.15s\tremaining: 6.64s\n",
      "481:\tlearn: 0.4163040\ttotal: 6.17s\tremaining: 6.63s\n",
      "482:\tlearn: 0.4162523\ttotal: 6.18s\tremaining: 6.61s\n",
      "483:\tlearn: 0.4162059\ttotal: 6.19s\tremaining: 6.6s\n",
      "484:\tlearn: 0.4161248\ttotal: 6.2s\tremaining: 6.58s\n",
      "485:\tlearn: 0.4160953\ttotal: 6.21s\tremaining: 6.57s\n",
      "486:\tlearn: 0.4160209\ttotal: 6.22s\tremaining: 6.56s\n",
      "487:\tlearn: 0.4160061\ttotal: 6.24s\tremaining: 6.54s\n",
      "488:\tlearn: 0.4159545\ttotal: 6.25s\tremaining: 6.53s\n",
      "489:\tlearn: 0.4158634\ttotal: 6.26s\tremaining: 6.51s\n",
      "490:\tlearn: 0.4157878\ttotal: 6.27s\tremaining: 6.5s\n",
      "491:\tlearn: 0.4157363\ttotal: 6.28s\tremaining: 6.49s\n",
      "492:\tlearn: 0.4156604\ttotal: 6.29s\tremaining: 6.47s\n",
      "493:\tlearn: 0.4155694\ttotal: 6.3s\tremaining: 6.46s\n",
      "494:\tlearn: 0.4154757\ttotal: 6.32s\tremaining: 6.44s\n"
     ]
    },
    {
     "name": "stdout",
     "output_type": "stream",
     "text": [
      "495:\tlearn: 0.4154746\ttotal: 6.33s\tremaining: 6.43s\n",
      "496:\tlearn: 0.4153656\ttotal: 6.34s\tremaining: 6.42s\n",
      "497:\tlearn: 0.4153310\ttotal: 6.36s\tremaining: 6.41s\n",
      "498:\tlearn: 0.4152624\ttotal: 6.37s\tremaining: 6.4s\n",
      "499:\tlearn: 0.4152029\ttotal: 6.38s\tremaining: 6.38s\n",
      "500:\tlearn: 0.4150592\ttotal: 6.39s\tremaining: 6.37s\n",
      "501:\tlearn: 0.4150036\ttotal: 6.41s\tremaining: 6.35s\n",
      "502:\tlearn: 0.4149144\ttotal: 6.42s\tremaining: 6.34s\n",
      "503:\tlearn: 0.4148229\ttotal: 6.43s\tremaining: 6.33s\n",
      "504:\tlearn: 0.4147489\ttotal: 6.44s\tremaining: 6.31s\n",
      "505:\tlearn: 0.4146825\ttotal: 6.45s\tremaining: 6.3s\n",
      "506:\tlearn: 0.4146093\ttotal: 6.46s\tremaining: 6.28s\n",
      "507:\tlearn: 0.4145404\ttotal: 6.47s\tremaining: 6.27s\n",
      "508:\tlearn: 0.4144611\ttotal: 6.49s\tremaining: 6.26s\n",
      "509:\tlearn: 0.4144029\ttotal: 6.5s\tremaining: 6.24s\n",
      "510:\tlearn: 0.4143349\ttotal: 6.51s\tremaining: 6.23s\n",
      "511:\tlearn: 0.4142832\ttotal: 6.52s\tremaining: 6.22s\n",
      "512:\tlearn: 0.4141753\ttotal: 6.53s\tremaining: 6.2s\n",
      "513:\tlearn: 0.4140656\ttotal: 6.54s\tremaining: 6.19s\n",
      "514:\tlearn: 0.4139929\ttotal: 6.56s\tremaining: 6.17s\n",
      "515:\tlearn: 0.4139113\ttotal: 6.57s\tremaining: 6.16s\n",
      "516:\tlearn: 0.4138284\ttotal: 6.58s\tremaining: 6.15s\n",
      "517:\tlearn: 0.4137918\ttotal: 6.59s\tremaining: 6.13s\n",
      "518:\tlearn: 0.4137337\ttotal: 6.6s\tremaining: 6.12s\n",
      "519:\tlearn: 0.4136718\ttotal: 6.61s\tremaining: 6.11s\n",
      "520:\tlearn: 0.4135974\ttotal: 6.62s\tremaining: 6.09s\n",
      "521:\tlearn: 0.4135268\ttotal: 6.64s\tremaining: 6.08s\n",
      "522:\tlearn: 0.4134619\ttotal: 6.65s\tremaining: 6.06s\n",
      "523:\tlearn: 0.4134062\ttotal: 6.66s\tremaining: 6.05s\n",
      "524:\tlearn: 0.4133178\ttotal: 6.67s\tremaining: 6.04s\n",
      "525:\tlearn: 0.4132860\ttotal: 6.68s\tremaining: 6.02s\n",
      "526:\tlearn: 0.4132153\ttotal: 6.69s\tremaining: 6.01s\n",
      "527:\tlearn: 0.4131844\ttotal: 6.71s\tremaining: 6s\n",
      "528:\tlearn: 0.4131234\ttotal: 6.72s\tremaining: 5.98s\n",
      "529:\tlearn: 0.4130471\ttotal: 6.73s\tremaining: 5.97s\n",
      "530:\tlearn: 0.4129857\ttotal: 6.74s\tremaining: 5.96s\n",
      "531:\tlearn: 0.4129258\ttotal: 6.75s\tremaining: 5.94s\n",
      "532:\tlearn: 0.4128972\ttotal: 6.76s\tremaining: 5.93s\n",
      "533:\tlearn: 0.4128516\ttotal: 6.78s\tremaining: 5.91s\n",
      "534:\tlearn: 0.4128502\ttotal: 6.79s\tremaining: 5.91s\n",
      "535:\tlearn: 0.4127653\ttotal: 6.81s\tremaining: 5.89s\n",
      "536:\tlearn: 0.4127050\ttotal: 6.82s\tremaining: 5.88s\n",
      "537:\tlearn: 0.4125834\ttotal: 6.83s\tremaining: 5.86s\n",
      "538:\tlearn: 0.4125358\ttotal: 6.84s\tremaining: 5.85s\n",
      "539:\tlearn: 0.4124293\ttotal: 6.85s\tremaining: 5.84s\n",
      "540:\tlearn: 0.4124280\ttotal: 6.86s\tremaining: 5.82s\n",
      "541:\tlearn: 0.4123397\ttotal: 6.88s\tremaining: 5.81s\n",
      "542:\tlearn: 0.4122755\ttotal: 6.89s\tremaining: 5.8s\n",
      "543:\tlearn: 0.4122184\ttotal: 6.9s\tremaining: 5.78s\n",
      "544:\tlearn: 0.4121332\ttotal: 6.91s\tremaining: 5.77s\n",
      "545:\tlearn: 0.4120768\ttotal: 6.92s\tremaining: 5.76s\n",
      "546:\tlearn: 0.4120572\ttotal: 6.93s\tremaining: 5.74s\n",
      "547:\tlearn: 0.4119647\ttotal: 6.95s\tremaining: 5.73s\n",
      "548:\tlearn: 0.4118799\ttotal: 6.96s\tremaining: 5.71s\n",
      "549:\tlearn: 0.4118377\ttotal: 6.97s\tremaining: 5.7s\n",
      "550:\tlearn: 0.4117945\ttotal: 6.98s\tremaining: 5.69s\n",
      "551:\tlearn: 0.4117522\ttotal: 7s\tremaining: 5.68s\n",
      "552:\tlearn: 0.4116491\ttotal: 7.01s\tremaining: 5.67s\n",
      "553:\tlearn: 0.4116071\ttotal: 7.02s\tremaining: 5.66s\n",
      "554:\tlearn: 0.4115628\ttotal: 7.04s\tremaining: 5.64s\n",
      "555:\tlearn: 0.4115286\ttotal: 7.05s\tremaining: 5.63s\n",
      "556:\tlearn: 0.4114887\ttotal: 7.06s\tremaining: 5.61s\n",
      "557:\tlearn: 0.4114250\ttotal: 7.07s\tremaining: 5.6s\n",
      "558:\tlearn: 0.4113903\ttotal: 7.08s\tremaining: 5.59s\n",
      "559:\tlearn: 0.4113483\ttotal: 7.09s\tremaining: 5.57s\n",
      "560:\tlearn: 0.4113142\ttotal: 7.1s\tremaining: 5.56s\n",
      "561:\tlearn: 0.4112682\ttotal: 7.12s\tremaining: 5.54s\n",
      "562:\tlearn: 0.4111936\ttotal: 7.13s\tremaining: 5.53s\n",
      "563:\tlearn: 0.4111115\ttotal: 7.14s\tremaining: 5.52s\n",
      "564:\tlearn: 0.4110663\ttotal: 7.15s\tremaining: 5.5s\n",
      "565:\tlearn: 0.4109789\ttotal: 7.16s\tremaining: 5.49s\n",
      "566:\tlearn: 0.4109158\ttotal: 7.17s\tremaining: 5.47s\n",
      "567:\tlearn: 0.4108387\ttotal: 7.18s\tremaining: 5.46s\n",
      "568:\tlearn: 0.4107438\ttotal: 7.19s\tremaining: 5.45s\n",
      "569:\tlearn: 0.4106771\ttotal: 7.2s\tremaining: 5.43s\n",
      "570:\tlearn: 0.4106078\ttotal: 7.21s\tremaining: 5.42s\n",
      "571:\tlearn: 0.4105447\ttotal: 7.22s\tremaining: 5.41s\n",
      "572:\tlearn: 0.4104532\ttotal: 7.24s\tremaining: 5.39s\n",
      "573:\tlearn: 0.4103539\ttotal: 7.25s\tremaining: 5.38s\n",
      "574:\tlearn: 0.4103084\ttotal: 7.26s\tremaining: 5.37s\n",
      "575:\tlearn: 0.4102544\ttotal: 7.27s\tremaining: 5.35s\n",
      "576:\tlearn: 0.4101528\ttotal: 7.28s\tremaining: 5.34s\n",
      "577:\tlearn: 0.4100885\ttotal: 7.29s\tremaining: 5.32s\n",
      "578:\tlearn: 0.4100191\ttotal: 7.3s\tremaining: 5.31s\n",
      "579:\tlearn: 0.4099323\ttotal: 7.31s\tremaining: 5.3s\n",
      "580:\tlearn: 0.4098817\ttotal: 7.33s\tremaining: 5.28s\n",
      "581:\tlearn: 0.4097714\ttotal: 7.34s\tremaining: 5.27s\n",
      "582:\tlearn: 0.4096912\ttotal: 7.35s\tremaining: 5.25s\n",
      "583:\tlearn: 0.4096273\ttotal: 7.36s\tremaining: 5.24s\n",
      "584:\tlearn: 0.4095528\ttotal: 7.37s\tremaining: 5.23s\n",
      "585:\tlearn: 0.4094835\ttotal: 7.38s\tremaining: 5.21s\n",
      "586:\tlearn: 0.4094267\ttotal: 7.39s\tremaining: 5.2s\n",
      "587:\tlearn: 0.4093728\ttotal: 7.4s\tremaining: 5.19s\n",
      "588:\tlearn: 0.4093403\ttotal: 7.42s\tremaining: 5.17s\n",
      "589:\tlearn: 0.4092893\ttotal: 7.43s\tremaining: 5.16s\n",
      "590:\tlearn: 0.4092271\ttotal: 7.44s\tremaining: 5.15s\n",
      "591:\tlearn: 0.4091934\ttotal: 7.45s\tremaining: 5.13s\n",
      "592:\tlearn: 0.4091196\ttotal: 7.46s\tremaining: 5.12s\n",
      "593:\tlearn: 0.4090505\ttotal: 7.47s\tremaining: 5.11s\n",
      "594:\tlearn: 0.4090024\ttotal: 7.48s\tremaining: 5.09s\n",
      "595:\tlearn: 0.4089389\ttotal: 7.49s\tremaining: 5.08s\n",
      "596:\tlearn: 0.4088542\ttotal: 7.5s\tremaining: 5.07s\n",
      "597:\tlearn: 0.4087390\ttotal: 7.52s\tremaining: 5.05s\n",
      "598:\tlearn: 0.4086801\ttotal: 7.53s\tremaining: 5.04s\n",
      "599:\tlearn: 0.4086339\ttotal: 7.54s\tremaining: 5.03s\n",
      "600:\tlearn: 0.4085921\ttotal: 7.56s\tremaining: 5.02s\n",
      "601:\tlearn: 0.4085564\ttotal: 7.57s\tremaining: 5s\n",
      "602:\tlearn: 0.4084794\ttotal: 7.58s\tremaining: 4.99s\n",
      "603:\tlearn: 0.4084243\ttotal: 7.59s\tremaining: 4.98s\n",
      "604:\tlearn: 0.4083142\ttotal: 7.61s\tremaining: 4.96s\n",
      "605:\tlearn: 0.4082456\ttotal: 7.62s\tremaining: 4.95s\n",
      "606:\tlearn: 0.4081656\ttotal: 7.63s\tremaining: 4.94s\n",
      "607:\tlearn: 0.4081154\ttotal: 7.64s\tremaining: 4.93s\n",
      "608:\tlearn: 0.4080701\ttotal: 7.65s\tremaining: 4.91s\n",
      "609:\tlearn: 0.4079584\ttotal: 7.66s\tremaining: 4.9s\n",
      "610:\tlearn: 0.4078897\ttotal: 7.67s\tremaining: 4.88s\n",
      "611:\tlearn: 0.4078456\ttotal: 7.68s\tremaining: 4.87s\n",
      "612:\tlearn: 0.4077717\ttotal: 7.7s\tremaining: 4.86s\n",
      "613:\tlearn: 0.4077080\ttotal: 7.71s\tremaining: 4.85s\n",
      "614:\tlearn: 0.4076571\ttotal: 7.72s\tremaining: 4.83s\n",
      "615:\tlearn: 0.4075525\ttotal: 7.73s\tremaining: 4.82s\n",
      "616:\tlearn: 0.4074592\ttotal: 7.74s\tremaining: 4.81s\n",
      "617:\tlearn: 0.4073463\ttotal: 7.76s\tremaining: 4.79s\n",
      "618:\tlearn: 0.4072528\ttotal: 7.77s\tremaining: 4.78s\n",
      "619:\tlearn: 0.4071674\ttotal: 7.78s\tremaining: 4.77s\n",
      "620:\tlearn: 0.4071149\ttotal: 7.79s\tremaining: 4.76s\n",
      "621:\tlearn: 0.4070737\ttotal: 7.8s\tremaining: 4.74s\n",
      "622:\tlearn: 0.4070483\ttotal: 7.82s\tremaining: 4.73s\n",
      "623:\tlearn: 0.4069612\ttotal: 7.83s\tremaining: 4.72s\n",
      "624:\tlearn: 0.4069184\ttotal: 7.84s\tremaining: 4.7s\n",
      "625:\tlearn: 0.4068787\ttotal: 7.85s\tremaining: 4.69s\n",
      "626:\tlearn: 0.4068262\ttotal: 7.86s\tremaining: 4.67s\n",
      "627:\tlearn: 0.4067867\ttotal: 7.87s\tremaining: 4.66s\n",
      "628:\tlearn: 0.4066993\ttotal: 7.88s\tremaining: 4.65s\n",
      "629:\tlearn: 0.4066143\ttotal: 7.89s\tremaining: 4.64s\n",
      "630:\tlearn: 0.4065675\ttotal: 7.91s\tremaining: 4.62s\n",
      "631:\tlearn: 0.4065442\ttotal: 7.92s\tremaining: 4.61s\n",
      "632:\tlearn: 0.4065053\ttotal: 7.93s\tremaining: 4.6s\n",
      "633:\tlearn: 0.4064417\ttotal: 7.94s\tremaining: 4.58s\n",
      "634:\tlearn: 0.4063672\ttotal: 7.95s\tremaining: 4.57s\n",
      "635:\tlearn: 0.4063391\ttotal: 7.97s\tremaining: 4.56s\n",
      "636:\tlearn: 0.4062965\ttotal: 7.98s\tremaining: 4.55s\n",
      "637:\tlearn: 0.4062407\ttotal: 7.99s\tremaining: 4.53s\n",
      "638:\tlearn: 0.4061953\ttotal: 8s\tremaining: 4.52s\n",
      "639:\tlearn: 0.4061422\ttotal: 8.01s\tremaining: 4.51s\n",
      "640:\tlearn: 0.4060483\ttotal: 8.02s\tremaining: 4.49s\n",
      "641:\tlearn: 0.4059876\ttotal: 8.04s\tremaining: 4.48s\n",
      "642:\tlearn: 0.4059180\ttotal: 8.05s\tremaining: 4.47s\n",
      "643:\tlearn: 0.4058753\ttotal: 8.06s\tremaining: 4.45s\n",
      "644:\tlearn: 0.4058742\ttotal: 8.07s\tremaining: 4.44s\n",
      "645:\tlearn: 0.4058106\ttotal: 8.08s\tremaining: 4.43s\n",
      "646:\tlearn: 0.4057020\ttotal: 8.09s\tremaining: 4.41s\n",
      "647:\tlearn: 0.4056404\ttotal: 8.1s\tremaining: 4.4s\n",
      "648:\tlearn: 0.4055883\ttotal: 8.11s\tremaining: 4.39s\n",
      "649:\tlearn: 0.4055720\ttotal: 8.13s\tremaining: 4.38s\n",
      "650:\tlearn: 0.4054596\ttotal: 8.14s\tremaining: 4.36s\n",
      "651:\tlearn: 0.4053522\ttotal: 8.15s\tremaining: 4.35s\n",
      "652:\tlearn: 0.4053328\ttotal: 8.16s\tremaining: 4.34s\n",
      "653:\tlearn: 0.4052964\ttotal: 8.17s\tremaining: 4.32s\n",
      "654:\tlearn: 0.4052106\ttotal: 8.18s\tremaining: 4.31s\n",
      "655:\tlearn: 0.4052093\ttotal: 8.19s\tremaining: 4.3s\n",
      "656:\tlearn: 0.4051282\ttotal: 8.21s\tremaining: 4.28s\n",
      "657:\tlearn: 0.4050737\ttotal: 8.21s\tremaining: 4.27s\n",
      "658:\tlearn: 0.4050098\ttotal: 8.24s\tremaining: 4.26s\n",
      "659:\tlearn: 0.4049710\ttotal: 8.25s\tremaining: 4.25s\n",
      "660:\tlearn: 0.4048760\ttotal: 8.26s\tremaining: 4.24s\n",
      "661:\tlearn: 0.4048258\ttotal: 8.27s\tremaining: 4.22s\n",
      "662:\tlearn: 0.4048018\ttotal: 8.28s\tremaining: 4.21s\n",
      "663:\tlearn: 0.4047442\ttotal: 8.29s\tremaining: 4.2s\n",
      "664:\tlearn: 0.4046936\ttotal: 8.3s\tremaining: 4.18s\n"
     ]
    },
    {
     "name": "stdout",
     "output_type": "stream",
     "text": [
      "665:\tlearn: 0.4046125\ttotal: 8.32s\tremaining: 4.17s\n",
      "666:\tlearn: 0.4045522\ttotal: 8.33s\tremaining: 4.16s\n",
      "667:\tlearn: 0.4044981\ttotal: 8.35s\tremaining: 4.15s\n",
      "668:\tlearn: 0.4044236\ttotal: 8.36s\tremaining: 4.13s\n",
      "669:\tlearn: 0.4043334\ttotal: 8.37s\tremaining: 4.12s\n",
      "670:\tlearn: 0.4042475\ttotal: 8.38s\tremaining: 4.11s\n",
      "671:\tlearn: 0.4042194\ttotal: 8.39s\tremaining: 4.1s\n",
      "672:\tlearn: 0.4041701\ttotal: 8.4s\tremaining: 4.08s\n",
      "673:\tlearn: 0.4041113\ttotal: 8.41s\tremaining: 4.07s\n",
      "674:\tlearn: 0.4040814\ttotal: 8.43s\tremaining: 4.06s\n",
      "675:\tlearn: 0.4040130\ttotal: 8.44s\tremaining: 4.04s\n",
      "676:\tlearn: 0.4039570\ttotal: 8.45s\tremaining: 4.03s\n",
      "677:\tlearn: 0.4038749\ttotal: 8.46s\tremaining: 4.02s\n",
      "678:\tlearn: 0.4038072\ttotal: 8.47s\tremaining: 4s\n",
      "679:\tlearn: 0.4037425\ttotal: 8.48s\tremaining: 3.99s\n",
      "680:\tlearn: 0.4036800\ttotal: 8.5s\tremaining: 3.98s\n",
      "681:\tlearn: 0.4036294\ttotal: 8.51s\tremaining: 3.97s\n",
      "682:\tlearn: 0.4035727\ttotal: 8.52s\tremaining: 3.96s\n",
      "683:\tlearn: 0.4035183\ttotal: 8.53s\tremaining: 3.94s\n",
      "684:\tlearn: 0.4034604\ttotal: 8.54s\tremaining: 3.93s\n",
      "685:\tlearn: 0.4033608\ttotal: 8.56s\tremaining: 3.92s\n",
      "686:\tlearn: 0.4032828\ttotal: 8.57s\tremaining: 3.9s\n",
      "687:\tlearn: 0.4032555\ttotal: 8.58s\tremaining: 3.89s\n",
      "688:\tlearn: 0.4031537\ttotal: 8.59s\tremaining: 3.88s\n",
      "689:\tlearn: 0.4030664\ttotal: 8.6s\tremaining: 3.87s\n",
      "690:\tlearn: 0.4030183\ttotal: 8.61s\tremaining: 3.85s\n",
      "691:\tlearn: 0.4029088\ttotal: 8.63s\tremaining: 3.84s\n",
      "692:\tlearn: 0.4028770\ttotal: 8.64s\tremaining: 3.83s\n",
      "693:\tlearn: 0.4027733\ttotal: 8.65s\tremaining: 3.81s\n",
      "694:\tlearn: 0.4027501\ttotal: 8.66s\tremaining: 3.8s\n",
      "695:\tlearn: 0.4026977\ttotal: 8.68s\tremaining: 3.79s\n",
      "696:\tlearn: 0.4026574\ttotal: 8.69s\tremaining: 3.78s\n",
      "697:\tlearn: 0.4026089\ttotal: 8.7s\tremaining: 3.76s\n",
      "698:\tlearn: 0.4025370\ttotal: 8.71s\tremaining: 3.75s\n",
      "699:\tlearn: 0.4024488\ttotal: 8.72s\tremaining: 3.74s\n",
      "700:\tlearn: 0.4023960\ttotal: 8.74s\tremaining: 3.73s\n",
      "701:\tlearn: 0.4022779\ttotal: 8.75s\tremaining: 3.71s\n",
      "702:\tlearn: 0.4022489\ttotal: 8.76s\tremaining: 3.7s\n",
      "703:\tlearn: 0.4021996\ttotal: 8.77s\tremaining: 3.69s\n",
      "704:\tlearn: 0.4021463\ttotal: 8.78s\tremaining: 3.67s\n",
      "705:\tlearn: 0.4020560\ttotal: 8.79s\tremaining: 3.66s\n",
      "706:\tlearn: 0.4020044\ttotal: 8.81s\tremaining: 3.65s\n",
      "707:\tlearn: 0.4019697\ttotal: 8.82s\tremaining: 3.64s\n",
      "708:\tlearn: 0.4019375\ttotal: 8.83s\tremaining: 3.62s\n",
      "709:\tlearn: 0.4018754\ttotal: 8.84s\tremaining: 3.61s\n",
      "710:\tlearn: 0.4018169\ttotal: 8.85s\tremaining: 3.6s\n",
      "711:\tlearn: 0.4017834\ttotal: 8.87s\tremaining: 3.59s\n",
      "712:\tlearn: 0.4017123\ttotal: 8.88s\tremaining: 3.57s\n",
      "713:\tlearn: 0.4016664\ttotal: 8.89s\tremaining: 3.56s\n",
      "714:\tlearn: 0.4016070\ttotal: 8.9s\tremaining: 3.55s\n",
      "715:\tlearn: 0.4015709\ttotal: 8.91s\tremaining: 3.54s\n",
      "716:\tlearn: 0.4015205\ttotal: 8.92s\tremaining: 3.52s\n",
      "717:\tlearn: 0.4014154\ttotal: 8.93s\tremaining: 3.51s\n",
      "718:\tlearn: 0.4013737\ttotal: 8.95s\tremaining: 3.5s\n",
      "719:\tlearn: 0.4013117\ttotal: 8.96s\tremaining: 3.48s\n",
      "720:\tlearn: 0.4012489\ttotal: 8.97s\tremaining: 3.47s\n",
      "721:\tlearn: 0.4011912\ttotal: 8.98s\tremaining: 3.46s\n",
      "722:\tlearn: 0.4011148\ttotal: 9s\tremaining: 3.45s\n",
      "723:\tlearn: 0.4010473\ttotal: 9.01s\tremaining: 3.44s\n",
      "724:\tlearn: 0.4009946\ttotal: 9.02s\tremaining: 3.42s\n",
      "725:\tlearn: 0.4009928\ttotal: 9.04s\tremaining: 3.41s\n",
      "726:\tlearn: 0.4009772\ttotal: 9.05s\tremaining: 3.4s\n",
      "727:\tlearn: 0.4009024\ttotal: 9.06s\tremaining: 3.38s\n",
      "728:\tlearn: 0.4008035\ttotal: 9.07s\tremaining: 3.37s\n",
      "729:\tlearn: 0.4007584\ttotal: 9.08s\tremaining: 3.36s\n",
      "730:\tlearn: 0.4007430\ttotal: 9.09s\tremaining: 3.35s\n",
      "731:\tlearn: 0.4006484\ttotal: 9.1s\tremaining: 3.33s\n",
      "732:\tlearn: 0.4005645\ttotal: 9.12s\tremaining: 3.32s\n",
      "733:\tlearn: 0.4005067\ttotal: 9.13s\tremaining: 3.31s\n",
      "734:\tlearn: 0.4004187\ttotal: 9.14s\tremaining: 3.29s\n",
      "735:\tlearn: 0.4003127\ttotal: 9.15s\tremaining: 3.28s\n",
      "736:\tlearn: 0.4002538\ttotal: 9.16s\tremaining: 3.27s\n",
      "737:\tlearn: 0.4001630\ttotal: 9.17s\tremaining: 3.25s\n",
      "738:\tlearn: 0.4000643\ttotal: 9.18s\tremaining: 3.24s\n",
      "739:\tlearn: 0.4000328\ttotal: 9.19s\tremaining: 3.23s\n",
      "740:\tlearn: 0.3999692\ttotal: 9.2s\tremaining: 3.22s\n",
      "741:\tlearn: 0.3999211\ttotal: 9.22s\tremaining: 3.2s\n",
      "742:\tlearn: 0.3998720\ttotal: 9.23s\tremaining: 3.19s\n",
      "743:\tlearn: 0.3998246\ttotal: 9.24s\tremaining: 3.18s\n",
      "744:\tlearn: 0.3997724\ttotal: 9.25s\tremaining: 3.17s\n",
      "745:\tlearn: 0.3996728\ttotal: 9.26s\tremaining: 3.15s\n",
      "746:\tlearn: 0.3995776\ttotal: 9.27s\tremaining: 3.14s\n",
      "747:\tlearn: 0.3995097\ttotal: 9.28s\tremaining: 3.13s\n",
      "748:\tlearn: 0.3994315\ttotal: 9.29s\tremaining: 3.11s\n",
      "749:\tlearn: 0.3993771\ttotal: 9.31s\tremaining: 3.1s\n",
      "750:\tlearn: 0.3993422\ttotal: 9.32s\tremaining: 3.09s\n",
      "751:\tlearn: 0.3992801\ttotal: 9.33s\tremaining: 3.08s\n",
      "752:\tlearn: 0.3992526\ttotal: 9.34s\tremaining: 3.06s\n",
      "753:\tlearn: 0.3992026\ttotal: 9.35s\tremaining: 3.05s\n",
      "754:\tlearn: 0.3991299\ttotal: 9.36s\tremaining: 3.04s\n",
      "755:\tlearn: 0.3991014\ttotal: 9.37s\tremaining: 3.02s\n",
      "756:\tlearn: 0.3990574\ttotal: 9.4s\tremaining: 3.02s\n",
      "757:\tlearn: 0.3990359\ttotal: 9.41s\tremaining: 3s\n",
      "758:\tlearn: 0.3989665\ttotal: 9.42s\tremaining: 2.99s\n",
      "759:\tlearn: 0.3988504\ttotal: 9.43s\tremaining: 2.98s\n",
      "760:\tlearn: 0.3987902\ttotal: 9.44s\tremaining: 2.97s\n",
      "761:\tlearn: 0.3987217\ttotal: 9.46s\tremaining: 2.95s\n",
      "762:\tlearn: 0.3986726\ttotal: 9.47s\tremaining: 2.94s\n",
      "763:\tlearn: 0.3986095\ttotal: 9.48s\tremaining: 2.93s\n",
      "764:\tlearn: 0.3985449\ttotal: 9.49s\tremaining: 2.92s\n",
      "765:\tlearn: 0.3984671\ttotal: 9.5s\tremaining: 2.9s\n",
      "766:\tlearn: 0.3984037\ttotal: 9.51s\tremaining: 2.89s\n",
      "767:\tlearn: 0.3983707\ttotal: 9.52s\tremaining: 2.88s\n",
      "768:\tlearn: 0.3983170\ttotal: 9.53s\tremaining: 2.86s\n",
      "769:\tlearn: 0.3982507\ttotal: 9.55s\tremaining: 2.85s\n",
      "770:\tlearn: 0.3981999\ttotal: 9.56s\tremaining: 2.84s\n",
      "771:\tlearn: 0.3981573\ttotal: 9.57s\tremaining: 2.83s\n",
      "772:\tlearn: 0.3981000\ttotal: 9.58s\tremaining: 2.81s\n",
      "773:\tlearn: 0.3980386\ttotal: 9.59s\tremaining: 2.8s\n",
      "774:\tlearn: 0.3980030\ttotal: 9.61s\tremaining: 2.79s\n",
      "775:\tlearn: 0.3979542\ttotal: 9.62s\tremaining: 2.78s\n",
      "776:\tlearn: 0.3979073\ttotal: 9.63s\tremaining: 2.76s\n",
      "777:\tlearn: 0.3978528\ttotal: 9.64s\tremaining: 2.75s\n",
      "778:\tlearn: 0.3978010\ttotal: 9.65s\tremaining: 2.74s\n",
      "779:\tlearn: 0.3977430\ttotal: 9.66s\tremaining: 2.73s\n",
      "780:\tlearn: 0.3977009\ttotal: 9.67s\tremaining: 2.71s\n",
      "781:\tlearn: 0.3976647\ttotal: 9.68s\tremaining: 2.7s\n",
      "782:\tlearn: 0.3975990\ttotal: 9.7s\tremaining: 2.69s\n",
      "783:\tlearn: 0.3975066\ttotal: 9.71s\tremaining: 2.67s\n",
      "784:\tlearn: 0.3974679\ttotal: 9.72s\tremaining: 2.66s\n",
      "785:\tlearn: 0.3974230\ttotal: 9.73s\tremaining: 2.65s\n",
      "786:\tlearn: 0.3973504\ttotal: 9.74s\tremaining: 2.64s\n",
      "787:\tlearn: 0.3972995\ttotal: 9.75s\tremaining: 2.62s\n",
      "788:\tlearn: 0.3972714\ttotal: 9.77s\tremaining: 2.61s\n",
      "789:\tlearn: 0.3972227\ttotal: 9.78s\tremaining: 2.6s\n",
      "790:\tlearn: 0.3971605\ttotal: 9.79s\tremaining: 2.59s\n",
      "791:\tlearn: 0.3971156\ttotal: 9.8s\tremaining: 2.58s\n",
      "792:\tlearn: 0.3970931\ttotal: 9.82s\tremaining: 2.56s\n",
      "793:\tlearn: 0.3970733\ttotal: 9.83s\tremaining: 2.55s\n",
      "794:\tlearn: 0.3970119\ttotal: 9.84s\tremaining: 2.54s\n",
      "795:\tlearn: 0.3969316\ttotal: 9.85s\tremaining: 2.52s\n",
      "796:\tlearn: 0.3969188\ttotal: 9.86s\tremaining: 2.51s\n",
      "797:\tlearn: 0.3968834\ttotal: 9.87s\tremaining: 2.5s\n",
      "798:\tlearn: 0.3968444\ttotal: 9.88s\tremaining: 2.49s\n",
      "799:\tlearn: 0.3967988\ttotal: 9.89s\tremaining: 2.47s\n",
      "800:\tlearn: 0.3967280\ttotal: 9.91s\tremaining: 2.46s\n",
      "801:\tlearn: 0.3966388\ttotal: 9.92s\tremaining: 2.45s\n",
      "802:\tlearn: 0.3965486\ttotal: 9.93s\tremaining: 2.44s\n",
      "803:\tlearn: 0.3965262\ttotal: 9.94s\tremaining: 2.42s\n",
      "804:\tlearn: 0.3965214\ttotal: 9.95s\tremaining: 2.41s\n",
      "805:\tlearn: 0.3964843\ttotal: 9.97s\tremaining: 2.4s\n",
      "806:\tlearn: 0.3964203\ttotal: 9.98s\tremaining: 2.39s\n",
      "807:\tlearn: 0.3963720\ttotal: 9.99s\tremaining: 2.37s\n",
      "808:\tlearn: 0.3963352\ttotal: 10s\tremaining: 2.36s\n",
      "809:\tlearn: 0.3962816\ttotal: 10s\tremaining: 2.35s\n",
      "810:\tlearn: 0.3962485\ttotal: 10s\tremaining: 2.34s\n",
      "811:\tlearn: 0.3962024\ttotal: 10s\tremaining: 2.32s\n",
      "812:\tlearn: 0.3961335\ttotal: 10.1s\tremaining: 2.31s\n",
      "813:\tlearn: 0.3960829\ttotal: 10.1s\tremaining: 2.3s\n",
      "814:\tlearn: 0.3959918\ttotal: 10.1s\tremaining: 2.29s\n",
      "815:\tlearn: 0.3959534\ttotal: 10.1s\tremaining: 2.27s\n",
      "816:\tlearn: 0.3959231\ttotal: 10.1s\tremaining: 2.26s\n",
      "817:\tlearn: 0.3958684\ttotal: 10.1s\tremaining: 2.25s\n",
      "818:\tlearn: 0.3957885\ttotal: 10.1s\tremaining: 2.24s\n",
      "819:\tlearn: 0.3957376\ttotal: 10.1s\tremaining: 2.22s\n",
      "820:\tlearn: 0.3956640\ttotal: 10.1s\tremaining: 2.21s\n",
      "821:\tlearn: 0.3956215\ttotal: 10.2s\tremaining: 2.2s\n",
      "822:\tlearn: 0.3955985\ttotal: 10.2s\tremaining: 2.19s\n",
      "823:\tlearn: 0.3955461\ttotal: 10.2s\tremaining: 2.17s\n",
      "824:\tlearn: 0.3954951\ttotal: 10.2s\tremaining: 2.16s\n",
      "825:\tlearn: 0.3954218\ttotal: 10.2s\tremaining: 2.15s\n",
      "826:\tlearn: 0.3953851\ttotal: 10.2s\tremaining: 2.14s\n",
      "827:\tlearn: 0.3953809\ttotal: 10.2s\tremaining: 2.12s\n",
      "828:\tlearn: 0.3953061\ttotal: 10.2s\tremaining: 2.11s\n",
      "829:\tlearn: 0.3952261\ttotal: 10.3s\tremaining: 2.1s\n",
      "830:\tlearn: 0.3951757\ttotal: 10.3s\tremaining: 2.09s\n",
      "831:\tlearn: 0.3951399\ttotal: 10.3s\tremaining: 2.07s\n",
      "832:\tlearn: 0.3950888\ttotal: 10.3s\tremaining: 2.06s\n",
      "833:\tlearn: 0.3950020\ttotal: 10.3s\tremaining: 2.05s\n"
     ]
    },
    {
     "name": "stdout",
     "output_type": "stream",
     "text": [
      "834:\tlearn: 0.3949429\ttotal: 10.3s\tremaining: 2.04s\n",
      "835:\tlearn: 0.3948836\ttotal: 10.3s\tremaining: 2.03s\n",
      "836:\tlearn: 0.3948400\ttotal: 10.3s\tremaining: 2.01s\n",
      "837:\tlearn: 0.3947534\ttotal: 10.4s\tremaining: 2s\n",
      "838:\tlearn: 0.3947178\ttotal: 10.4s\tremaining: 1.99s\n",
      "839:\tlearn: 0.3946917\ttotal: 10.4s\tremaining: 1.98s\n",
      "840:\tlearn: 0.3946581\ttotal: 10.4s\tremaining: 1.96s\n",
      "841:\tlearn: 0.3946096\ttotal: 10.4s\tremaining: 1.95s\n",
      "842:\tlearn: 0.3945611\ttotal: 10.4s\tremaining: 1.94s\n",
      "843:\tlearn: 0.3945244\ttotal: 10.4s\tremaining: 1.93s\n",
      "844:\tlearn: 0.3944573\ttotal: 10.4s\tremaining: 1.91s\n",
      "845:\tlearn: 0.3944241\ttotal: 10.4s\tremaining: 1.9s\n",
      "846:\tlearn: 0.3943791\ttotal: 10.5s\tremaining: 1.89s\n",
      "847:\tlearn: 0.3943243\ttotal: 10.5s\tremaining: 1.88s\n",
      "848:\tlearn: 0.3942953\ttotal: 10.5s\tremaining: 1.86s\n",
      "849:\tlearn: 0.3942563\ttotal: 10.5s\tremaining: 1.85s\n",
      "850:\tlearn: 0.3942236\ttotal: 10.5s\tremaining: 1.84s\n",
      "851:\tlearn: 0.3941602\ttotal: 10.5s\tremaining: 1.83s\n",
      "852:\tlearn: 0.3941037\ttotal: 10.5s\tremaining: 1.81s\n",
      "853:\tlearn: 0.3940778\ttotal: 10.5s\tremaining: 1.8s\n",
      "854:\tlearn: 0.3939893\ttotal: 10.5s\tremaining: 1.79s\n",
      "855:\tlearn: 0.3939255\ttotal: 10.6s\tremaining: 1.78s\n",
      "856:\tlearn: 0.3938687\ttotal: 10.6s\tremaining: 1.76s\n",
      "857:\tlearn: 0.3938123\ttotal: 10.6s\tremaining: 1.75s\n",
      "858:\tlearn: 0.3937786\ttotal: 10.6s\tremaining: 1.74s\n",
      "859:\tlearn: 0.3937208\ttotal: 10.6s\tremaining: 1.73s\n",
      "860:\tlearn: 0.3936918\ttotal: 10.6s\tremaining: 1.71s\n",
      "861:\tlearn: 0.3936485\ttotal: 10.6s\tremaining: 1.7s\n",
      "862:\tlearn: 0.3936089\ttotal: 10.6s\tremaining: 1.69s\n",
      "863:\tlearn: 0.3935723\ttotal: 10.6s\tremaining: 1.68s\n",
      "864:\tlearn: 0.3935545\ttotal: 10.7s\tremaining: 1.66s\n",
      "865:\tlearn: 0.3935221\ttotal: 10.7s\tremaining: 1.65s\n",
      "866:\tlearn: 0.3934951\ttotal: 10.7s\tremaining: 1.64s\n",
      "867:\tlearn: 0.3934595\ttotal: 10.7s\tremaining: 1.63s\n",
      "868:\tlearn: 0.3934202\ttotal: 10.7s\tremaining: 1.61s\n",
      "869:\tlearn: 0.3933679\ttotal: 10.7s\tremaining: 1.6s\n",
      "870:\tlearn: 0.3933175\ttotal: 10.7s\tremaining: 1.59s\n",
      "871:\tlearn: 0.3932762\ttotal: 10.7s\tremaining: 1.58s\n",
      "872:\tlearn: 0.3932757\ttotal: 10.7s\tremaining: 1.56s\n",
      "873:\tlearn: 0.3932026\ttotal: 10.8s\tremaining: 1.55s\n",
      "874:\tlearn: 0.3931257\ttotal: 10.8s\tremaining: 1.54s\n",
      "875:\tlearn: 0.3931035\ttotal: 10.8s\tremaining: 1.53s\n",
      "876:\tlearn: 0.3930514\ttotal: 10.8s\tremaining: 1.51s\n",
      "877:\tlearn: 0.3929963\ttotal: 10.8s\tremaining: 1.5s\n",
      "878:\tlearn: 0.3929235\ttotal: 10.8s\tremaining: 1.49s\n",
      "879:\tlearn: 0.3928549\ttotal: 10.8s\tremaining: 1.48s\n",
      "880:\tlearn: 0.3927902\ttotal: 10.8s\tremaining: 1.47s\n",
      "881:\tlearn: 0.3927390\ttotal: 10.9s\tremaining: 1.45s\n",
      "882:\tlearn: 0.3926442\ttotal: 10.9s\tremaining: 1.44s\n",
      "883:\tlearn: 0.3925958\ttotal: 10.9s\tremaining: 1.43s\n",
      "884:\tlearn: 0.3925745\ttotal: 10.9s\tremaining: 1.42s\n",
      "885:\tlearn: 0.3925139\ttotal: 10.9s\tremaining: 1.4s\n",
      "886:\tlearn: 0.3924704\ttotal: 10.9s\tremaining: 1.39s\n",
      "887:\tlearn: 0.3923944\ttotal: 10.9s\tremaining: 1.38s\n",
      "888:\tlearn: 0.3923229\ttotal: 10.9s\tremaining: 1.37s\n",
      "889:\tlearn: 0.3922187\ttotal: 11s\tremaining: 1.35s\n",
      "890:\tlearn: 0.3921730\ttotal: 11s\tremaining: 1.34s\n",
      "891:\tlearn: 0.3921091\ttotal: 11s\tremaining: 1.33s\n",
      "892:\tlearn: 0.3920631\ttotal: 11s\tremaining: 1.32s\n",
      "893:\tlearn: 0.3920064\ttotal: 11s\tremaining: 1.3s\n",
      "894:\tlearn: 0.3919727\ttotal: 11s\tremaining: 1.29s\n",
      "895:\tlearn: 0.3919241\ttotal: 11s\tremaining: 1.28s\n",
      "896:\tlearn: 0.3918816\ttotal: 11s\tremaining: 1.27s\n",
      "897:\tlearn: 0.3918082\ttotal: 11s\tremaining: 1.25s\n",
      "898:\tlearn: 0.3917647\ttotal: 11.1s\tremaining: 1.24s\n",
      "899:\tlearn: 0.3916986\ttotal: 11.1s\tremaining: 1.23s\n",
      "900:\tlearn: 0.3916512\ttotal: 11.1s\tremaining: 1.22s\n",
      "901:\tlearn: 0.3916147\ttotal: 11.1s\tremaining: 1.2s\n",
      "902:\tlearn: 0.3915494\ttotal: 11.1s\tremaining: 1.19s\n",
      "903:\tlearn: 0.3914693\ttotal: 11.1s\tremaining: 1.18s\n",
      "904:\tlearn: 0.3913953\ttotal: 11.1s\tremaining: 1.17s\n",
      "905:\tlearn: 0.3913159\ttotal: 11.1s\tremaining: 1.16s\n",
      "906:\tlearn: 0.3912679\ttotal: 11.1s\tremaining: 1.14s\n",
      "907:\tlearn: 0.3911870\ttotal: 11.2s\tremaining: 1.13s\n",
      "908:\tlearn: 0.3911364\ttotal: 11.2s\tremaining: 1.12s\n",
      "909:\tlearn: 0.3910861\ttotal: 11.2s\tremaining: 1.1s\n",
      "910:\tlearn: 0.3910439\ttotal: 11.2s\tremaining: 1.09s\n",
      "911:\tlearn: 0.3909412\ttotal: 11.2s\tremaining: 1.08s\n",
      "912:\tlearn: 0.3908999\ttotal: 11.2s\tremaining: 1.07s\n",
      "913:\tlearn: 0.3908164\ttotal: 11.2s\tremaining: 1.06s\n",
      "914:\tlearn: 0.3907774\ttotal: 11.2s\tremaining: 1.04s\n",
      "915:\tlearn: 0.3907132\ttotal: 11.2s\tremaining: 1.03s\n",
      "916:\tlearn: 0.3906764\ttotal: 11.3s\tremaining: 1.02s\n",
      "917:\tlearn: 0.3906061\ttotal: 11.3s\tremaining: 1.01s\n",
      "918:\tlearn: 0.3905777\ttotal: 11.3s\tremaining: 995ms\n",
      "919:\tlearn: 0.3905296\ttotal: 11.3s\tremaining: 982ms\n",
      "920:\tlearn: 0.3904769\ttotal: 11.3s\tremaining: 970ms\n",
      "921:\tlearn: 0.3904334\ttotal: 11.3s\tremaining: 958ms\n",
      "922:\tlearn: 0.3903673\ttotal: 11.3s\tremaining: 945ms\n",
      "923:\tlearn: 0.3903369\ttotal: 11.3s\tremaining: 933ms\n",
      "924:\tlearn: 0.3902731\ttotal: 11.4s\tremaining: 921ms\n",
      "925:\tlearn: 0.3902332\ttotal: 11.4s\tremaining: 908ms\n",
      "926:\tlearn: 0.3901734\ttotal: 11.4s\tremaining: 896ms\n",
      "927:\tlearn: 0.3901021\ttotal: 11.4s\tremaining: 884ms\n",
      "928:\tlearn: 0.3900800\ttotal: 11.4s\tremaining: 872ms\n",
      "929:\tlearn: 0.3900037\ttotal: 11.4s\tremaining: 859ms\n",
      "930:\tlearn: 0.3899733\ttotal: 11.4s\tremaining: 847ms\n",
      "931:\tlearn: 0.3899202\ttotal: 11.4s\tremaining: 835ms\n",
      "932:\tlearn: 0.3898784\ttotal: 11.5s\tremaining: 822ms\n",
      "933:\tlearn: 0.3898347\ttotal: 11.5s\tremaining: 810ms\n",
      "934:\tlearn: 0.3897404\ttotal: 11.5s\tremaining: 798ms\n",
      "935:\tlearn: 0.3896750\ttotal: 11.5s\tremaining: 785ms\n",
      "936:\tlearn: 0.3896516\ttotal: 11.5s\tremaining: 773ms\n",
      "937:\tlearn: 0.3895834\ttotal: 11.5s\tremaining: 761ms\n",
      "938:\tlearn: 0.3895237\ttotal: 11.5s\tremaining: 749ms\n",
      "939:\tlearn: 0.3894921\ttotal: 11.5s\tremaining: 736ms\n",
      "940:\tlearn: 0.3894475\ttotal: 11.5s\tremaining: 724ms\n",
      "941:\tlearn: 0.3893925\ttotal: 11.6s\tremaining: 712ms\n",
      "942:\tlearn: 0.3893579\ttotal: 11.6s\tremaining: 699ms\n",
      "943:\tlearn: 0.3892963\ttotal: 11.6s\tremaining: 687ms\n",
      "944:\tlearn: 0.3892315\ttotal: 11.6s\tremaining: 675ms\n",
      "945:\tlearn: 0.3891814\ttotal: 11.6s\tremaining: 663ms\n",
      "946:\tlearn: 0.3891608\ttotal: 11.6s\tremaining: 650ms\n",
      "947:\tlearn: 0.3891408\ttotal: 11.6s\tremaining: 638ms\n",
      "948:\tlearn: 0.3891225\ttotal: 11.6s\tremaining: 626ms\n",
      "949:\tlearn: 0.3890246\ttotal: 11.7s\tremaining: 613ms\n",
      "950:\tlearn: 0.3889857\ttotal: 11.7s\tremaining: 601ms\n",
      "951:\tlearn: 0.3889240\ttotal: 11.7s\tremaining: 589ms\n",
      "952:\tlearn: 0.3888433\ttotal: 11.7s\tremaining: 576ms\n",
      "953:\tlearn: 0.3888040\ttotal: 11.7s\tremaining: 565ms\n",
      "954:\tlearn: 0.3887679\ttotal: 11.7s\tremaining: 552ms\n",
      "955:\tlearn: 0.3886885\ttotal: 11.7s\tremaining: 540ms\n",
      "956:\tlearn: 0.3886261\ttotal: 11.7s\tremaining: 528ms\n",
      "957:\tlearn: 0.3885868\ttotal: 11.8s\tremaining: 515ms\n",
      "958:\tlearn: 0.3885335\ttotal: 11.8s\tremaining: 503ms\n",
      "959:\tlearn: 0.3884573\ttotal: 11.8s\tremaining: 491ms\n",
      "960:\tlearn: 0.3883888\ttotal: 11.8s\tremaining: 479ms\n",
      "961:\tlearn: 0.3883273\ttotal: 11.8s\tremaining: 466ms\n",
      "962:\tlearn: 0.3882643\ttotal: 11.8s\tremaining: 454ms\n",
      "963:\tlearn: 0.3882252\ttotal: 11.8s\tremaining: 442ms\n",
      "964:\tlearn: 0.3881851\ttotal: 11.8s\tremaining: 430ms\n",
      "965:\tlearn: 0.3881189\ttotal: 11.9s\tremaining: 417ms\n",
      "966:\tlearn: 0.3880343\ttotal: 11.9s\tremaining: 405ms\n",
      "967:\tlearn: 0.3879966\ttotal: 11.9s\tremaining: 393ms\n",
      "968:\tlearn: 0.3879530\ttotal: 11.9s\tremaining: 380ms\n",
      "969:\tlearn: 0.3879045\ttotal: 11.9s\tremaining: 368ms\n",
      "970:\tlearn: 0.3878597\ttotal: 11.9s\tremaining: 356ms\n",
      "971:\tlearn: 0.3878567\ttotal: 11.9s\tremaining: 344ms\n",
      "972:\tlearn: 0.3877908\ttotal: 11.9s\tremaining: 331ms\n",
      "973:\tlearn: 0.3877676\ttotal: 11.9s\tremaining: 319ms\n",
      "974:\tlearn: 0.3876982\ttotal: 12s\tremaining: 307ms\n",
      "975:\tlearn: 0.3876730\ttotal: 12s\tremaining: 294ms\n",
      "976:\tlearn: 0.3876279\ttotal: 12s\tremaining: 282ms\n",
      "977:\tlearn: 0.3875654\ttotal: 12s\tremaining: 270ms\n",
      "978:\tlearn: 0.3874923\ttotal: 12s\tremaining: 258ms\n",
      "979:\tlearn: 0.3874147\ttotal: 12s\tremaining: 245ms\n",
      "980:\tlearn: 0.3873758\ttotal: 12s\tremaining: 233ms\n",
      "981:\tlearn: 0.3873226\ttotal: 12s\tremaining: 221ms\n",
      "982:\tlearn: 0.3872737\ttotal: 12.1s\tremaining: 208ms\n",
      "983:\tlearn: 0.3872191\ttotal: 12.1s\tremaining: 196ms\n",
      "984:\tlearn: 0.3871252\ttotal: 12.1s\tremaining: 184ms\n",
      "985:\tlearn: 0.3870807\ttotal: 12.1s\tremaining: 172ms\n",
      "986:\tlearn: 0.3870042\ttotal: 12.1s\tremaining: 160ms\n",
      "987:\tlearn: 0.3869766\ttotal: 12.1s\tremaining: 147ms\n",
      "988:\tlearn: 0.3869625\ttotal: 12.1s\tremaining: 135ms\n",
      "989:\tlearn: 0.3868916\ttotal: 12.2s\tremaining: 123ms\n",
      "990:\tlearn: 0.3868552\ttotal: 12.2s\tremaining: 111ms\n",
      "991:\tlearn: 0.3867686\ttotal: 12.2s\tremaining: 98.2ms\n",
      "992:\tlearn: 0.3867483\ttotal: 12.2s\tremaining: 85.9ms\n",
      "993:\tlearn: 0.3866561\ttotal: 12.2s\tremaining: 73.7ms\n",
      "994:\tlearn: 0.3866351\ttotal: 12.2s\tremaining: 61.4ms\n",
      "995:\tlearn: 0.3865617\ttotal: 12.2s\tremaining: 49.1ms\n",
      "996:\tlearn: 0.3865334\ttotal: 12.2s\tremaining: 36.8ms\n",
      "997:\tlearn: 0.3864784\ttotal: 12.2s\tremaining: 24.5ms\n",
      "998:\tlearn: 0.3864577\ttotal: 12.3s\tremaining: 12.3ms\n",
      "999:\tlearn: 0.3863800\ttotal: 12.3s\tremaining: 0us\n"
     ]
    },
    {
     "name": "stdout",
     "output_type": "stream",
     "text": [
      "Done\n"
     ]
    }
   ],
   "source": [
    "from catboost import CatBoostClassifier\n",
    "cat_model=CatBoostClassifier(random_state=219)\n",
    "cat_model.fit(X_train, Y_train)\n",
    "print(\"Done\")\n",
    "predictions_cat = cat_model.predict_proba(X_test)[:,1]"
   ]
  },
  {
   "cell_type": "code",
   "execution_count": 177,
   "metadata": {},
   "outputs": [
    {
     "name": "stdout",
     "output_type": "stream",
     "text": [
      "生成文件\n"
     ]
    }
   ],
   "source": [
    "predictions_final=0.3*predictions_xgb+0.4*predictions_lgB+0.3*predictions_cat\n",
    "submission_final = pd.DataFrame({'Id':ID,'Label':predictions_final})\n",
    "submission_final.to_csv('Fin_tech_final3.txt',index=False,header=False,sep='\\t')\n",
    "print(\"生成文件\")"
   ]
  },
  {
   "cell_type": "code",
   "execution_count": 178,
   "metadata": {},
   "outputs": [],
   "source": [
    "# import lightgbm as lgb\n",
    "# plt.figure(figsize=(30,20))\n",
    "# lgb.plot_importance(lgB_model, max_num_features=50)\n",
    "# plt.show()"
   ]
  },
  {
   "cell_type": "code",
   "execution_count": 179,
   "metadata": {},
   "outputs": [],
   "source": [
    "# z=list(zip(train_data_X.columns.values,m))\n",
    "# z"
   ]
  },
  {
   "cell_type": "code",
   "execution_count": 180,
   "metadata": {},
   "outputs": [],
   "source": [
    "# plt.figure(figsize=(20,10))\n",
    "# sns.barplot(x=train_data_X.columns.values,y=m)"
   ]
  },
  {
   "cell_type": "code",
   "execution_count": 181,
   "metadata": {},
   "outputs": [],
   "source": [
    "# plt.figure(figsize=(40,40))\n",
    "# plt.title('Pearson Correlation of Features', y=1.05, size=15)\n",
    "# sns.heatmap(train_data.astype(float).corr(),linewidths=0.1,vmax=1.0, \n",
    "#             square=True, cmap=plt.cm.RdBu, linecolor='white', annot=True)"
   ]
  },
  {
   "cell_type": "code",
   "execution_count": null,
   "metadata": {},
   "outputs": [],
   "source": []
  }
 ],
 "metadata": {
  "kernelspec": {
   "display_name": "Python 3",
   "language": "python",
   "name": "python3"
  },
  "language_info": {
   "codemirror_mode": {
    "name": "ipython",
    "version": 3
   },
   "file_extension": ".py",
   "mimetype": "text/x-python",
   "name": "python",
   "nbconvert_exporter": "python",
   "pygments_lexer": "ipython3",
   "version": "3.8.8"
  },
  "toc": {
   "base_numbering": 1,
   "nav_menu": {},
   "number_sections": true,
   "sideBar": true,
   "skip_h1_title": false,
   "title_cell": "Table of Contents",
   "title_sidebar": "Contents",
   "toc_cell": false,
   "toc_position": {},
   "toc_section_display": true,
   "toc_window_display": false
  }
 },
 "nbformat": 4,
 "nbformat_minor": 2
}
